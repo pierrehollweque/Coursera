{
 "cells": [
  {
   "cell_type": "code",
   "execution_count": 1,
   "id": "45c39834",
   "metadata": {},
   "outputs": [],
   "source": [
    "import pandas as pd\n",
    "sdata = {'Ohio': 35000, 'Texas': 71000, 'Oregon': 16000, 'Utah': 5000}\n",
    "obj1 = pd.Series(sdata)\n",
    "states = ['California', 'Ohio', 'Oregon', 'Texas']\n",
    "obj2 = pd.Series(sdata, index=states)\n",
    "obj3 = pd.isnull(obj2)"
   ]
  },
  {
   "cell_type": "code",
   "execution_count": 5,
   "id": "65be5752",
   "metadata": {},
   "outputs": [
    {
     "data": {
      "text/plain": [
       "True"
      ]
     },
     "execution_count": 5,
     "metadata": {},
     "output_type": "execute_result"
    }
   ],
   "source": [
    "obj3['California']\n"
   ]
  },
  {
   "cell_type": "code",
   "execution_count": 6,
   "id": "d000b95a",
   "metadata": {},
   "outputs": [
    {
     "data": {
      "text/plain": [
       "True"
      ]
     },
     "execution_count": 6,
     "metadata": {},
     "output_type": "execute_result"
    }
   ],
   "source": [
    "import math\n",
    "math.isnan(obj2['California'])"
   ]
  },
  {
   "cell_type": "code",
   "execution_count": 7,
   "id": "169f4cfe",
   "metadata": {},
   "outputs": [
    {
     "data": {
      "text/plain": [
       "False"
      ]
     },
     "execution_count": 7,
     "metadata": {},
     "output_type": "execute_result"
    }
   ],
   "source": [
    "obj2['California'] == None"
   ]
  },
  {
   "cell_type": "code",
   "execution_count": 8,
   "id": "621876c0",
   "metadata": {},
   "outputs": [
    {
     "data": {
      "text/plain": [
       "True"
      ]
     },
     "execution_count": 8,
     "metadata": {},
     "output_type": "execute_result"
    }
   ],
   "source": [
    "x = obj2['California']\n",
    "obj2['California'] != x"
   ]
  },
  {
   "cell_type": "code",
   "execution_count": 9,
   "id": "4348c0f1",
   "metadata": {},
   "outputs": [],
   "source": [
    "import pandas as pd\n",
    "d = {'1': 'Alice','2': 'Bob','3': 'Rita','4': 'Molly','5': 'Ryan'}\n",
    "S = pd.Series(d)"
   ]
  },
  {
   "cell_type": "code",
   "execution_count": 17,
   "id": "0cdcbc8b",
   "metadata": {},
   "outputs": [
    {
     "data": {
      "text/plain": [
       "1    Alice\n",
       "2      Bob\n",
       "3     Rita\n",
       "dtype: object"
      ]
     },
     "execution_count": 17,
     "metadata": {},
     "output_type": "execute_result"
    }
   ],
   "source": [
    "S.iloc[0:3]\n"
   ]
  },
  {
   "cell_type": "code",
   "execution_count": 2,
   "id": "2321bc21",
   "metadata": {},
   "outputs": [
    {
     "ename": "ValueError",
     "evalue": "No axis named column for object type DataFrame",
     "output_type": "error",
     "traceback": [
      "\u001b[1;31m---------------------------------------------------------------------------\u001b[0m",
      "\u001b[1;31mKeyError\u001b[0m                                  Traceback (most recent call last)",
      "File \u001b[1;32mc:\\Users\\Pierre\\anaconda3\\lib\\site-packages\\pandas\\core\\generic.py:550\u001b[0m, in \u001b[0;36mNDFrame._get_axis_number\u001b[1;34m(cls, axis)\u001b[0m\n\u001b[0;32m    549\u001b[0m \u001b[39mtry\u001b[39;00m:\n\u001b[1;32m--> 550\u001b[0m     \u001b[39mreturn\u001b[39;00m \u001b[39mcls\u001b[39;49m\u001b[39m.\u001b[39;49m_AXIS_TO_AXIS_NUMBER[axis]\n\u001b[0;32m    551\u001b[0m \u001b[39mexcept\u001b[39;00m \u001b[39mKeyError\u001b[39;00m:\n",
      "\u001b[1;31mKeyError\u001b[0m: 'column'",
      "\nDuring handling of the above exception, another exception occurred:\n",
      "\u001b[1;31mValueError\u001b[0m                                Traceback (most recent call last)",
      "\u001b[1;32mc:\\Users\\Pierre\\Documents\\MOOC\\Coursera\\Applied Data Science with Python Specialization\\Introduction to Data Science in Python\\quizz2.ipynb Cell 8\u001b[0m in \u001b[0;36m<cell line: 7>\u001b[1;34m()\u001b[0m\n\u001b[0;32m      <a href='vscode-notebook-cell:/c%3A/Users/Pierre/Documents/MOOC/Coursera/Applied%20Data%20Science%20with%20Python%20Specialization/Introduction%20to%20Data%20Science%20in%20Python/quizz2.ipynb#X10sZmlsZQ%3D%3D?line=2'>3</a>\u001b[0m \u001b[39mimport\u001b[39;00m \u001b[39mre\u001b[39;00m\n\u001b[0;32m      <a href='vscode-notebook-cell:/c%3A/Users/Pierre/Documents/MOOC/Coursera/Applied%20Data%20Science%20with%20Python%20Specialization/Introduction%20to%20Data%20Science%20in%20Python/quizz2.ipynb#X10sZmlsZQ%3D%3D?line=4'>5</a>\u001b[0m df\u001b[39m=\u001b[39mpd\u001b[39m.\u001b[39mread_excel(\u001b[39m'\u001b[39m\u001b[39massets/Energy Indicators.xls\u001b[39m\u001b[39m'\u001b[39m,header\u001b[39m=\u001b[39m\u001b[39m17\u001b[39m,usecols\u001b[39m=\u001b[39m\u001b[39m\"\u001b[39m\u001b[39mC:F\u001b[39m\u001b[39m\"\u001b[39m,skipfooter\u001b[39m=\u001b[39m\u001b[39m38\u001b[39m,names\u001b[39m=\u001b[39m[\u001b[39m'\u001b[39m\u001b[39mCountry\u001b[39m\u001b[39m'\u001b[39m, \u001b[39m'\u001b[39m\u001b[39mEnergy Supply\u001b[39m\u001b[39m'\u001b[39m, \u001b[39m'\u001b[39m\u001b[39mEnergy Supply per Capita\u001b[39m\u001b[39m'\u001b[39m, \u001b[39m'\u001b[39m\u001b[39m%\u001b[39m\u001b[39m Renewable\u001b[39m\u001b[39m'\u001b[39m])\n\u001b[1;32m----> <a href='vscode-notebook-cell:/c%3A/Users/Pierre/Documents/MOOC/Coursera/Applied%20Data%20Science%20with%20Python%20Specialization/Introduction%20to%20Data%20Science%20in%20Python/quizz2.ipynb#X10sZmlsZQ%3D%3D?line=6'>7</a>\u001b[0m df \u001b[39m=\u001b[39m df\u001b[39m.\u001b[39;49mrename(mapper \u001b[39m=\u001b[39;49m \u001b[39mlambda\u001b[39;49;00m x: x\u001b[39m.\u001b[39;49mupper(), axis \u001b[39m=\u001b[39;49m \u001b[39m'\u001b[39;49m\u001b[39mcolumn\u001b[39;49m\u001b[39m'\u001b[39;49m)\n\u001b[0;32m      <a href='vscode-notebook-cell:/c%3A/Users/Pierre/Documents/MOOC/Coursera/Applied%20Data%20Science%20with%20Python%20Specialization/Introduction%20to%20Data%20Science%20in%20Python/quizz2.ipynb#X10sZmlsZQ%3D%3D?line=7'>8</a>\u001b[0m df\n\u001b[0;32m     <a href='vscode-notebook-cell:/c%3A/Users/Pierre/Documents/MOOC/Coursera/Applied%20Data%20Science%20with%20Python%20Specialization/Introduction%20to%20Data%20Science%20in%20Python/quizz2.ipynb#X10sZmlsZQ%3D%3D?line=11'>12</a>\u001b[0m df\u001b[39m.\u001b[39mrename(mapper \u001b[39m=\u001b[39m \u001b[39mlambda\u001b[39;00m x: x\u001b[39m.\u001b[39mupper(), axis \u001b[39m=\u001b[39m \u001b[39m1\u001b[39m)\n",
      "File \u001b[1;32mc:\\Users\\Pierre\\anaconda3\\lib\\site-packages\\pandas\\core\\frame.py:5083\u001b[0m, in \u001b[0;36mDataFrame.rename\u001b[1;34m(self, mapper, index, columns, axis, copy, inplace, level, errors)\u001b[0m\n\u001b[0;32m   4964\u001b[0m \u001b[39mdef\u001b[39;00m \u001b[39mrename\u001b[39m(\n\u001b[0;32m   4965\u001b[0m     \u001b[39mself\u001b[39m,\n\u001b[0;32m   4966\u001b[0m     mapper: Renamer \u001b[39m|\u001b[39m \u001b[39mNone\u001b[39;00m \u001b[39m=\u001b[39m \u001b[39mNone\u001b[39;00m,\n\u001b[1;32m   (...)\u001b[0m\n\u001b[0;32m   4974\u001b[0m     errors: \u001b[39mstr\u001b[39m \u001b[39m=\u001b[39m \u001b[39m\"\u001b[39m\u001b[39mignore\u001b[39m\u001b[39m\"\u001b[39m,\n\u001b[0;32m   4975\u001b[0m ) \u001b[39m-\u001b[39m\u001b[39m>\u001b[39m DataFrame \u001b[39m|\u001b[39m \u001b[39mNone\u001b[39;00m:\n\u001b[0;32m   4976\u001b[0m     \u001b[39m\"\"\"\u001b[39;00m\n\u001b[0;32m   4977\u001b[0m \u001b[39m    Alter axes labels.\u001b[39;00m\n\u001b[0;32m   4978\u001b[0m \n\u001b[1;32m   (...)\u001b[0m\n\u001b[0;32m   5081\u001b[0m \u001b[39m    4  3  6\u001b[39;00m\n\u001b[0;32m   5082\u001b[0m \u001b[39m    \"\"\"\u001b[39;00m\n\u001b[1;32m-> 5083\u001b[0m     \u001b[39mreturn\u001b[39;00m \u001b[39msuper\u001b[39;49m()\u001b[39m.\u001b[39;49m_rename(\n\u001b[0;32m   5084\u001b[0m         mapper\u001b[39m=\u001b[39;49mmapper,\n\u001b[0;32m   5085\u001b[0m         index\u001b[39m=\u001b[39;49mindex,\n\u001b[0;32m   5086\u001b[0m         columns\u001b[39m=\u001b[39;49mcolumns,\n\u001b[0;32m   5087\u001b[0m         axis\u001b[39m=\u001b[39;49maxis,\n\u001b[0;32m   5088\u001b[0m         copy\u001b[39m=\u001b[39;49mcopy,\n\u001b[0;32m   5089\u001b[0m         inplace\u001b[39m=\u001b[39;49minplace,\n\u001b[0;32m   5090\u001b[0m         level\u001b[39m=\u001b[39;49mlevel,\n\u001b[0;32m   5091\u001b[0m         errors\u001b[39m=\u001b[39;49merrors,\n\u001b[0;32m   5092\u001b[0m     )\n",
      "File \u001b[1;32mc:\\Users\\Pierre\\anaconda3\\lib\\site-packages\\pandas\\core\\generic.py:1122\u001b[0m, in \u001b[0;36mNDFrame._rename\u001b[1;34m(self, mapper, index, columns, axis, copy, inplace, level, errors)\u001b[0m\n\u001b[0;32m   1117\u001b[0m         \u001b[39mraise\u001b[39;00m \u001b[39mTypeError\u001b[39;00m(\n\u001b[0;32m   1118\u001b[0m             \u001b[39m\"\u001b[39m\u001b[39mCannot specify both \u001b[39m\u001b[39m'\u001b[39m\u001b[39mmapper\u001b[39m\u001b[39m'\u001b[39m\u001b[39m and any of \u001b[39m\u001b[39m'\u001b[39m\u001b[39mindex\u001b[39m\u001b[39m'\u001b[39m\u001b[39m or \u001b[39m\u001b[39m'\u001b[39m\u001b[39mcolumns\u001b[39m\u001b[39m'\u001b[39m\u001b[39m\"\u001b[39m\n\u001b[0;32m   1119\u001b[0m         )\n\u001b[0;32m   1120\u001b[0m \u001b[39melse\u001b[39;00m:\n\u001b[0;32m   1121\u001b[0m     \u001b[39m# use the mapper argument\u001b[39;00m\n\u001b[1;32m-> 1122\u001b[0m     \u001b[39mif\u001b[39;00m axis \u001b[39mand\u001b[39;00m \u001b[39mself\u001b[39;49m\u001b[39m.\u001b[39;49m_get_axis_number(axis) \u001b[39m==\u001b[39m \u001b[39m1\u001b[39m:\n\u001b[0;32m   1123\u001b[0m         columns \u001b[39m=\u001b[39m mapper\n\u001b[0;32m   1124\u001b[0m     \u001b[39melse\u001b[39;00m:\n",
      "File \u001b[1;32mc:\\Users\\Pierre\\anaconda3\\lib\\site-packages\\pandas\\core\\generic.py:552\u001b[0m, in \u001b[0;36mNDFrame._get_axis_number\u001b[1;34m(cls, axis)\u001b[0m\n\u001b[0;32m    550\u001b[0m     \u001b[39mreturn\u001b[39;00m \u001b[39mcls\u001b[39m\u001b[39m.\u001b[39m_AXIS_TO_AXIS_NUMBER[axis]\n\u001b[0;32m    551\u001b[0m \u001b[39mexcept\u001b[39;00m \u001b[39mKeyError\u001b[39;00m:\n\u001b[1;32m--> 552\u001b[0m     \u001b[39mraise\u001b[39;00m \u001b[39mValueError\u001b[39;00m(\u001b[39mf\u001b[39m\u001b[39m\"\u001b[39m\u001b[39mNo axis named \u001b[39m\u001b[39m{\u001b[39;00maxis\u001b[39m}\u001b[39;00m\u001b[39m for object type \u001b[39m\u001b[39m{\u001b[39;00m\u001b[39mcls\u001b[39m\u001b[39m.\u001b[39m\u001b[39m__name__\u001b[39m\u001b[39m}\u001b[39;00m\u001b[39m\"\u001b[39m)\n",
      "\u001b[1;31mValueError\u001b[0m: No axis named column for object type DataFrame"
     ]
    }
   ],
   "source": [
    "import pandas as pd\n",
    "import numpy as np\n",
    "import re\n",
    "\n",
    "df=pd.read_excel('assets/Energy Indicators.xls',header=17,usecols=\"C:F\",skipfooter=38,names=['Country', 'Energy Supply', 'Energy Supply per Capita', '% Renewable'])\n",
    "\n",
    "df = df.rename(mapper = lambda x: x.upper(), axis = 'column')\n",
    "df\n",
    "\n",
    "\n",
    "\n",
    "df.rename(mapper = lambda x: x.upper(), axis = 1)\n",
    "\n",
    "\n",
    "df.rename(mapper = lambda x: x.upper(), axis = 1, inplace = True)\n",
    "\n",
    "\n",
    "df = df.rename(mapper = lambda x: x.upper(), axis = 1)\n",
    "\n",
    "\n",
    "df = df.rename(mapper = lambda x: x.upper(), axis = 'columns')"
   ]
  },
  {
   "cell_type": "code",
   "execution_count": null,
   "id": "7053de14",
   "metadata": {},
   "outputs": [],
   "source": []
  }
 ],
 "metadata": {
  "kernelspec": {
   "display_name": "Python 3 (ipykernel)",
   "language": "python",
   "name": "python3"
  },
  "language_info": {
   "codemirror_mode": {
    "name": "ipython",
    "version": 3
   },
   "file_extension": ".py",
   "mimetype": "text/x-python",
   "name": "python",
   "nbconvert_exporter": "python",
   "pygments_lexer": "ipython3",
   "version": "3.9.12"
  }
 },
 "nbformat": 4,
 "nbformat_minor": 5
}
