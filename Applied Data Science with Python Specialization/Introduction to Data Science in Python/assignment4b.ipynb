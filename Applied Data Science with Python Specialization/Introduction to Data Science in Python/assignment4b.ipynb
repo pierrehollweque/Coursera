





<!DOCTYPE html>
<html lang="en" data-color-mode="auto" data-light-theme="light" data-dark-theme="dark"  data-a11y-animated-images="system" data-a11y-link-underlines="false">


  <head>
    <meta charset="utf-8">
  <link rel="dns-prefetch" href="https://github.githubassets.com">
  <link rel="dns-prefetch" href="https://avatars.githubusercontent.com">
  <link rel="dns-prefetch" href="https://github-cloud.s3.amazonaws.com">
  <link rel="dns-prefetch" href="https://user-images.githubusercontent.com/">
  <link rel="preconnect" href="https://github.githubassets.com" crossorigin>
  <link rel="preconnect" href="https://avatars.githubusercontent.com">

  


  <link crossorigin="anonymous" media="all" rel="stylesheet" href="https://github.githubassets.com/assets/light-a09cef873428.css" /><link crossorigin="anonymous" media="all" rel="stylesheet" href="https://github.githubassets.com/assets/dark-5d486a4ede8e.css" /><link data-color-theme="dark_dimmed" crossorigin="anonymous" media="all" rel="stylesheet" data-href="https://github.githubassets.com/assets/dark_dimmed-27c8d635e4e5.css" /><link data-color-theme="dark_high_contrast" crossorigin="anonymous" media="all" rel="stylesheet" data-href="https://github.githubassets.com/assets/dark_high_contrast-8438e75afd36.css" /><link data-color-theme="dark_colorblind" crossorigin="anonymous" media="all" rel="stylesheet" data-href="https://github.githubassets.com/assets/dark_colorblind-bf5665b96628.css" /><link data-color-theme="light_colorblind" crossorigin="anonymous" media="all" rel="stylesheet" data-href="https://github.githubassets.com/assets/light_colorblind-c414b5ba1dce.css" /><link data-color-theme="light_high_contrast" crossorigin="anonymous" media="all" rel="stylesheet" data-href="https://github.githubassets.com/assets/light_high_contrast-e5868b7374db.css" /><link data-color-theme="light_tritanopia" crossorigin="anonymous" media="all" rel="stylesheet" data-href="https://github.githubassets.com/assets/light_tritanopia-299ac9c64ec0.css" /><link data-color-theme="dark_tritanopia" crossorigin="anonymous" media="all" rel="stylesheet" data-href="https://github.githubassets.com/assets/dark_tritanopia-3a26e78ad0ff.css" />
  
    <link crossorigin="anonymous" media="all" rel="stylesheet" href="https://github.githubassets.com/assets/primer-primitives-6143c8f97ed1.css" />
    <link crossorigin="anonymous" media="all" rel="stylesheet" href="https://github.githubassets.com/assets/primer-047ee6293fcd.css" />
    <link crossorigin="anonymous" media="all" rel="stylesheet" href="https://github.githubassets.com/assets/global-1ef6adcf9af4.css" />
    <link crossorigin="anonymous" media="all" rel="stylesheet" href="https://github.githubassets.com/assets/github-0eb2e2dcb344.css" />
  <link crossorigin="anonymous" media="all" rel="stylesheet" href="https://github.githubassets.com/assets/code-5f081dfefcb9.css" />

  

  <script type="application/json" id="client-env">{"locale":"en","featureFlags":["failbot_handle_non_errors","fix_react_title","geojson_azure_maps","image_metric_tracking","turbo_experiment_risky","sample_network_conn_type"]}</script>
<script crossorigin="anonymous" defer="defer" type="application/javascript" src="https://github.githubassets.com/assets/wp-runtime-e2b37b54a95b.js"></script>
<script crossorigin="anonymous" defer="defer" type="application/javascript" src="https://github.githubassets.com/assets/vendors-node_modules_dompurify_dist_purify_js-64d590970fa6.js"></script>
<script crossorigin="anonymous" defer="defer" type="application/javascript" src="https://github.githubassets.com/assets/vendors-node_modules_stacktrace-parser_dist_stack-trace-parser_esm_js-node_modules_github_bro-a4c183-18bf85b8e9f4.js"></script>
<script crossorigin="anonymous" defer="defer" type="application/javascript" src="https://github.githubassets.com/assets/ui_packages_soft-nav_soft-nav_ts-df17d5597d8f.js"></script>
<script crossorigin="anonymous" defer="defer" type="application/javascript" src="https://github.githubassets.com/assets/environment-509b58e05b9f.js"></script>
<script crossorigin="anonymous" defer="defer" type="application/javascript" src="https://github.githubassets.com/assets/vendors-node_modules_github_selector-observer_dist_index_esm_js-2646a2c533e3.js"></script>
<script crossorigin="anonymous" defer="defer" type="application/javascript" src="https://github.githubassets.com/assets/vendors-node_modules_primer_behaviors_dist_esm_focus-zone_js-d55308df5023.js"></script>
<script crossorigin="anonymous" defer="defer" type="application/javascript" src="https://github.githubassets.com/assets/vendors-node_modules_github_relative-time-element_dist_index_js-99e288659d4f.js"></script>
<script crossorigin="anonymous" defer="defer" type="application/javascript" src="https://github.githubassets.com/assets/vendors-node_modules_fzy_js_index_js-node_modules_github_markdown-toolbar-element_dist_index_js-d2119e75298d.js"></script>
<script crossorigin="anonymous" defer="defer" type="application/javascript" src="https://github.githubassets.com/assets/vendors-node_modules_delegated-events_dist_index_js-node_modules_github_auto-complete-element-5b3870-9b38c0812424.js"></script>
<script crossorigin="anonymous" defer="defer" type="application/javascript" src="https://github.githubassets.com/assets/vendors-node_modules_github_filter-input-element_dist_index_js-node_modules_github_remote-inp-8873b7-5771678648e0.js"></script>
<script crossorigin="anonymous" defer="defer" type="application/javascript" src="https://github.githubassets.com/assets/vendors-node_modules_github_file-attachment-element_dist_index_js-node_modules_primer_view-co-bdc901-0fe41db0acb6.js"></script>
<script crossorigin="anonymous" defer="defer" type="application/javascript" src="https://github.githubassets.com/assets/github-elements-6466cd5dafb5.js"></script>
<script crossorigin="anonymous" defer="defer" type="application/javascript" src="https://github.githubassets.com/assets/element-registry-f942550bbbc0.js"></script>
<script crossorigin="anonymous" defer="defer" type="application/javascript" src="https://github.githubassets.com/assets/vendors-node_modules_lit-html_lit-html_js-9d9fe1859ce5.js"></script>
<script crossorigin="anonymous" defer="defer" type="application/javascript" src="https://github.githubassets.com/assets/vendors-node_modules_github_hydro-analytics-client_dist_analytics-client_js-node_modules_gith-f3aee1-fd3c22610e40.js"></script>
<script crossorigin="anonymous" defer="defer" type="application/javascript" src="https://github.githubassets.com/assets/vendors-node_modules_github_mini-throttle_dist_index_js-node_modules_github_alive-client_dist-bf5aa2-4aefce0fc3c8.js"></script>
<script crossorigin="anonymous" defer="defer" type="application/javascript" src="https://github.githubassets.com/assets/vendors-node_modules_morphdom_dist_morphdom-esm_js-b1fdd7158cf0.js"></script>
<script crossorigin="anonymous" defer="defer" type="application/javascript" src="https://github.githubassets.com/assets/vendors-node_modules_github_turbo_dist_turbo_es2017-esm_js-1f4793023fcd.js"></script>
<script crossorigin="anonymous" defer="defer" type="application/javascript" src="https://github.githubassets.com/assets/vendors-node_modules_github_remote-form_dist_index_js-node_modules_scroll-anchoring_dist_scro-52dc4b-e1e33bfc0b7e.js"></script>
<script crossorigin="anonymous" defer="defer" type="application/javascript" src="https://github.githubassets.com/assets/vendors-node_modules_color-convert_index_js-35b3ae68c408.js"></script>
<script crossorigin="anonymous" defer="defer" type="application/javascript" src="https://github.githubassets.com/assets/vendors-node_modules_github_paste-markdown_dist_index_esm_js-node_modules_github_quote-select-7a8e2b-f036384374ea.js"></script>
<script crossorigin="anonymous" defer="defer" type="application/javascript" src="https://github.githubassets.com/assets/app_assets_modules_github_details-dialog_ts-app_assets_modules_github_fetch_ts-9ca164041015.js"></script>
<script crossorigin="anonymous" defer="defer" type="application/javascript" src="https://github.githubassets.com/assets/app_assets_modules_github_updatable-content_ts-ui_packages_hydro-analytics_hydro-analytics_ts-e4da304b75e7.js"></script>
<script crossorigin="anonymous" defer="defer" type="application/javascript" src="https://github.githubassets.com/assets/app_assets_modules_github_onfocus_ts-app_assets_modules_github_sticky-scroll-into-view_ts-b88dcdb1ae32.js"></script>
<script crossorigin="anonymous" defer="defer" type="application/javascript" src="https://github.githubassets.com/assets/app_assets_modules_github_behaviors_task-list_ts-app_assets_modules_github_sso_ts-ui_packages-7d50ad-9491f2be61ee.js"></script>
<script crossorigin="anonymous" defer="defer" type="application/javascript" src="https://github.githubassets.com/assets/app_assets_modules_github_behaviors_ajax-error_ts-app_assets_modules_github_behaviors_include-2e2258-f7b8ad0ef997.js"></script>
<script crossorigin="anonymous" defer="defer" type="application/javascript" src="https://github.githubassets.com/assets/app_assets_modules_github_behaviors_commenting_edit_ts-app_assets_modules_github_behaviors_ht-83c235-f22ac6b94445.js"></script>
<script crossorigin="anonymous" defer="defer" type="application/javascript" src="https://github.githubassets.com/assets/behaviors-f55aba53a153.js"></script>
<script crossorigin="anonymous" defer="defer" type="application/javascript" src="https://github.githubassets.com/assets/vendors-node_modules_delegated-events_dist_index_js-node_modules_github_catalyst_lib_index_js-06ff531-fe0b8ccc90a5.js"></script>
<script crossorigin="anonymous" defer="defer" type="application/javascript" src="https://github.githubassets.com/assets/notifications-global-f57687007bfc.js"></script>
<script crossorigin="anonymous" defer="defer" type="application/javascript" src="https://github.githubassets.com/assets/code-menu-c743a13234fc.js"></script>
  
  <script crossorigin="anonymous" defer="defer" type="application/javascript" src="https://github.githubassets.com/assets/react-lib-210c4b5934c3.js"></script>
<script crossorigin="anonymous" defer="defer" type="application/javascript" src="https://github.githubassets.com/assets/vendors-node_modules_primer_octicons-react_dist_index_esm_js-node_modules_primer_react_lib-es-3db9ab-92b48e9538d1.js"></script>
<script crossorigin="anonymous" defer="defer" type="application/javascript" src="https://github.githubassets.com/assets/vendors-node_modules_primer_react_lib-esm_Box_Box_js-8d2713f90c9a.js"></script>
<script crossorigin="anonymous" defer="defer" type="application/javascript" src="https://github.githubassets.com/assets/vendors-node_modules_primer_react_lib-esm_Button_Button_js-node_modules_primer_react_lib-esm_-c2022e-70aff6ca05a9.js"></script>
<script crossorigin="anonymous" defer="defer" type="application/javascript" src="https://github.githubassets.com/assets/vendors-node_modules_primer_react_lib-esm_ActionList_index_js-8c48bb4bbbfd.js"></script>
<script crossorigin="anonymous" defer="defer" type="application/javascript" src="https://github.githubassets.com/assets/vendors-node_modules_primer_react_lib-esm_Button_index_js-node_modules_primer_react_lib-esm_O-133b0c-6f42d36f1de7.js"></script>
<script crossorigin="anonymous" defer="defer" type="application/javascript" src="https://github.githubassets.com/assets/vendors-node_modules_primer_react_lib-esm_TextInput_TextInput_js-47fe5c8a888d.js"></script>
<script crossorigin="anonymous" defer="defer" type="application/javascript" src="https://github.githubassets.com/assets/vendors-node_modules_primer_behaviors_dist_esm_scroll-into-view_js-node_modules_primer_react_-04bb1b-f1945840d2c2.js"></script>
<script crossorigin="anonymous" defer="defer" type="application/javascript" src="https://github.githubassets.com/assets/vendors-node_modules_primer_react_lib-esm_ActionMenu_js-f0cd24c33676.js"></script>
<script crossorigin="anonymous" defer="defer" type="application/javascript" src="https://github.githubassets.com/assets/vendors-node_modules_primer_react_lib-esm_FormControl_FormControl_js-18f66ddabc7e.js"></script>
<script crossorigin="anonymous" defer="defer" type="application/javascript" src="https://github.githubassets.com/assets/vendors-node_modules_react-router-dom_dist_index_js-4a785319b497.js"></script>
<script crossorigin="anonymous" defer="defer" type="application/javascript" src="https://github.githubassets.com/assets/vendors-node_modules_primer_react_lib-esm_PageLayout_PageLayout_js-e1b9e387eae0.js"></script>
<script crossorigin="anonymous" defer="defer" type="application/javascript" src="https://github.githubassets.com/assets/vendors-node_modules_primer_react_lib-esm_Avatar_Avatar_js-node_modules_primer_react_lib-esm_-164d19-d0aa1f9dd96e.js"></script>
<script crossorigin="anonymous" defer="defer" type="application/javascript" src="https://github.githubassets.com/assets/vendors-node_modules_primer_react_lib-esm_Dialog_js-node_modules_primer_react_lib-esm_TabNav_-8321f5-b06d451b5aac.js"></script>
<script crossorigin="anonymous" defer="defer" type="application/javascript" src="https://github.githubassets.com/assets/vendors-node_modules_primer_react_lib-esm_UnderlineNav2_index_js-f81b8e23600f.js"></script>
<script crossorigin="anonymous" defer="defer" type="application/javascript" src="https://github.githubassets.com/assets/vendors-node_modules_primer_react_lib-esm_TreeView_TreeView_js-d86950fa1004.js"></script>
<script crossorigin="anonymous" defer="defer" type="application/javascript" src="https://github.githubassets.com/assets/vendors-node_modules_primer_react_lib-esm_BranchName_BranchName_js-node_modules_primer_react_-463c3e-fc3f4069d511.js"></script>
<script crossorigin="anonymous" defer="defer" type="application/javascript" src="https://github.githubassets.com/assets/vendors-node_modules_primer_react_lib-esm_AvatarStack_AvatarStack_js-node_modules_primer_reac-957af0-600840646271.js"></script>
<script crossorigin="anonymous" defer="defer" type="application/javascript" src="https://github.githubassets.com/assets/ui_packages_react-core_create-browser-history_ts-ui_packages_react-core_deferred-registry_ts--ebbb92-f46ec58c6478.js"></script>
<script crossorigin="anonymous" defer="defer" type="application/javascript" src="https://github.githubassets.com/assets/ui_packages_react-core_register-app_ts-ffbec628c3f5.js"></script>
<script crossorigin="anonymous" defer="defer" type="application/javascript" src="https://github.githubassets.com/assets/ui_packages_ref-selector_RefSelector_tsx-5769db0fc829.js"></script>
<script crossorigin="anonymous" defer="defer" type="application/javascript" src="https://github.githubassets.com/assets/app_assets_modules_github_blob-anchor_ts-app_assets_modules_github_filter-sort_ts-app_assets_-681869-f24eab09c9e6.js"></script>
<script crossorigin="anonymous" defer="defer" type="application/javascript" src="https://github.githubassets.com/assets/app_assets_modules_react-code-view_pages_CodeView_tsx-80380b3ad2f2.js"></script>
<script crossorigin="anonymous" defer="defer" type="application/javascript" src="https://github.githubassets.com/assets/react-code-view-605d1f050385.js"></script>


  <title>Introduction-to-Data-Science-in-Python/Assignment_4/assignment4.ipynb at main · tchagau/Introduction-to-Data-Science-in-Python · GitHub</title>



  <meta name="route-pattern" content="/:user_id/:repository/blob/*name(/*path)">

    
  <meta name="current-catalog-service-hash" content="82c569b93da5c18ed649ebd4c2c79437db4611a6a1373e805a3cb001c64130b7">


  <meta name="request-id" content="E317:5234:4AB8676:4B8A0A8:650C95A2" data-pjax-transient="true"/><meta name="html-safe-nonce" content="6080fcdb10d4b03f58d3d2507eac859f16b6d8f2a946c307714b1e20f5ce960c" data-pjax-transient="true"/><meta name="visitor-payload" content="eyJyZWZlcnJlciI6Imh0dHBzOi8vZ2l0aHViLmNvbS90Y2hhZ2F1L0ludHJvZHVjdGlvbi10by1EYXRhLVNjaWVuY2UtaW4tUHl0aG9uL3RyZWUvbWFpbi9Bc3NpZ25tZW50XzQiLCJyZXF1ZXN0X2lkIjoiRTMxNzo1MjM0OjRBQjg2NzY6NEI4QTBBODo2NTBDOTVBMiIsInZpc2l0b3JfaWQiOiI2MDc1MDMwMjU4ODkyNjQ3MjA0IiwicmVnaW9uX2VkZ2UiOiJmcmEiLCJyZWdpb25fcmVuZGVyIjoiZnJhIn0=" data-pjax-transient="true"/><meta name="visitor-hmac" content="bc2d24f6816c63b934b4d9edd6cf8b29f514304f8a2ea82f056b01da1541722b" data-pjax-transient="true"/>


    <meta name="hovercard-subject-tag" content="repository:320946649" data-turbo-transient>


  <meta name="github-keyboard-shortcuts" content="repository,source-code,file-tree" data-turbo-transient="true" />
  

  <meta name="selected-link" value="repo_source" data-turbo-transient>
  <link rel="assets" href="https://github.githubassets.com/">

    <meta name="google-site-verification" content="c1kuD-K2HIVF635lypcsWPoD4kilo5-jA_wBFyT4uMY">
  <meta name="google-site-verification" content="KT5gs8h0wvaagLKAVWq8bbeNwnZZK1r1XQysX3xurLU">
  <meta name="google-site-verification" content="ZzhVyEFwb7w3e0-uOTltm8Jsck2F5StVihD0exw2fsA">
  <meta name="google-site-verification" content="GXs5KoUUkNCoaAZn7wPN-t01Pywp9M3sEjnt_3_ZWPc">
  <meta name="google-site-verification" content="Apib7-x98H0j5cPqHWwSMm6dNU4GmODRoqxLiDzdx9I">

<meta name="octolytics-url" content="https://collector.github.com/github/collect" />

  <meta name="analytics-location" content="/&lt;user-name&gt;/&lt;repo-name&gt;/blob/show" data-turbo-transient="true" />

  




  

    <meta name="user-login" content="">

  

    <meta name="viewport" content="width=device-width">
    
      <meta name="description" content="This repository includes course assignments of Introduction to Data Science in Python on coursera by university of michigan - Introduction-to-Data-Science-in-Python/Assignment_4/assignment4.ipynb at main · tchagau/Introduction-to-Data-Science-in-Python">
      <link rel="search" type="application/opensearchdescription+xml" href="/opensearch.xml" title="GitHub">
    <link rel="fluid-icon" href="https://github.com/fluidicon.png" title="GitHub">
    <meta property="fb:app_id" content="1401488693436528">
    <meta name="apple-itunes-app" content="app-id=1477376905, app-argument=https://github.com/tchagau/Introduction-to-Data-Science-in-Python/blob/main/Assignment_4/assignment4.ipynb" />
      <meta name="twitter:image:src" content="https://opengraph.githubassets.com/1f7c05b6ee98d755c3c6429135dc0a75229eb029d49369d9f9bcbf6af0f34f21/tchagau/Introduction-to-Data-Science-in-Python" /><meta name="twitter:site" content="@github" /><meta name="twitter:card" content="summary_large_image" /><meta name="twitter:title" content="Introduction-to-Data-Science-in-Python/Assignment_4/assignment4.ipynb at main · tchagau/Introduction-to-Data-Science-in-Python" /><meta name="twitter:description" content="This repository includes course assignments of Introduction to Data Science in Python on coursera by university of michigan - tchagau/Introduction-to-Data-Science-in-Python" />
      <meta property="og:image" content="https://opengraph.githubassets.com/1f7c05b6ee98d755c3c6429135dc0a75229eb029d49369d9f9bcbf6af0f34f21/tchagau/Introduction-to-Data-Science-in-Python" /><meta property="og:image:alt" content="This repository includes course assignments of Introduction to Data Science in Python on coursera by university of michigan - tchagau/Introduction-to-Data-Science-in-Python" /><meta property="og:image:width" content="1200" /><meta property="og:image:height" content="600" /><meta property="og:site_name" content="GitHub" /><meta property="og:type" content="object" /><meta property="og:title" content="Introduction-to-Data-Science-in-Python/Assignment_4/assignment4.ipynb at main · tchagau/Introduction-to-Data-Science-in-Python" /><meta property="og:url" content="https://github.com/tchagau/Introduction-to-Data-Science-in-Python/blob/main/Assignment_4/assignment4.ipynb" /><meta property="og:description" content="This repository includes course assignments of Introduction to Data Science in Python on coursera by university of michigan - tchagau/Introduction-to-Data-Science-in-Python" />
      



        <meta name="hostname" content="github.com">



        <meta name="expected-hostname" content="github.com">


  <meta http-equiv="x-pjax-version" content="4e7013bca238b8121ef07ec92a829ab562c7149d38aad09330a68b33aeec6b02" data-turbo-track="reload">
  <meta http-equiv="x-pjax-csp-version" content="e804c38ee3350492314d64554f04af42b36a24b682b0e84414a6d326d62b74dc" data-turbo-track="reload">
  <meta http-equiv="x-pjax-css-version" content="dbb03309ff3a7580a4bb42bd96ba8f5412ef31b10b806a09ab932c23d368d93a" data-turbo-track="reload">
  <meta http-equiv="x-pjax-js-version" content="0eae816743c2aee21a4d9972de576d1eb49556d8a90d2175e78d52060d05c53c" data-turbo-track="reload">

  <meta name="turbo-cache-control" content="no-preview" data-turbo-transient="">

      <meta name="turbo-cache-control" content="no-cache" data-turbo-transient>
    <meta data-hydrostats="publish">

  <meta name="go-import" content="github.com/tchagau/Introduction-to-Data-Science-in-Python git https://github.com/tchagau/Introduction-to-Data-Science-in-Python.git">

  <meta name="octolytics-dimension-user_id" content="55589138" /><meta name="octolytics-dimension-user_login" content="tchagau" /><meta name="octolytics-dimension-repository_id" content="320946649" /><meta name="octolytics-dimension-repository_nwo" content="tchagau/Introduction-to-Data-Science-in-Python" /><meta name="octolytics-dimension-repository_public" content="true" /><meta name="octolytics-dimension-repository_is_fork" content="false" /><meta name="octolytics-dimension-repository_network_root_id" content="320946649" /><meta name="octolytics-dimension-repository_network_root_nwo" content="tchagau/Introduction-to-Data-Science-in-Python" />



  <meta name="turbo-body-classes" content="logged-out env-production page-responsive">


  <meta name="browser-stats-url" content="https://api.github.com/_private/browser/stats">

  <meta name="browser-errors-url" content="https://api.github.com/_private/browser/errors">

  <meta name="browser-optimizely-client-errors-url" content="https://api.github.com/_private/browser/optimizely_client/errors">

  <link rel="mask-icon" href="https://github.githubassets.com/pinned-octocat.svg" color="#000000">
  <link rel="alternate icon" class="js-site-favicon" type="image/png" href="https://github.githubassets.com/favicons/favicon.png">
  <link rel="icon" class="js-site-favicon" type="image/svg+xml" href="https://github.githubassets.com/favicons/favicon.svg">

<meta name="theme-color" content="#1e2327">
<meta name="color-scheme" content="light dark" />


  <link rel="manifest" href="/manifest.json" crossOrigin="use-credentials">

  </head>

  <body class="logged-out env-production page-responsive" style="word-wrap: break-word;">
    <div data-turbo-body class="logged-out env-production page-responsive" style="word-wrap: break-word;">
      


    <div class="position-relative js-header-wrapper ">
      <a href="#start-of-content" class="px-2 py-4 color-bg-accent-emphasis color-fg-on-emphasis show-on-focus js-skip-to-content">Skip to content</a>
      <span data-view-component="true" class="progress-pjax-loader Progress position-fixed width-full">
    <span style="width: 0%;" data-view-component="true" class="Progress-item progress-pjax-loader-bar left-0 top-0 color-bg-accent-emphasis"></span>
</span>      
      


      

        

            

<script crossorigin="anonymous" defer="defer" type="application/javascript" src="https://github.githubassets.com/assets/vendors-node_modules_github_remote-form_dist_index_js-node_modules_github_memoize_dist_esm_in-687f35-d131f0b6de8e.js"></script>
<script crossorigin="anonymous" defer="defer" type="application/javascript" src="https://github.githubassets.com/assets/sessions-c4e7d755d105.js"></script>
<header class="Header-old header-logged-out js-details-container Details position-relative f4 py-3" role="banner" data-color-mode=light data-light-theme=light data-dark-theme=dark>
  <button type="button" class="Header-backdrop d-lg-none border-0 position-fixed top-0 left-0 width-full height-full js-details-target" aria-label="Toggle navigation">
    <span class="d-none">Toggle navigation</span>
  </button>

  <div class=" d-flex flex-column flex-lg-row flex-items-center p-responsive height-full position-relative z-1">
    <div class="d-flex flex-justify-between flex-items-center width-full width-lg-auto">
      <a class="mr-lg-3 color-fg-inherit flex-order-2" href="https://github.com/" aria-label="Homepage" data-ga-click="(Logged out) Header, go to homepage, icon:logo-wordmark">
        <svg height="32" aria-hidden="true" viewBox="0 0 16 16" version="1.1" width="32" data-view-component="true" class="octicon octicon-mark-github">
    <path d="M8 0c4.42 0 8 3.58 8 8a8.013 8.013 0 0 1-5.45 7.59c-.4.08-.55-.17-.55-.38 0-.27.01-1.13.01-2.2 0-.75-.25-1.23-.54-1.48 1.78-.2 3.65-.88 3.65-3.95 0-.88-.31-1.59-.82-2.15.08-.2.36-1.02-.08-2.12 0 0-.67-.22-2.2.82-.64-.18-1.32-.27-2-.27-.68 0-1.36.09-2 .27-1.53-1.03-2.2-.82-2.2-.82-.44 1.1-.16 1.92-.08 2.12-.51.56-.82 1.28-.82 2.15 0 3.06 1.86 3.75 3.64 3.95-.23.2-.44.55-.51 1.07-.46.21-1.61.55-2.33-.66-.15-.24-.6-.83-1.23-.82-.67.01-.27.38.01.53.34.19.73.9.82 1.13.16.45.68 1.31 2.69.94 0 .67.01 1.3.01 1.49 0 .21-.15.45-.55.38A7.995 7.995 0 0 1 0 8c0-4.42 3.58-8 8-8Z"></path>
</svg>
      </a>

        <div class="flex-1">
          <a href="/signup?ref_cta=Sign+up&amp;ref_loc=header+logged+out&amp;ref_page=%2F%3Cuser-name%3E%2F%3Crepo-name%3E%2Fblob%2Fshow&amp;source=header-repo"
            class="d-inline-block d-lg-none flex-order-1 f5 no-underline border color-border-default rounded-2 px-2 py-1 color-fg-inherit"
            data-hydro-click="{&quot;event_type&quot;:&quot;authentication.click&quot;,&quot;payload&quot;:{&quot;location_in_page&quot;:&quot;site header&quot;,&quot;repository_id&quot;:null,&quot;auth_type&quot;:&quot;SIGN_UP&quot;,&quot;originating_url&quot;:&quot;https://github.com/tchagau/Introduction-to-Data-Science-in-Python/blob/main/Assignment_4/assignment4.ipynb&quot;,&quot;user_id&quot;:null}}" data-hydro-click-hmac="0518ecbb68f7c6882904b0d1eb619cccc1a38db212cebbfa7848b0c0cb94bcce"
          >
            Sign&nbsp;up
          </a>
        </div>

      <div class="flex-1 flex-order-2 text-right">
          <button aria-label="Toggle navigation" aria-expanded="false" type="button" data-view-component="true" class="js-details-target Button--link Button--medium Button d-lg-none color-fg-inherit p-1">    <span class="Button-content">
      <span class="Button-label"><div class="HeaderMenu-toggle-bar rounded my-1"></div>
            <div class="HeaderMenu-toggle-bar rounded my-1"></div>
            <div class="HeaderMenu-toggle-bar rounded my-1"></div></span>
    </span>
</button>  
      </div>
    </div>


    <div class="HeaderMenu--logged-out p-responsive height-fit position-lg-relative d-lg-flex flex-column flex-auto pt-7 pb-4 top-0">
      <div class="header-menu-wrapper d-flex flex-column flex-self-end flex-lg-row flex-justify-between flex-auto p-3 p-lg-0 rounded rounded-lg-0 mt-3 mt-lg-0">
          <nav class="mt-0 px-3 px-lg-0 mb-3 mb-lg-0" aria-label="Global">
            <ul class="d-lg-flex list-style-none">
                <li class="HeaderMenu-item position-relative flex-wrap flex-justify-between flex-items-center d-block d-lg-flex flex-lg-nowrap flex-lg-items-center js-details-container js-header-menu-item">
      <button type="button" class="HeaderMenu-link border-0 width-full width-lg-auto px-0 px-lg-2 py-3 py-lg-2 no-wrap d-flex flex-items-center flex-justify-between js-details-target" aria-expanded="false">
        Product
        <svg opacity="0.5" aria-hidden="true" height="16" viewBox="0 0 16 16" version="1.1" width="16" data-view-component="true" class="octicon octicon-chevron-down HeaderMenu-icon ml-1">
    <path d="M12.78 5.22a.749.749 0 0 1 0 1.06l-4.25 4.25a.749.749 0 0 1-1.06 0L3.22 6.28a.749.749 0 1 1 1.06-1.06L8 8.939l3.72-3.719a.749.749 0 0 1 1.06 0Z"></path>
</svg>
      </button>
      <div class="HeaderMenu-dropdown dropdown-menu rounded m-0 p-0 py-2 py-lg-4 position-relative position-lg-absolute left-0 left-lg-n3 d-lg-flex dropdown-menu-wide">
          <div class="px-lg-4 border-lg-right mb-4 mb-lg-0 pr-lg-7">
            <ul class="list-style-none f5" >
                <li>
  <a class="HeaderMenu-dropdown-link lh-condensed d-block no-underline position-relative py-2 Link--secondary d-flex flex-items-center pb-lg-3" data-analytics-event="{&quot;category&quot;:&quot;Header dropdown (logged out), Product&quot;,&quot;action&quot;:&quot;click to go to Actions&quot;,&quot;label&quot;:&quot;ref_cta:Actions;&quot;}" href="/features/actions">
      <svg aria-hidden="true" height="24" viewBox="0 0 24 24" version="1.1" width="24" data-view-component="true" class="octicon octicon-workflow color-fg-subtle mr-3">
    <path d="M1 3a2 2 0 0 1 2-2h6.5a2 2 0 0 1 2 2v6.5a2 2 0 0 1-2 2H7v4.063C7 16.355 7.644 17 8.438 17H12.5v-2.5a2 2 0 0 1 2-2H21a2 2 0 0 1 2 2V21a2 2 0 0 1-2 2h-6.5a2 2 0 0 1-2-2v-2.5H8.437A2.939 2.939 0 0 1 5.5 15.562V11.5H3a2 2 0 0 1-2-2Zm2-.5a.5.5 0 0 0-.5.5v6.5a.5.5 0 0 0 .5.5h6.5a.5.5 0 0 0 .5-.5V3a.5.5 0 0 0-.5-.5ZM14.5 14a.5.5 0 0 0-.5.5V21a.5.5 0 0 0 .5.5H21a.5.5 0 0 0 .5-.5v-6.5a.5.5 0 0 0-.5-.5Z"></path>
</svg>
      <div>
        <div class="color-fg-default h4">Actions</div>
        Automate any workflow
      </div>

    
</a></li>

                <li>
  <a class="HeaderMenu-dropdown-link lh-condensed d-block no-underline position-relative py-2 Link--secondary d-flex flex-items-center pb-lg-3" data-analytics-event="{&quot;category&quot;:&quot;Header dropdown (logged out), Product&quot;,&quot;action&quot;:&quot;click to go to Packages&quot;,&quot;label&quot;:&quot;ref_cta:Packages;&quot;}" href="/features/packages">
      <svg aria-hidden="true" height="24" viewBox="0 0 24 24" version="1.1" width="24" data-view-component="true" class="octicon octicon-package color-fg-subtle mr-3">
    <path d="M12.876.64V.639l8.25 4.763c.541.313.875.89.875 1.515v9.525a1.75 1.75 0 0 1-.875 1.516l-8.25 4.762a1.748 1.748 0 0 1-1.75 0l-8.25-4.763a1.75 1.75 0 0 1-.875-1.515V6.917c0-.625.334-1.202.875-1.515L11.126.64a1.748 1.748 0 0 1 1.75 0Zm-1 1.298L4.251 6.34l7.75 4.474 7.75-4.474-7.625-4.402a.248.248 0 0 0-.25 0Zm.875 19.123 7.625-4.402a.25.25 0 0 0 .125-.216V7.639l-7.75 4.474ZM3.501 7.64v8.803c0 .09.048.172.125.216l7.625 4.402v-8.947Z"></path>
</svg>
      <div>
        <div class="color-fg-default h4">Packages</div>
        Host and manage packages
      </div>

    
</a></li>

                <li>
  <a class="HeaderMenu-dropdown-link lh-condensed d-block no-underline position-relative py-2 Link--secondary d-flex flex-items-center pb-lg-3" data-analytics-event="{&quot;category&quot;:&quot;Header dropdown (logged out), Product&quot;,&quot;action&quot;:&quot;click to go to Security&quot;,&quot;label&quot;:&quot;ref_cta:Security;&quot;}" href="/features/security">
      <svg aria-hidden="true" height="24" viewBox="0 0 24 24" version="1.1" width="24" data-view-component="true" class="octicon octicon-shield-check color-fg-subtle mr-3">
    <path d="M16.53 9.78a.75.75 0 0 0-1.06-1.06L11 13.19l-1.97-1.97a.75.75 0 0 0-1.06 1.06l2.5 2.5a.75.75 0 0 0 1.06 0l5-5Z"></path><path d="m12.54.637 8.25 2.675A1.75 1.75 0 0 1 22 4.976V10c0 6.19-3.771 10.704-9.401 12.83a1.704 1.704 0 0 1-1.198 0C5.77 20.705 2 16.19 2 10V4.976c0-.758.489-1.43 1.21-1.664L11.46.637a1.748 1.748 0 0 1 1.08 0Zm-.617 1.426-8.25 2.676a.249.249 0 0 0-.173.237V10c0 5.46 3.28 9.483 8.43 11.426a.199.199 0 0 0 .14 0C17.22 19.483 20.5 15.461 20.5 10V4.976a.25.25 0 0 0-.173-.237l-8.25-2.676a.253.253 0 0 0-.154 0Z"></path>
</svg>
      <div>
        <div class="color-fg-default h4">Security</div>
        Find and fix vulnerabilities
      </div>

    
</a></li>

                <li>
  <a class="HeaderMenu-dropdown-link lh-condensed d-block no-underline position-relative py-2 Link--secondary d-flex flex-items-center pb-lg-3" data-analytics-event="{&quot;category&quot;:&quot;Header dropdown (logged out), Product&quot;,&quot;action&quot;:&quot;click to go to Codespaces&quot;,&quot;label&quot;:&quot;ref_cta:Codespaces;&quot;}" href="/features/codespaces">
      <svg aria-hidden="true" height="24" viewBox="0 0 24 24" version="1.1" width="24" data-view-component="true" class="octicon octicon-codespaces color-fg-subtle mr-3">
    <path d="M3.5 3.75C3.5 2.784 4.284 2 5.25 2h13.5c.966 0 1.75.784 1.75 1.75v7.5A1.75 1.75 0 0 1 18.75 13H5.25a1.75 1.75 0 0 1-1.75-1.75Zm-2 12c0-.966.784-1.75 1.75-1.75h17.5c.966 0 1.75.784 1.75 1.75v4a1.75 1.75 0 0 1-1.75 1.75H3.25a1.75 1.75 0 0 1-1.75-1.75ZM5.25 3.5a.25.25 0 0 0-.25.25v7.5c0 .138.112.25.25.25h13.5a.25.25 0 0 0 .25-.25v-7.5a.25.25 0 0 0-.25-.25Zm-2 12a.25.25 0 0 0-.25.25v4c0 .138.112.25.25.25h17.5a.25.25 0 0 0 .25-.25v-4a.25.25 0 0 0-.25-.25Z"></path><path d="M10 17.75a.75.75 0 0 1 .75-.75h6.5a.75.75 0 0 1 0 1.5h-6.5a.75.75 0 0 1-.75-.75Zm-4 0a.75.75 0 0 1 .75-.75h.5a.75.75 0 0 1 0 1.5h-.5a.75.75 0 0 1-.75-.75Z"></path>
</svg>
      <div>
        <div class="color-fg-default h4">Codespaces</div>
        Instant dev environments
      </div>

    
</a></li>

                <li>
  <a class="HeaderMenu-dropdown-link lh-condensed d-block no-underline position-relative py-2 Link--secondary d-flex flex-items-center pb-lg-3" data-analytics-event="{&quot;category&quot;:&quot;Header dropdown (logged out), Product&quot;,&quot;action&quot;:&quot;click to go to Copilot&quot;,&quot;label&quot;:&quot;ref_cta:Copilot;&quot;}" href="/features/copilot">
      <svg aria-hidden="true" height="24" viewBox="0 0 24 24" version="1.1" width="24" data-view-component="true" class="octicon octicon-copilot color-fg-subtle mr-3">
    <path d="M23.922 16.992c-.861 1.495-5.859 5.023-11.922 5.023-6.063 0-11.061-3.528-11.922-5.023A.641.641 0 0 1 0 16.736v-2.869a.841.841 0 0 1 .053-.22c.372-.935 1.347-2.292 2.605-2.656.167-.429.414-1.055.644-1.517a10.195 10.195 0 0 1-.052-1.086c0-1.331.282-2.499 1.132-3.368.397-.406.89-.717 1.474-.952 1.399-1.136 3.392-2.093 6.122-2.093 2.731 0 4.767.957 6.166 2.093.584.235 1.077.546 1.474.952.85.869 1.132 2.037 1.132 3.368 0 .368-.014.733-.052 1.086.23.462.477 1.088.644 1.517 1.258.364 2.233 1.721 2.605 2.656a.832.832 0 0 1 .053.22v2.869a.641.641 0 0 1-.078.256ZM12.172 11h-.344a4.323 4.323 0 0 1-.355.508C10.703 12.455 9.555 13 7.965 13c-1.725 0-2.989-.359-3.782-1.259a2.005 2.005 0 0 1-.085-.104L4 11.741v6.585c1.435.779 4.514 2.179 8 2.179 3.486 0 6.565-1.4 8-2.179v-6.585l-.098-.104s-.033.045-.085.104c-.793.9-2.057 1.259-3.782 1.259-1.59 0-2.738-.545-3.508-1.492a4.323 4.323 0 0 1-.355-.508h-.016.016Zm.641-2.935c.136 1.057.403 1.913.878 2.497.442.544 1.134.938 2.344.938 1.573 0 2.292-.337 2.657-.751.384-.435.558-1.15.558-2.361 0-1.14-.243-1.847-.705-2.319-.477-.488-1.319-.862-2.824-1.025-1.487-.161-2.192.138-2.533.529-.269.307-.437.808-.438 1.578v.021c0 .265.021.562.063.893Zm-1.626 0c.042-.331.063-.628.063-.894v-.02c-.001-.77-.169-1.271-.438-1.578-.341-.391-1.046-.69-2.533-.529-1.505.163-2.347.537-2.824 1.025-.462.472-.705 1.179-.705 2.319 0 1.211.175 1.926.558 2.361.365.414 1.084.751 2.657.751 1.21 0 1.902-.394 2.344-.938.475-.584.742-1.44.878-2.497Z"></path><path d="M14.5 14.25a1 1 0 0 1 1 1v2a1 1 0 0 1-2 0v-2a1 1 0 0 1 1-1Zm-5 0a1 1 0 0 1 1 1v2a1 1 0 0 1-2 0v-2a1 1 0 0 1 1-1Z"></path>
</svg>
      <div>
        <div class="color-fg-default h4">Copilot</div>
        Write better code with AI
      </div>

    
</a></li>

                <li>
  <a class="HeaderMenu-dropdown-link lh-condensed d-block no-underline position-relative py-2 Link--secondary d-flex flex-items-center pb-lg-3" data-analytics-event="{&quot;category&quot;:&quot;Header dropdown (logged out), Product&quot;,&quot;action&quot;:&quot;click to go to Code review&quot;,&quot;label&quot;:&quot;ref_cta:Code review;&quot;}" href="/features/code-review">
      <svg aria-hidden="true" height="24" viewBox="0 0 24 24" version="1.1" width="24" data-view-component="true" class="octicon octicon-code-review color-fg-subtle mr-3">
    <path d="M10.3 6.74a.75.75 0 0 1-.04 1.06l-2.908 2.7 2.908 2.7a.75.75 0 1 1-1.02 1.1l-3.5-3.25a.75.75 0 0 1 0-1.1l3.5-3.25a.75.75 0 0 1 1.06.04Zm3.44 1.06a.75.75 0 1 1 1.02-1.1l3.5 3.25a.75.75 0 0 1 0 1.1l-3.5 3.25a.75.75 0 1 1-1.02-1.1l2.908-2.7-2.908-2.7Z"></path><path d="M1.5 4.25c0-.966.784-1.75 1.75-1.75h17.5c.966 0 1.75.784 1.75 1.75v12.5a1.75 1.75 0 0 1-1.75 1.75h-9.69l-3.573 3.573A1.458 1.458 0 0 1 5 21.043V18.5H3.25a1.75 1.75 0 0 1-1.75-1.75ZM3.25 4a.25.25 0 0 0-.25.25v12.5c0 .138.112.25.25.25h2.5a.75.75 0 0 1 .75.75v3.19l3.72-3.72a.749.749 0 0 1 .53-.22h10a.25.25 0 0 0 .25-.25V4.25a.25.25 0 0 0-.25-.25Z"></path>
</svg>
      <div>
        <div class="color-fg-default h4">Code review</div>
        Manage code changes
      </div>

    
</a></li>

                <li>
  <a class="HeaderMenu-dropdown-link lh-condensed d-block no-underline position-relative py-2 Link--secondary d-flex flex-items-center pb-lg-3" data-analytics-event="{&quot;category&quot;:&quot;Header dropdown (logged out), Product&quot;,&quot;action&quot;:&quot;click to go to Issues&quot;,&quot;label&quot;:&quot;ref_cta:Issues;&quot;}" href="/features/issues">
      <svg aria-hidden="true" height="24" viewBox="0 0 24 24" version="1.1" width="24" data-view-component="true" class="octicon octicon-issue-opened color-fg-subtle mr-3">
    <path d="M12 1c6.075 0 11 4.925 11 11s-4.925 11-11 11S1 18.075 1 12 5.925 1 12 1ZM2.5 12a9.5 9.5 0 0 0 9.5 9.5 9.5 9.5 0 0 0 9.5-9.5A9.5 9.5 0 0 0 12 2.5 9.5 9.5 0 0 0 2.5 12Zm9.5 2a2 2 0 1 1-.001-3.999A2 2 0 0 1 12 14Z"></path>
</svg>
      <div>
        <div class="color-fg-default h4">Issues</div>
        Plan and track work
      </div>

    
</a></li>

                <li>
  <a class="HeaderMenu-dropdown-link lh-condensed d-block no-underline position-relative py-2 Link--secondary d-flex flex-items-center" data-analytics-event="{&quot;category&quot;:&quot;Header dropdown (logged out), Product&quot;,&quot;action&quot;:&quot;click to go to Discussions&quot;,&quot;label&quot;:&quot;ref_cta:Discussions;&quot;}" href="/features/discussions">
      <svg aria-hidden="true" height="24" viewBox="0 0 24 24" version="1.1" width="24" data-view-component="true" class="octicon octicon-comment-discussion color-fg-subtle mr-3">
    <path d="M1.75 1h12.5c.966 0 1.75.784 1.75 1.75v9.5A1.75 1.75 0 0 1 14.25 14H8.061l-2.574 2.573A1.458 1.458 0 0 1 3 15.543V14H1.75A1.75 1.75 0 0 1 0 12.25v-9.5C0 1.784.784 1 1.75 1ZM1.5 2.75v9.5c0 .138.112.25.25.25h2a.75.75 0 0 1 .75.75v2.19l2.72-2.72a.749.749 0 0 1 .53-.22h6.5a.25.25 0 0 0 .25-.25v-9.5a.25.25 0 0 0-.25-.25H1.75a.25.25 0 0 0-.25.25Z"></path><path d="M22.5 8.75a.25.25 0 0 0-.25-.25h-3.5a.75.75 0 0 1 0-1.5h3.5c.966 0 1.75.784 1.75 1.75v9.5A1.75 1.75 0 0 1 22.25 20H21v1.543a1.457 1.457 0 0 1-2.487 1.03L15.939 20H10.75A1.75 1.75 0 0 1 9 18.25v-1.465a.75.75 0 0 1 1.5 0v1.465c0 .138.112.25.25.25h5.5a.75.75 0 0 1 .53.22l2.72 2.72v-2.19a.75.75 0 0 1 .75-.75h2a.25.25 0 0 0 .25-.25v-9.5Z"></path>
</svg>
      <div>
        <div class="color-fg-default h4">Discussions</div>
        Collaborate outside of code
      </div>

    
</a></li>

            </ul>
          </div>
          <div class="px-lg-4">
              <span class="d-block h4 color-fg-default my-1" id="product-explore-heading">Explore</span>
            <ul class="list-style-none f5" aria-labelledby="product-explore-heading">
                <li>
  <a class="HeaderMenu-dropdown-link lh-condensed d-block no-underline position-relative py-2 Link--secondary" data-analytics-event="{&quot;category&quot;:&quot;Header dropdown (logged out), Product&quot;,&quot;action&quot;:&quot;click to go to All features&quot;,&quot;label&quot;:&quot;ref_cta:All features;&quot;}" href="/features">
      All features

    
</a></li>

                <li>
  <a class="HeaderMenu-dropdown-link lh-condensed d-block no-underline position-relative py-2 Link--secondary" target="_blank" data-analytics-event="{&quot;category&quot;:&quot;Header dropdown (logged out), Product&quot;,&quot;action&quot;:&quot;click to go to Documentation&quot;,&quot;label&quot;:&quot;ref_cta:Documentation;&quot;}" href="https://docs.github.com">
      Documentation

    <svg aria-hidden="true" height="16" viewBox="0 0 16 16" version="1.1" width="16" data-view-component="true" class="octicon octicon-link-external HeaderMenu-external-icon color-fg-subtle">
    <path d="M3.75 2h3.5a.75.75 0 0 1 0 1.5h-3.5a.25.25 0 0 0-.25.25v8.5c0 .138.112.25.25.25h8.5a.25.25 0 0 0 .25-.25v-3.5a.75.75 0 0 1 1.5 0v3.5A1.75 1.75 0 0 1 12.25 14h-8.5A1.75 1.75 0 0 1 2 12.25v-8.5C2 2.784 2.784 2 3.75 2Zm6.854-1h4.146a.25.25 0 0 1 .25.25v4.146a.25.25 0 0 1-.427.177L13.03 4.03 9.28 7.78a.751.751 0 0 1-1.042-.018.751.751 0 0 1-.018-1.042l3.75-3.75-1.543-1.543A.25.25 0 0 1 10.604 1Z"></path>
</svg>
</a></li>

                <li>
  <a class="HeaderMenu-dropdown-link lh-condensed d-block no-underline position-relative py-2 Link--secondary" target="_blank" data-analytics-event="{&quot;category&quot;:&quot;Header dropdown (logged out), Product&quot;,&quot;action&quot;:&quot;click to go to GitHub Skills&quot;,&quot;label&quot;:&quot;ref_cta:GitHub Skills;&quot;}" href="https://skills.github.com/">
      GitHub Skills

    <svg aria-hidden="true" height="16" viewBox="0 0 16 16" version="1.1" width="16" data-view-component="true" class="octicon octicon-link-external HeaderMenu-external-icon color-fg-subtle">
    <path d="M3.75 2h3.5a.75.75 0 0 1 0 1.5h-3.5a.25.25 0 0 0-.25.25v8.5c0 .138.112.25.25.25h8.5a.25.25 0 0 0 .25-.25v-3.5a.75.75 0 0 1 1.5 0v3.5A1.75 1.75 0 0 1 12.25 14h-8.5A1.75 1.75 0 0 1 2 12.25v-8.5C2 2.784 2.784 2 3.75 2Zm6.854-1h4.146a.25.25 0 0 1 .25.25v4.146a.25.25 0 0 1-.427.177L13.03 4.03 9.28 7.78a.751.751 0 0 1-1.042-.018.751.751 0 0 1-.018-1.042l3.75-3.75-1.543-1.543A.25.25 0 0 1 10.604 1Z"></path>
</svg>
</a></li>

                <li>
  <a class="HeaderMenu-dropdown-link lh-condensed d-block no-underline position-relative py-2 Link--secondary" target="_blank" data-analytics-event="{&quot;category&quot;:&quot;Header dropdown (logged out), Product&quot;,&quot;action&quot;:&quot;click to go to Blog&quot;,&quot;label&quot;:&quot;ref_cta:Blog;&quot;}" href="https://github.blog">
      Blog

    <svg aria-hidden="true" height="16" viewBox="0 0 16 16" version="1.1" width="16" data-view-component="true" class="octicon octicon-link-external HeaderMenu-external-icon color-fg-subtle">
    <path d="M3.75 2h3.5a.75.75 0 0 1 0 1.5h-3.5a.25.25 0 0 0-.25.25v8.5c0 .138.112.25.25.25h8.5a.25.25 0 0 0 .25-.25v-3.5a.75.75 0 0 1 1.5 0v3.5A1.75 1.75 0 0 1 12.25 14h-8.5A1.75 1.75 0 0 1 2 12.25v-8.5C2 2.784 2.784 2 3.75 2Zm6.854-1h4.146a.25.25 0 0 1 .25.25v4.146a.25.25 0 0 1-.427.177L13.03 4.03 9.28 7.78a.751.751 0 0 1-1.042-.018.751.751 0 0 1-.018-1.042l3.75-3.75-1.543-1.543A.25.25 0 0 1 10.604 1Z"></path>
</svg>
</a></li>

            </ul>
          </div>
      </div>
</li>


                <li class="HeaderMenu-item position-relative flex-wrap flex-justify-between flex-items-center d-block d-lg-flex flex-lg-nowrap flex-lg-items-center js-details-container js-header-menu-item">
      <button type="button" class="HeaderMenu-link border-0 width-full width-lg-auto px-0 px-lg-2 py-3 py-lg-2 no-wrap d-flex flex-items-center flex-justify-between js-details-target" aria-expanded="false">
        Solutions
        <svg opacity="0.5" aria-hidden="true" height="16" viewBox="0 0 16 16" version="1.1" width="16" data-view-component="true" class="octicon octicon-chevron-down HeaderMenu-icon ml-1">
    <path d="M12.78 5.22a.749.749 0 0 1 0 1.06l-4.25 4.25a.749.749 0 0 1-1.06 0L3.22 6.28a.749.749 0 1 1 1.06-1.06L8 8.939l3.72-3.719a.749.749 0 0 1 1.06 0Z"></path>
</svg>
      </button>
      <div class="HeaderMenu-dropdown dropdown-menu rounded m-0 p-0 py-2 py-lg-4 position-relative position-lg-absolute left-0 left-lg-n3 px-lg-4">
          <div class="border-bottom pb-3 mb-3">
              <span class="d-block h4 color-fg-default my-1" id="solutions-for-heading">For</span>
            <ul class="list-style-none f5" aria-labelledby="solutions-for-heading">
                <li>
  <a class="HeaderMenu-dropdown-link lh-condensed d-block no-underline position-relative py-2 Link--secondary" data-analytics-event="{&quot;category&quot;:&quot;Header dropdown (logged out), Solutions&quot;,&quot;action&quot;:&quot;click to go to Enterprise&quot;,&quot;label&quot;:&quot;ref_cta:Enterprise;&quot;}" href="/enterprise">
      Enterprise

    
</a></li>

                <li>
  <a class="HeaderMenu-dropdown-link lh-condensed d-block no-underline position-relative py-2 Link--secondary" data-analytics-event="{&quot;category&quot;:&quot;Header dropdown (logged out), Solutions&quot;,&quot;action&quot;:&quot;click to go to Teams&quot;,&quot;label&quot;:&quot;ref_cta:Teams;&quot;}" href="/team">
      Teams

    
</a></li>

                <li>
  <a class="HeaderMenu-dropdown-link lh-condensed d-block no-underline position-relative py-2 Link--secondary" data-analytics-event="{&quot;category&quot;:&quot;Header dropdown (logged out), Solutions&quot;,&quot;action&quot;:&quot;click to go to Startups&quot;,&quot;label&quot;:&quot;ref_cta:Startups;&quot;}" href="/enterprise/startups">
      Startups

    
</a></li>

                <li>
  <a class="HeaderMenu-dropdown-link lh-condensed d-block no-underline position-relative py-2 Link--secondary" target="_blank" data-analytics-event="{&quot;category&quot;:&quot;Header dropdown (logged out), Solutions&quot;,&quot;action&quot;:&quot;click to go to Education&quot;,&quot;label&quot;:&quot;ref_cta:Education;&quot;}" href="https://education.github.com">
      Education

    <svg aria-hidden="true" height="16" viewBox="0 0 16 16" version="1.1" width="16" data-view-component="true" class="octicon octicon-link-external HeaderMenu-external-icon color-fg-subtle">
    <path d="M3.75 2h3.5a.75.75 0 0 1 0 1.5h-3.5a.25.25 0 0 0-.25.25v8.5c0 .138.112.25.25.25h8.5a.25.25 0 0 0 .25-.25v-3.5a.75.75 0 0 1 1.5 0v3.5A1.75 1.75 0 0 1 12.25 14h-8.5A1.75 1.75 0 0 1 2 12.25v-8.5C2 2.784 2.784 2 3.75 2Zm6.854-1h4.146a.25.25 0 0 1 .25.25v4.146a.25.25 0 0 1-.427.177L13.03 4.03 9.28 7.78a.751.751 0 0 1-1.042-.018.751.751 0 0 1-.018-1.042l3.75-3.75-1.543-1.543A.25.25 0 0 1 10.604 1Z"></path>
</svg>
</a></li>

            </ul>
          </div>
          <div class="border-bottom pb-3 mb-3">
              <span class="d-block h4 color-fg-default my-1" id="solutions-by-solution-heading">By Solution</span>
            <ul class="list-style-none f5" aria-labelledby="solutions-by-solution-heading">
                <li>
  <a class="HeaderMenu-dropdown-link lh-condensed d-block no-underline position-relative py-2 Link--secondary" data-analytics-event="{&quot;category&quot;:&quot;Header dropdown (logged out), Solutions&quot;,&quot;action&quot;:&quot;click to go to CI/CD &amp;amp; Automation&quot;,&quot;label&quot;:&quot;ref_cta:CI/CD &amp;amp; Automation;&quot;}" href="/solutions/ci-cd/">
      CI/CD &amp; Automation

    
</a></li>

                <li>
  <a class="HeaderMenu-dropdown-link lh-condensed d-block no-underline position-relative py-2 Link--secondary" target="_blank" data-analytics-event="{&quot;category&quot;:&quot;Header dropdown (logged out), Solutions&quot;,&quot;action&quot;:&quot;click to go to DevOps&quot;,&quot;label&quot;:&quot;ref_cta:DevOps;&quot;}" href="https://resources.github.com/devops/">
      DevOps

    <svg aria-hidden="true" height="16" viewBox="0 0 16 16" version="1.1" width="16" data-view-component="true" class="octicon octicon-link-external HeaderMenu-external-icon color-fg-subtle">
    <path d="M3.75 2h3.5a.75.75 0 0 1 0 1.5h-3.5a.25.25 0 0 0-.25.25v8.5c0 .138.112.25.25.25h8.5a.25.25 0 0 0 .25-.25v-3.5a.75.75 0 0 1 1.5 0v3.5A1.75 1.75 0 0 1 12.25 14h-8.5A1.75 1.75 0 0 1 2 12.25v-8.5C2 2.784 2.784 2 3.75 2Zm6.854-1h4.146a.25.25 0 0 1 .25.25v4.146a.25.25 0 0 1-.427.177L13.03 4.03 9.28 7.78a.751.751 0 0 1-1.042-.018.751.751 0 0 1-.018-1.042l3.75-3.75-1.543-1.543A.25.25 0 0 1 10.604 1Z"></path>
</svg>
</a></li>

                <li>
  <a class="HeaderMenu-dropdown-link lh-condensed d-block no-underline position-relative py-2 Link--secondary" target="_blank" data-analytics-event="{&quot;category&quot;:&quot;Header dropdown (logged out), Solutions&quot;,&quot;action&quot;:&quot;click to go to DevSecOps&quot;,&quot;label&quot;:&quot;ref_cta:DevSecOps;&quot;}" href="https://resources.github.com/devops/fundamentals/devsecops/">
      DevSecOps

    <svg aria-hidden="true" height="16" viewBox="0 0 16 16" version="1.1" width="16" data-view-component="true" class="octicon octicon-link-external HeaderMenu-external-icon color-fg-subtle">
    <path d="M3.75 2h3.5a.75.75 0 0 1 0 1.5h-3.5a.25.25 0 0 0-.25.25v8.5c0 .138.112.25.25.25h8.5a.25.25 0 0 0 .25-.25v-3.5a.75.75 0 0 1 1.5 0v3.5A1.75 1.75 0 0 1 12.25 14h-8.5A1.75 1.75 0 0 1 2 12.25v-8.5C2 2.784 2.784 2 3.75 2Zm6.854-1h4.146a.25.25 0 0 1 .25.25v4.146a.25.25 0 0 1-.427.177L13.03 4.03 9.28 7.78a.751.751 0 0 1-1.042-.018.751.751 0 0 1-.018-1.042l3.75-3.75-1.543-1.543A.25.25 0 0 1 10.604 1Z"></path>
</svg>
</a></li>

            </ul>
          </div>
          <div class="">
              <span class="d-block h4 color-fg-default my-1" id="solutions-resources-heading">Resources</span>
            <ul class="list-style-none f5" aria-labelledby="solutions-resources-heading">
                <li>
  <a class="HeaderMenu-dropdown-link lh-condensed d-block no-underline position-relative py-2 Link--secondary" data-analytics-event="{&quot;category&quot;:&quot;Header dropdown (logged out), Solutions&quot;,&quot;action&quot;:&quot;click to go to Customer Stories&quot;,&quot;label&quot;:&quot;ref_cta:Customer Stories;&quot;}" href="/customer-stories">
      Customer Stories

    
</a></li>

                <li>
  <a class="HeaderMenu-dropdown-link lh-condensed d-block no-underline position-relative py-2 Link--secondary" target="_blank" data-analytics-event="{&quot;category&quot;:&quot;Header dropdown (logged out), Solutions&quot;,&quot;action&quot;:&quot;click to go to White papers, Ebooks, Webinars&quot;,&quot;label&quot;:&quot;ref_cta:White papers, Ebooks, Webinars;&quot;}" href="https://resources.github.com/">
      White papers, Ebooks, Webinars

    <svg aria-hidden="true" height="16" viewBox="0 0 16 16" version="1.1" width="16" data-view-component="true" class="octicon octicon-link-external HeaderMenu-external-icon color-fg-subtle">
    <path d="M3.75 2h3.5a.75.75 0 0 1 0 1.5h-3.5a.25.25 0 0 0-.25.25v8.5c0 .138.112.25.25.25h8.5a.25.25 0 0 0 .25-.25v-3.5a.75.75 0 0 1 1.5 0v3.5A1.75 1.75 0 0 1 12.25 14h-8.5A1.75 1.75 0 0 1 2 12.25v-8.5C2 2.784 2.784 2 3.75 2Zm6.854-1h4.146a.25.25 0 0 1 .25.25v4.146a.25.25 0 0 1-.427.177L13.03 4.03 9.28 7.78a.751.751 0 0 1-1.042-.018.751.751 0 0 1-.018-1.042l3.75-3.75-1.543-1.543A.25.25 0 0 1 10.604 1Z"></path>
</svg>
</a></li>

                <li>
  <a class="HeaderMenu-dropdown-link lh-condensed d-block no-underline position-relative py-2 Link--secondary" target="_blank" data-analytics-event="{&quot;category&quot;:&quot;Header dropdown (logged out), Solutions&quot;,&quot;action&quot;:&quot;click to go to Partners&quot;,&quot;label&quot;:&quot;ref_cta:Partners;&quot;}" href="https://partner.github.com/">
      Partners

    <svg aria-hidden="true" height="16" viewBox="0 0 16 16" version="1.1" width="16" data-view-component="true" class="octicon octicon-link-external HeaderMenu-external-icon color-fg-subtle">
    <path d="M3.75 2h3.5a.75.75 0 0 1 0 1.5h-3.5a.25.25 0 0 0-.25.25v8.5c0 .138.112.25.25.25h8.5a.25.25 0 0 0 .25-.25v-3.5a.75.75 0 0 1 1.5 0v3.5A1.75 1.75 0 0 1 12.25 14h-8.5A1.75 1.75 0 0 1 2 12.25v-8.5C2 2.784 2.784 2 3.75 2Zm6.854-1h4.146a.25.25 0 0 1 .25.25v4.146a.25.25 0 0 1-.427.177L13.03 4.03 9.28 7.78a.751.751 0 0 1-1.042-.018.751.751 0 0 1-.018-1.042l3.75-3.75-1.543-1.543A.25.25 0 0 1 10.604 1Z"></path>
</svg>
</a></li>

            </ul>
          </div>
      </div>
</li>


                <li class="HeaderMenu-item position-relative flex-wrap flex-justify-between flex-items-center d-block d-lg-flex flex-lg-nowrap flex-lg-items-center js-details-container js-header-menu-item">
      <button type="button" class="HeaderMenu-link border-0 width-full width-lg-auto px-0 px-lg-2 py-3 py-lg-2 no-wrap d-flex flex-items-center flex-justify-between js-details-target" aria-expanded="false">
        Open Source
        <svg opacity="0.5" aria-hidden="true" height="16" viewBox="0 0 16 16" version="1.1" width="16" data-view-component="true" class="octicon octicon-chevron-down HeaderMenu-icon ml-1">
    <path d="M12.78 5.22a.749.749 0 0 1 0 1.06l-4.25 4.25a.749.749 0 0 1-1.06 0L3.22 6.28a.749.749 0 1 1 1.06-1.06L8 8.939l3.72-3.719a.749.749 0 0 1 1.06 0Z"></path>
</svg>
      </button>
      <div class="HeaderMenu-dropdown dropdown-menu rounded m-0 p-0 py-2 py-lg-4 position-relative position-lg-absolute left-0 left-lg-n3 px-lg-4">
          <div class="border-bottom pb-3 mb-3">
            <ul class="list-style-none f5" >
                <li>
  <a class="HeaderMenu-dropdown-link lh-condensed d-block no-underline position-relative py-2 Link--secondary d-flex flex-items-center" data-analytics-event="{&quot;category&quot;:&quot;Header dropdown (logged out), Open Source&quot;,&quot;action&quot;:&quot;click to go to GitHub Sponsors&quot;,&quot;label&quot;:&quot;ref_cta:GitHub Sponsors;&quot;}" href="/sponsors">
      
      <div>
        <div class="color-fg-default h4">GitHub Sponsors</div>
        Fund open source developers
      </div>

    
</a></li>

            </ul>
          </div>
          <div class="border-bottom pb-3 mb-3">
            <ul class="list-style-none f5" >
                <li>
  <a class="HeaderMenu-dropdown-link lh-condensed d-block no-underline position-relative py-2 Link--secondary d-flex flex-items-center" data-analytics-event="{&quot;category&quot;:&quot;Header dropdown (logged out), Open Source&quot;,&quot;action&quot;:&quot;click to go to The ReadME Project&quot;,&quot;label&quot;:&quot;ref_cta:The ReadME Project;&quot;}" href="/readme">
      
      <div>
        <div class="color-fg-default h4">The ReadME Project</div>
        GitHub community articles
      </div>

    
</a></li>

            </ul>
          </div>
          <div class="">
              <span class="d-block h4 color-fg-default my-1" id="open-source-repositories-heading">Repositories</span>
            <ul class="list-style-none f5" aria-labelledby="open-source-repositories-heading">
                <li>
  <a class="HeaderMenu-dropdown-link lh-condensed d-block no-underline position-relative py-2 Link--secondary" data-analytics-event="{&quot;category&quot;:&quot;Header dropdown (logged out), Open Source&quot;,&quot;action&quot;:&quot;click to go to Topics&quot;,&quot;label&quot;:&quot;ref_cta:Topics;&quot;}" href="/topics">
      Topics

    
</a></li>

                <li>
  <a class="HeaderMenu-dropdown-link lh-condensed d-block no-underline position-relative py-2 Link--secondary" data-analytics-event="{&quot;category&quot;:&quot;Header dropdown (logged out), Open Source&quot;,&quot;action&quot;:&quot;click to go to Trending&quot;,&quot;label&quot;:&quot;ref_cta:Trending;&quot;}" href="/trending">
      Trending

    
</a></li>

                <li>
  <a class="HeaderMenu-dropdown-link lh-condensed d-block no-underline position-relative py-2 Link--secondary" data-analytics-event="{&quot;category&quot;:&quot;Header dropdown (logged out), Open Source&quot;,&quot;action&quot;:&quot;click to go to Collections&quot;,&quot;label&quot;:&quot;ref_cta:Collections;&quot;}" href="/collections">
      Collections

    
</a></li>

            </ul>
          </div>
      </div>
</li>


                <li class="HeaderMenu-item position-relative flex-wrap flex-justify-between flex-items-center d-block d-lg-flex flex-lg-nowrap flex-lg-items-center js-details-container js-header-menu-item">
    <a class="HeaderMenu-link no-underline px-0 px-lg-2 py-3 py-lg-2 d-block d-lg-inline-block" data-analytics-event="{&quot;category&quot;:&quot;Header menu top item (logged out)&quot;,&quot;action&quot;:&quot;click to go to Pricing&quot;,&quot;label&quot;:&quot;ref_cta:Pricing;&quot;}" href="/pricing">Pricing</a>
</li>

            </ul>
          </nav>

        <div class="d-lg-flex flex-items-center mb-3 mb-lg-0 text-center text-lg-left ml-3" style="">
                


<qbsearch-input class="search-input" data-scope="repo:tchagau/Introduction-to-Data-Science-in-Python" data-custom-scopes-path="/search/custom_scopes" data-delete-custom-scopes-csrf="tdsKHhasfNnjkWGgmWM5hMXDC7u12Zd9UScX0h0b66c0WMPe87ZHOPZfNKfs8HGY1_y7x1zcnhevCRPxyHHzlg" data-max-custom-scopes="10" data-header-redesign-enabled="false" data-initial-value="" data-blackbird-suggestions-path="/search/suggestions" data-jump-to-suggestions-path="/_graphql/GetSuggestedNavigationDestinations" data-current-repository="tchagau/Introduction-to-Data-Science-in-Python" data-current-org="" data-current-owner="tchagau" data-logged-in="false">
  <div
    class="search-input-container search-with-dialog position-relative d-flex flex-row flex-items-center mr-4 rounded"
    data-action="click:qbsearch-input#searchInputContainerClicked"
  >
      <button
        type="button"
        class="header-search-button placeholder  input-button form-control d-flex flex-1 flex-self-stretch flex-items-center no-wrap width-full py-0 pl-2 pr-0 text-left border-0 box-shadow-none"
        data-target="qbsearch-input.inputButton"
        placeholder="Search or jump to..."
        data-hotkey=s,/
        autocapitalize="off"
        data-action="click:qbsearch-input#handleExpand"
      >
        <div class="mr-2 color-fg-muted">
          <svg aria-hidden="true" height="16" viewBox="0 0 16 16" version="1.1" width="16" data-view-component="true" class="octicon octicon-search">
    <path d="M10.68 11.74a6 6 0 0 1-7.922-8.982 6 6 0 0 1 8.982 7.922l3.04 3.04a.749.749 0 0 1-.326 1.275.749.749 0 0 1-.734-.215ZM11.5 7a4.499 4.499 0 1 0-8.997 0A4.499 4.499 0 0 0 11.5 7Z"></path>
</svg>
        </div>
        <span class="flex-1" data-target="qbsearch-input.inputButtonText">Search or jump to...</span>
          <div class="d-flex" data-target="qbsearch-input.hotkeyIndicator">
            <svg xmlns="http://www.w3.org/2000/svg" width="22" height="20" aria-hidden="true" class="mr-1"><path fill="none" stroke="#979A9C" opacity=".4" d="M3.5.5h12c1.7 0 3 1.3 3 3v13c0 1.7-1.3 3-3 3h-12c-1.7 0-3-1.3-3-3v-13c0-1.7 1.3-3 3-3z"></path><path fill="#979A9C" d="M11.8 6L8 15.1h-.9L10.8 6h1z"></path></svg>

          </div>
      </button>

    <input type="hidden" name="type" class="js-site-search-type-field">

    
<div class="Overlay--hidden " data-modal-dialog-overlay>
  <modal-dialog data-action="close:qbsearch-input#handleClose cancel:qbsearch-input#handleClose" data-target="qbsearch-input.searchSuggestionsDialog" role="dialog" id="search-suggestions-dialog" aria-modal="true" aria-labelledby="search-suggestions-dialog-header" data-view-component="true" class="Overlay Overlay--width-large Overlay--height-auto">
      <h1 id="search-suggestions-dialog-header" class="sr-only">Search code, repositories, users, issues, pull requests...</h1>
    <div class="Overlay-body Overlay-body--paddingNone">
      
          <div data-view-component="true">        <div class="search-suggestions position-fixed width-full color-shadow-large border color-fg-default color-bg-default overflow-hidden d-flex flex-column query-builder-container"
          style="border-radius: 12px;"
          data-target="qbsearch-input.queryBuilderContainer"
          hidden
        >
          <!-- '"` --><!-- </textarea></xmp> --></option></form><form id="query-builder-test-form" action="" accept-charset="UTF-8" method="get">
  <query-builder data-target="qbsearch-input.queryBuilder" id="query-builder-query-builder-test" data-filter-key=":" data-view-component="true" class="QueryBuilder search-query-builder">
    <div class="FormControl FormControl--fullWidth">
      <label id="query-builder-test-label" for="query-builder-test" class="FormControl-label sr-only">
        Search
      </label>
      <div
        class="QueryBuilder-StyledInput width-fit "
        data-target="query-builder.styledInput"
      >
          <span id="query-builder-test-leadingvisual-wrap" class="FormControl-input-leadingVisualWrap QueryBuilder-leadingVisualWrap">
            <svg aria-hidden="true" height="16" viewBox="0 0 16 16" version="1.1" width="16" data-view-component="true" class="octicon octicon-search FormControl-input-leadingVisual">
    <path d="M10.68 11.74a6 6 0 0 1-7.922-8.982 6 6 0 0 1 8.982 7.922l3.04 3.04a.749.749 0 0 1-.326 1.275.749.749 0 0 1-.734-.215ZM11.5 7a4.499 4.499 0 1 0-8.997 0A4.499 4.499 0 0 0 11.5 7Z"></path>
</svg>
          </span>
        <div data-target="query-builder.styledInputContainer" class="QueryBuilder-StyledInputContainer">
          <div
            aria-hidden="true"
            class="QueryBuilder-StyledInputContent"
            data-target="query-builder.styledInputContent"
          ></div>
          <div class="QueryBuilder-InputWrapper">
            <div aria-hidden="true" class="QueryBuilder-Sizer" data-target="query-builder.sizer"></div>
            <input id="query-builder-test" name="query-builder-test" value="" autocomplete="off" type="text" role="combobox" spellcheck="false" aria-expanded="false" aria-describedby="validation-af2c1957-c26e-4c32-b70c-50162f2ddf66" data-target="query-builder.input" data-action="
          input:query-builder#inputChange
          blur:query-builder#inputBlur
          keydown:query-builder#inputKeydown
          focus:query-builder#inputFocus
        " data-view-component="true" class="FormControl-input QueryBuilder-Input FormControl-medium" />
          </div>
        </div>
          <span class="sr-only" id="query-builder-test-clear">Clear</span>
          
  <button role="button" id="query-builder-test-clear-button" aria-labelledby="query-builder-test-clear query-builder-test-label" data-target="query-builder.clearButton" data-action="
                click:query-builder#clear
                focus:query-builder#clearButtonFocus
                blur:query-builder#clearButtonBlur
              " variant="small" hidden="hidden" type="button" data-view-component="true" class="Button Button--iconOnly Button--invisible Button--medium mr-1 px-2 py-0 d-flex flex-items-center rounded-1 color-fg-muted">    <svg aria-hidden="true" height="16" viewBox="0 0 16 16" version="1.1" width="16" data-view-component="true" class="octicon octicon-x-circle-fill Button-visual">
    <path d="M2.343 13.657A8 8 0 1 1 13.658 2.343 8 8 0 0 1 2.343 13.657ZM6.03 4.97a.751.751 0 0 0-1.042.018.751.751 0 0 0-.018 1.042L6.94 8 4.97 9.97a.749.749 0 0 0 .326 1.275.749.749 0 0 0 .734-.215L8 9.06l1.97 1.97a.749.749 0 0 0 1.275-.326.749.749 0 0 0-.215-.734L9.06 8l1.97-1.97a.749.749 0 0 0-.326-1.275.749.749 0 0 0-.734.215L8 6.94Z"></path>
</svg>
</button>  

      </div>
      <template id="search-icon">
  <svg aria-hidden="true" height="16" viewBox="0 0 16 16" version="1.1" width="16" data-view-component="true" class="octicon octicon-search">
    <path d="M10.68 11.74a6 6 0 0 1-7.922-8.982 6 6 0 0 1 8.982 7.922l3.04 3.04a.749.749 0 0 1-.326 1.275.749.749 0 0 1-.734-.215ZM11.5 7a4.499 4.499 0 1 0-8.997 0A4.499 4.499 0 0 0 11.5 7Z"></path>
</svg>
</template>

<template id="code-icon">
  <svg aria-hidden="true" height="16" viewBox="0 0 16 16" version="1.1" width="16" data-view-component="true" class="octicon octicon-code">
    <path d="m11.28 3.22 4.25 4.25a.75.75 0 0 1 0 1.06l-4.25 4.25a.749.749 0 0 1-1.275-.326.749.749 0 0 1 .215-.734L13.94 8l-3.72-3.72a.749.749 0 0 1 .326-1.275.749.749 0 0 1 .734.215Zm-6.56 0a.751.751 0 0 1 1.042.018.751.751 0 0 1 .018 1.042L2.06 8l3.72 3.72a.749.749 0 0 1-.326 1.275.749.749 0 0 1-.734-.215L.47 8.53a.75.75 0 0 1 0-1.06Z"></path>
</svg>
</template>

<template id="file-code-icon">
  <svg aria-hidden="true" height="16" viewBox="0 0 16 16" version="1.1" width="16" data-view-component="true" class="octicon octicon-file-code">
    <path d="M4 1.75C4 .784 4.784 0 5.75 0h5.586c.464 0 .909.184 1.237.513l2.914 2.914c.329.328.513.773.513 1.237v8.586A1.75 1.75 0 0 1 14.25 15h-9a.75.75 0 0 1 0-1.5h9a.25.25 0 0 0 .25-.25V6h-2.75A1.75 1.75 0 0 1 10 4.25V1.5H5.75a.25.25 0 0 0-.25.25v2.5a.75.75 0 0 1-1.5 0Zm1.72 4.97a.75.75 0 0 1 1.06 0l2 2a.75.75 0 0 1 0 1.06l-2 2a.749.749 0 0 1-1.275-.326.749.749 0 0 1 .215-.734l1.47-1.47-1.47-1.47a.75.75 0 0 1 0-1.06ZM3.28 7.78 1.81 9.25l1.47 1.47a.751.751 0 0 1-.018 1.042.751.751 0 0 1-1.042.018l-2-2a.75.75 0 0 1 0-1.06l2-2a.751.751 0 0 1 1.042.018.751.751 0 0 1 .018 1.042Zm8.22-6.218V4.25c0 .138.112.25.25.25h2.688l-.011-.013-2.914-2.914-.013-.011Z"></path>
</svg>
</template>

<template id="history-icon">
  <svg aria-hidden="true" height="16" viewBox="0 0 16 16" version="1.1" width="16" data-view-component="true" class="octicon octicon-history">
    <path d="m.427 1.927 1.215 1.215a8.002 8.002 0 1 1-1.6 5.685.75.75 0 1 1 1.493-.154 6.5 6.5 0 1 0 1.18-4.458l1.358 1.358A.25.25 0 0 1 3.896 6H.25A.25.25 0 0 1 0 5.75V2.104a.25.25 0 0 1 .427-.177ZM7.75 4a.75.75 0 0 1 .75.75v2.992l2.028.812a.75.75 0 0 1-.557 1.392l-2.5-1A.751.751 0 0 1 7 8.25v-3.5A.75.75 0 0 1 7.75 4Z"></path>
</svg>
</template>

<template id="repo-icon">
  <svg aria-hidden="true" height="16" viewBox="0 0 16 16" version="1.1" width="16" data-view-component="true" class="octicon octicon-repo">
    <path d="M2 2.5A2.5 2.5 0 0 1 4.5 0h8.75a.75.75 0 0 1 .75.75v12.5a.75.75 0 0 1-.75.75h-2.5a.75.75 0 0 1 0-1.5h1.75v-2h-8a1 1 0 0 0-.714 1.7.75.75 0 1 1-1.072 1.05A2.495 2.495 0 0 1 2 11.5Zm10.5-1h-8a1 1 0 0 0-1 1v6.708A2.486 2.486 0 0 1 4.5 9h8ZM5 12.25a.25.25 0 0 1 .25-.25h3.5a.25.25 0 0 1 .25.25v3.25a.25.25 0 0 1-.4.2l-1.45-1.087a.249.249 0 0 0-.3 0L5.4 15.7a.25.25 0 0 1-.4-.2Z"></path>
</svg>
</template>

<template id="bookmark-icon">
  <svg aria-hidden="true" height="16" viewBox="0 0 16 16" version="1.1" width="16" data-view-component="true" class="octicon octicon-bookmark">
    <path d="M3 2.75C3 1.784 3.784 1 4.75 1h6.5c.966 0 1.75.784 1.75 1.75v11.5a.75.75 0 0 1-1.227.579L8 11.722l-3.773 3.107A.751.751 0 0 1 3 14.25Zm1.75-.25a.25.25 0 0 0-.25.25v9.91l3.023-2.489a.75.75 0 0 1 .954 0l3.023 2.49V2.75a.25.25 0 0 0-.25-.25Z"></path>
</svg>
</template>

<template id="plus-circle-icon">
  <svg aria-hidden="true" height="16" viewBox="0 0 16 16" version="1.1" width="16" data-view-component="true" class="octicon octicon-plus-circle">
    <path d="M8 0a8 8 0 1 1 0 16A8 8 0 0 1 8 0ZM1.5 8a6.5 6.5 0 1 0 13 0 6.5 6.5 0 0 0-13 0Zm7.25-3.25v2.5h2.5a.75.75 0 0 1 0 1.5h-2.5v2.5a.75.75 0 0 1-1.5 0v-2.5h-2.5a.75.75 0 0 1 0-1.5h2.5v-2.5a.75.75 0 0 1 1.5 0Z"></path>
</svg>
</template>

<template id="circle-icon">
  <svg aria-hidden="true" height="16" viewBox="0 0 16 16" version="1.1" width="16" data-view-component="true" class="octicon octicon-dot-fill">
    <path d="M8 4a4 4 0 1 1 0 8 4 4 0 0 1 0-8Z"></path>
</svg>
</template>

<template id="trash-icon">
  <svg aria-hidden="true" height="16" viewBox="0 0 16 16" version="1.1" width="16" data-view-component="true" class="octicon octicon-trash">
    <path d="M11 1.75V3h2.25a.75.75 0 0 1 0 1.5H2.75a.75.75 0 0 1 0-1.5H5V1.75C5 .784 5.784 0 6.75 0h2.5C10.216 0 11 .784 11 1.75ZM4.496 6.675l.66 6.6a.25.25 0 0 0 .249.225h5.19a.25.25 0 0 0 .249-.225l.66-6.6a.75.75 0 0 1 1.492.149l-.66 6.6A1.748 1.748 0 0 1 10.595 15h-5.19a1.75 1.75 0 0 1-1.741-1.575l-.66-6.6a.75.75 0 1 1 1.492-.15ZM6.5 1.75V3h3V1.75a.25.25 0 0 0-.25-.25h-2.5a.25.25 0 0 0-.25.25Z"></path>
</svg>
</template>

<template id="team-icon">
  <svg aria-hidden="true" height="16" viewBox="0 0 16 16" version="1.1" width="16" data-view-component="true" class="octicon octicon-people">
    <path d="M2 5.5a3.5 3.5 0 1 1 5.898 2.549 5.508 5.508 0 0 1 3.034 4.084.75.75 0 1 1-1.482.235 4 4 0 0 0-7.9 0 .75.75 0 0 1-1.482-.236A5.507 5.507 0 0 1 3.102 8.05 3.493 3.493 0 0 1 2 5.5ZM11 4a3.001 3.001 0 0 1 2.22 5.018 5.01 5.01 0 0 1 2.56 3.012.749.749 0 0 1-.885.954.752.752 0 0 1-.549-.514 3.507 3.507 0 0 0-2.522-2.372.75.75 0 0 1-.574-.73v-.352a.75.75 0 0 1 .416-.672A1.5 1.5 0 0 0 11 5.5.75.75 0 0 1 11 4Zm-5.5-.5a2 2 0 1 0-.001 3.999A2 2 0 0 0 5.5 3.5Z"></path>
</svg>
</template>

<template id="project-icon">
  <svg aria-hidden="true" height="16" viewBox="0 0 16 16" version="1.1" width="16" data-view-component="true" class="octicon octicon-project">
    <path d="M1.75 0h12.5C15.216 0 16 .784 16 1.75v12.5A1.75 1.75 0 0 1 14.25 16H1.75A1.75 1.75 0 0 1 0 14.25V1.75C0 .784.784 0 1.75 0ZM1.5 1.75v12.5c0 .138.112.25.25.25h12.5a.25.25 0 0 0 .25-.25V1.75a.25.25 0 0 0-.25-.25H1.75a.25.25 0 0 0-.25.25ZM11.75 3a.75.75 0 0 1 .75.75v7.5a.75.75 0 0 1-1.5 0v-7.5a.75.75 0 0 1 .75-.75Zm-8.25.75a.75.75 0 0 1 1.5 0v5.5a.75.75 0 0 1-1.5 0ZM8 3a.75.75 0 0 1 .75.75v3.5a.75.75 0 0 1-1.5 0v-3.5A.75.75 0 0 1 8 3Z"></path>
</svg>
</template>

<template id="pencil-icon">
  <svg aria-hidden="true" height="16" viewBox="0 0 16 16" version="1.1" width="16" data-view-component="true" class="octicon octicon-pencil">
    <path d="M11.013 1.427a1.75 1.75 0 0 1 2.474 0l1.086 1.086a1.75 1.75 0 0 1 0 2.474l-8.61 8.61c-.21.21-.47.364-.756.445l-3.251.93a.75.75 0 0 1-.927-.928l.929-3.25c.081-.286.235-.547.445-.758l8.61-8.61Zm.176 4.823L9.75 4.81l-6.286 6.287a.253.253 0 0 0-.064.108l-.558 1.953 1.953-.558a.253.253 0 0 0 .108-.064Zm1.238-3.763a.25.25 0 0 0-.354 0L10.811 3.75l1.439 1.44 1.263-1.263a.25.25 0 0 0 0-.354Z"></path>
</svg>
</template>

        <div class="position-relative">
                <ul
                  role="listbox"
                  class="ActionListWrap QueryBuilder-ListWrap"
                  aria-label="Suggestions"
                  data-action="
                    combobox-commit:query-builder#comboboxCommit
                    mousedown:query-builder#resultsMousedown
                  "
                  data-target="query-builder.resultsList"
                  data-persist-list=false
                  id="query-builder-test-results"
                ></ul>
        </div>
      <div class="FormControl-inlineValidation" id="validation-af2c1957-c26e-4c32-b70c-50162f2ddf66" hidden="hidden">
        <span class="FormControl-inlineValidation--visual">
          <svg aria-hidden="true" height="12" viewBox="0 0 12 12" version="1.1" width="12" data-view-component="true" class="octicon octicon-alert-fill">
    <path d="M4.855.708c.5-.896 1.79-.896 2.29 0l4.675 8.351a1.312 1.312 0 0 1-1.146 1.954H1.33A1.313 1.313 0 0 1 .183 9.058ZM7 7V3H5v4Zm-1 3a1 1 0 1 0 0-2 1 1 0 0 0 0 2Z"></path>
</svg>
        </span>
        <span></span>
</div>    </div>
    <div data-target="query-builder.screenReaderFeedback" aria-live="polite" aria-atomic="true" class="sr-only"></div>
</query-builder></form>
          <div class="d-flex flex-row color-fg-muted px-3 text-small color-bg-default search-feedback-prompt">
            <a target="_blank" href="https://docs.github.com/en/search-github/github-code-search/understanding-github-code-search-syntax" data-view-component="true" class="Link color-fg-accent text-normal ml-2">
              Search syntax tips
</a>            <div class="d-flex flex-1"></div>
          </div>
        </div>
</div>

    </div>
</modal-dialog></div>
  </div>
  <div data-action="click:qbsearch-input#retract" class="dark-backdrop position-fixed" hidden data-target="qbsearch-input.darkBackdrop"></div>
  <div class="color-fg-default">
    
<div class="Overlay--hidden Overlay-backdrop--center" data-modal-dialog-overlay>
  <modal-dialog data-target="qbsearch-input.feedbackDialog" data-action="close:qbsearch-input#handleDialogClose cancel:qbsearch-input#handleDialogClose" role="dialog" id="feedback-dialog" aria-modal="true" aria-disabled="true" aria-labelledby="feedback-dialog-title" aria-describedby="feedback-dialog-description" data-view-component="true" class="Overlay Overlay-whenNarrow Overlay--size-medium Overlay--motion-scaleFade">
    <div data-view-component="true" class="Overlay-header">
  <div class="Overlay-headerContentWrap">
    <div class="Overlay-titleWrap">
      <h1 class="Overlay-title " id="feedback-dialog-title">
        Provide feedback
      </h1>
    </div>
    <div class="Overlay-actionWrap">
      <button data-close-dialog-id="feedback-dialog" aria-label="Close" type="button" data-view-component="true" class="close-button Overlay-closeButton"><svg aria-hidden="true" height="16" viewBox="0 0 16 16" version="1.1" width="16" data-view-component="true" class="octicon octicon-x">
    <path d="M3.72 3.72a.75.75 0 0 1 1.06 0L8 6.94l3.22-3.22a.749.749 0 0 1 1.275.326.749.749 0 0 1-.215.734L9.06 8l3.22 3.22a.749.749 0 0 1-.326 1.275.749.749 0 0 1-.734-.215L8 9.06l-3.22 3.22a.751.751 0 0 1-1.042-.018.751.751 0 0 1-.018-1.042L6.94 8 3.72 4.78a.75.75 0 0 1 0-1.06Z"></path>
</svg></button>
    </div>
  </div>
</div>
      <div data-view-component="true" class="Overlay-body">        <!-- '"` --><!-- </textarea></xmp> --></option></form><form id="code-search-feedback-form" data-turbo="false" action="/search/feedback" accept-charset="UTF-8" method="post"><input type="hidden" data-csrf="true" name="authenticity_token" value="cQ5WCggJKTAVjq6iGD9uo65l3bXx7r4rLqo9N+5hqza6cqOP6SmAxZk5wHK8QYapbXetwaVVZpqv+5wzMoP3fw==" />
          <p>We read every piece of feedback, and take your input very seriously.</p>
          <textarea name="feedback" class="form-control width-full mb-2" style="height: 120px" id="feedback"></textarea>
          <input name="include_email" id="include_email" aria-label="Include my email address so I can be contacted" class="form-control mr-2" type="checkbox">
          <label for="include_email" style="font-weight: normal">Include my email address so I can be contacted</label>
</form></div>
      <div data-view-component="true" class="Overlay-footer Overlay-footer--alignEnd">          <button data-close-dialog-id="feedback-dialog" type="button" data-view-component="true" class="btn">    Cancel
</button>
          <button form="code-search-feedback-form" data-action="click:qbsearch-input#submitFeedback" type="submit" data-view-component="true" class="btn-primary btn">    Submit feedback
</button>
</div>
</modal-dialog></div>

    <custom-scopes data-target="qbsearch-input.customScopesManager">
    
<div class="Overlay--hidden Overlay-backdrop--center" data-modal-dialog-overlay>
  <modal-dialog data-target="custom-scopes.customScopesModalDialog" data-action="close:qbsearch-input#handleDialogClose cancel:qbsearch-input#handleDialogClose" role="dialog" id="custom-scopes-dialog" aria-modal="true" aria-disabled="true" aria-labelledby="custom-scopes-dialog-title" aria-describedby="custom-scopes-dialog-description" data-view-component="true" class="Overlay Overlay-whenNarrow Overlay--size-medium Overlay--motion-scaleFade">
    <div data-view-component="true" class="Overlay-header Overlay-header--divided">
  <div class="Overlay-headerContentWrap">
    <div class="Overlay-titleWrap">
      <h1 class="Overlay-title " id="custom-scopes-dialog-title">
        Saved searches
      </h1>
        <h2 id="custom-scopes-dialog-description" class="Overlay-description">Use saved searches to filter your results more quickly</h2>
    </div>
    <div class="Overlay-actionWrap">
      <button data-close-dialog-id="custom-scopes-dialog" aria-label="Close" type="button" data-view-component="true" class="close-button Overlay-closeButton"><svg aria-hidden="true" height="16" viewBox="0 0 16 16" version="1.1" width="16" data-view-component="true" class="octicon octicon-x">
    <path d="M3.72 3.72a.75.75 0 0 1 1.06 0L8 6.94l3.22-3.22a.749.749 0 0 1 1.275.326.749.749 0 0 1-.215.734L9.06 8l3.22 3.22a.749.749 0 0 1-.326 1.275.749.749 0 0 1-.734-.215L8 9.06l-3.22 3.22a.751.751 0 0 1-1.042-.018.751.751 0 0 1-.018-1.042L6.94 8 3.72 4.78a.75.75 0 0 1 0-1.06Z"></path>
</svg></button>
    </div>
  </div>
</div>
      <div data-view-component="true" class="Overlay-body">        <div data-target="custom-scopes.customScopesModalDialogFlash"></div>

        <div hidden class="create-custom-scope-form" data-target="custom-scopes.createCustomScopeForm">
        <!-- '"` --><!-- </textarea></xmp> --></option></form><form id="custom-scopes-dialog-form" data-turbo="false" action="/search/custom_scopes" accept-charset="UTF-8" method="post"><input type="hidden" data-csrf="true" name="authenticity_token" value="8yMYsvYoPOSpaCs4qRpp3SzuZQIMJxIqjX/iUUg1DOs3MFP+hARaAY57PRRQ0Seriwxy5QluFEYN/zUu+AtTSA==" />
          <div data-target="custom-scopes.customScopesModalDialogFlash"></div>

          <input type="hidden" id="custom_scope_id" name="custom_scope_id" data-target="custom-scopes.customScopesIdField">

          <div class="form-group">
            <label for="custom_scope_name">Name</label>
            <auto-check src="/search/custom_scopes/check_name" required>
              <input
                type="text"
                name="custom_scope_name"
                id="custom_scope_name"
                data-target="custom-scopes.customScopesNameField"
                class="form-control"
                autocomplete="off"
                placeholder="github-ruby"
                required
                maxlength="50">
              <input type="hidden" data-csrf="true" value="mWyrCstIh8AGvN/u/GGA8C1NRdWPExQG14q3d0g71oeyeMx3N0Z0ZgP9zle9SgwrJizWJtJo/G50lW40IRV4zQ==" />
            </auto-check>
          </div>

          <div class="form-group">
            <label for="custom_scope_query">Query</label>
            <input
              type="text"
              name="custom_scope_query"
              id="custom_scope_query"
              data-target="custom-scopes.customScopesQueryField"
              class="form-control"
              autocomplete="off"
              placeholder="(repo:mona/a OR repo:mona/b) AND lang:python"
              required
              maxlength="500">
          </div>

          <p class="text-small color-fg-muted">
            To see all available qualifiers, see our <a class="Link--inTextBlock" href="https://docs.github.com/en/search-github/github-code-search/understanding-github-code-search-syntax">documentation</a>.
          </p>
</form>        </div>

        <div data-target="custom-scopes.manageCustomScopesForm">
          <div data-target="custom-scopes.list"></div>
        </div>

</div>
      <div data-view-component="true" class="Overlay-footer Overlay-footer--alignEnd Overlay-footer--divided">          <button data-action="click:custom-scopes#customScopesCancel" type="button" data-view-component="true" class="btn">    Cancel
</button>
          <button form="custom-scopes-dialog-form" data-action="click:custom-scopes#customScopesSubmit" data-target="custom-scopes.customScopesSubmitButton" type="submit" data-view-component="true" class="btn-primary btn">    Create saved search
</button>
</div>
</modal-dialog></div>
    </custom-scopes>
  </div>
</qbsearch-input><input type="hidden" data-csrf="true" class="js-data-jump-to-suggestions-path-csrf" value="rFjnGGTZjrsgtwPP0MgnOc1Vrci1fEdTL6s2gDHXAhHrxRcvWGqHqMCLtIsdQ0b3QR8UxLQWau49hop6UZRmZA==" />


          <div class="position-relative mr-lg-3 d-lg-inline-block">
            <a href="/login?return_to=https%3A%2F%2Fgithub.com%2Ftchagau%2FIntroduction-to-Data-Science-in-Python%2Fblob%2Fmain%2FAssignment_4%2Fassignment4.ipynb"
              class="HeaderMenu-link HeaderMenu-link--sign-in flex-shrink-0 no-underline d-block d-lg-inline-block border border-lg-0 rounded rounded-lg-0 p-2 p-lg-0"
              data-hydro-click="{&quot;event_type&quot;:&quot;authentication.click&quot;,&quot;payload&quot;:{&quot;location_in_page&quot;:&quot;site header menu&quot;,&quot;repository_id&quot;:null,&quot;auth_type&quot;:&quot;SIGN_UP&quot;,&quot;originating_url&quot;:&quot;https://github.com/tchagau/Introduction-to-Data-Science-in-Python/blob/main/Assignment_4/assignment4.ipynb&quot;,&quot;user_id&quot;:null}}" data-hydro-click-hmac="0e93a0c7e0e373882189addf4af7a47f56f48f1e3efb292a7abad0e79411069a"
              data-ga-click="(Logged out) Header, clicked Sign in, text:sign-in">
              Sign in
            </a>
          </div>

            <a href="/signup?ref_cta=Sign+up&amp;ref_loc=header+logged+out&amp;ref_page=%2F%3Cuser-name%3E%2F%3Crepo-name%3E%2Fblob%2Fshow&amp;source=header-repo&amp;source_repo=tchagau%2FIntroduction-to-Data-Science-in-Python"
              class="HeaderMenu-link HeaderMenu-link--sign-up flex-shrink-0 d-none d-lg-inline-block no-underline border color-border-default rounded px-2 py-1"
              data-hydro-click="{&quot;event_type&quot;:&quot;authentication.click&quot;,&quot;payload&quot;:{&quot;location_in_page&quot;:&quot;site header menu&quot;,&quot;repository_id&quot;:null,&quot;auth_type&quot;:&quot;SIGN_UP&quot;,&quot;originating_url&quot;:&quot;https://github.com/tchagau/Introduction-to-Data-Science-in-Python/blob/main/Assignment_4/assignment4.ipynb&quot;,&quot;user_id&quot;:null}}" data-hydro-click-hmac="0e93a0c7e0e373882189addf4af7a47f56f48f1e3efb292a7abad0e79411069a"
              data-analytics-event="{&quot;category&quot;:&quot;Sign up&quot;,&quot;action&quot;:&quot;click to sign up for account&quot;,&quot;label&quot;:&quot;ref_page:/&lt;user-name&gt;/&lt;repo-name&gt;/blob/show;ref_cta:Sign up;ref_loc:header logged out&quot;}"
            >
              Sign up
            </a>
        </div>
      </div>
    </div>
  </div>
</header>

      <div hidden="hidden" data-view-component="true" class="js-stale-session-flash flash flash-warn mb-3">
  
        <svg aria-hidden="true" height="16" viewBox="0 0 16 16" version="1.1" width="16" data-view-component="true" class="octicon octicon-alert">
    <path d="M6.457 1.047c.659-1.234 2.427-1.234 3.086 0l6.082 11.378A1.75 1.75 0 0 1 14.082 15H1.918a1.75 1.75 0 0 1-1.543-2.575Zm1.763.707a.25.25 0 0 0-.44 0L1.698 13.132a.25.25 0 0 0 .22.368h12.164a.25.25 0 0 0 .22-.368Zm.53 3.996v2.5a.75.75 0 0 1-1.5 0v-2.5a.75.75 0 0 1 1.5 0ZM9 11a1 1 0 1 1-2 0 1 1 0 0 1 2 0Z"></path>
</svg>
        <span class="js-stale-session-flash-signed-in" hidden>You signed in with another tab or window. <a class="Link--inTextBlock" href="">Reload</a> to refresh your session.</span>
        <span class="js-stale-session-flash-signed-out" hidden>You signed out in another tab or window. <a class="Link--inTextBlock" href="">Reload</a> to refresh your session.</span>
        <span class="js-stale-session-flash-switched" hidden>You switched accounts on another tab or window. <a class="Link--inTextBlock" href="">Reload</a> to refresh your session.</span>

    <div data-view-component="true" class="flash-close">
  <button id="icon-button-149f2dd8-c479-4813-bfe9-d7a835c6409d" type="button" data-view-component="true" class="Button Button--iconOnly Button--invisible Button--medium js-flash-close">    <svg aria-hidden="true" height="16" viewBox="0 0 16 16" version="1.1" width="16" data-view-component="true" class="octicon octicon-x Button-visual">
    <path d="M3.72 3.72a.75.75 0 0 1 1.06 0L8 6.94l3.22-3.22a.749.749 0 0 1 1.275.326.749.749 0 0 1-.215.734L9.06 8l3.22 3.22a.749.749 0 0 1-.326 1.275.749.749 0 0 1-.734-.215L8 9.06l-3.22 3.22a.751.751 0 0 1-1.042-.018.751.751 0 0 1-.018-1.042L6.94 8 3.72 4.78a.75.75 0 0 1 0-1.06Z"></path>
</svg>
</button>  <tool-tip id="tooltip-8b65a7c2-135a-49a0-bcdd-fca868f4a634" for="icon-button-149f2dd8-c479-4813-bfe9-d7a835c6409d" popover="manual" data-direction="s" data-type="label" data-view-component="true" class="sr-only position-absolute">Dismiss alert</tool-tip>
</div>

  
</div>
    </div>

  <div id="start-of-content" class="show-on-focus"></div>








    <div id="js-flash-container" data-turbo-replace>





  <template class="js-flash-template">
    
<div class="flash flash-full   {{ className }}">
  <div class="px-2" >
    <button autofocus class="flash-close js-flash-close" type="button" aria-label="Dismiss this message">
      <svg aria-hidden="true" height="16" viewBox="0 0 16 16" version="1.1" width="16" data-view-component="true" class="octicon octicon-x">
    <path d="M3.72 3.72a.75.75 0 0 1 1.06 0L8 6.94l3.22-3.22a.749.749 0 0 1 1.275.326.749.749 0 0 1-.215.734L9.06 8l3.22 3.22a.749.749 0 0 1-.326 1.275.749.749 0 0 1-.734-.215L8 9.06l-3.22 3.22a.751.751 0 0 1-1.042-.018.751.751 0 0 1-.018-1.042L6.94 8 3.72 4.78a.75.75 0 0 1 0-1.06Z"></path>
</svg>
    </button>
    <div aria-atomic="true" role="alert" class="js-flash-alert">
      
      <div>{{ message }}</div>

    </div>
  </div>
</div>
  </template>
</div>


    
    <include-fragment class="js-notification-shelf-include-fragment" data-base-src="https://github.com/notifications/beta/shelf"></include-fragment>






  <div
    class="application-main "
    data-commit-hovercards-enabled
    data-discussion-hovercards-enabled
    data-issue-and-pr-hovercards-enabled
  >
        <div itemscope itemtype="http://schema.org/SoftwareSourceCode" class="">
    <main id="js-repo-pjax-container" >
      
      
      






  
  <div id="repository-container-header"  class="pt-3 hide-full-screen" style="background-color: var(--color-page-header-bg);" data-turbo-replace>

      <div class="d-flex flex-wrap flex-justify-end mb-3  px-3 px-md-4 px-lg-5" style="gap: 1rem;">

        <div class="flex-auto min-width-0 width-fit mr-3">
            
  <div class=" d-flex flex-wrap flex-items-center wb-break-word f3 text-normal">
      <svg aria-hidden="true" height="16" viewBox="0 0 16 16" version="1.1" width="16" data-view-component="true" class="octicon octicon-repo color-fg-muted mr-2">
    <path d="M2 2.5A2.5 2.5 0 0 1 4.5 0h8.75a.75.75 0 0 1 .75.75v12.5a.75.75 0 0 1-.75.75h-2.5a.75.75 0 0 1 0-1.5h1.75v-2h-8a1 1 0 0 0-.714 1.7.75.75 0 1 1-1.072 1.05A2.495 2.495 0 0 1 2 11.5Zm10.5-1h-8a1 1 0 0 0-1 1v6.708A2.486 2.486 0 0 1 4.5 9h8ZM5 12.25a.25.25 0 0 1 .25-.25h3.5a.25.25 0 0 1 .25.25v3.25a.25.25 0 0 1-.4.2l-1.45-1.087a.249.249 0 0 0-.3 0L5.4 15.7a.25.25 0 0 1-.4-.2Z"></path>
</svg>
    
    <span class="author flex-self-stretch" itemprop="author">
      <a class="url fn" rel="author" data-hovercard-type="user" data-hovercard-url="/users/tchagau/hovercard" data-octo-click="hovercard-link-click" data-octo-dimensions="link_type:self" href="/tchagau">
        tchagau
</a>    </span>
    <span class="mx-1 flex-self-stretch color-fg-muted">/</span>
    <strong itemprop="name" class="mr-2 flex-self-stretch">
      <a data-pjax="#repo-content-pjax-container" data-turbo-frame="repo-content-turbo-frame" href="/tchagau/Introduction-to-Data-Science-in-Python">Introduction-to-Data-Science-in-Python</a>
    </strong>

    <span></span><span class="Label Label--secondary v-align-middle mr-1">Public</span>
  </div>


        </div>

        <div id="repository-details-container" data-turbo-replace>
            <ul class="pagehead-actions flex-shrink-0 d-none d-md-inline" style="padding: 2px 0;">
    
      

  <li>
            <a href="/login?return_to=%2Ftchagau%2FIntroduction-to-Data-Science-in-Python" rel="nofollow" data-hydro-click="{&quot;event_type&quot;:&quot;authentication.click&quot;,&quot;payload&quot;:{&quot;location_in_page&quot;:&quot;notification subscription menu watch&quot;,&quot;repository_id&quot;:null,&quot;auth_type&quot;:&quot;LOG_IN&quot;,&quot;originating_url&quot;:&quot;https://github.com/tchagau/Introduction-to-Data-Science-in-Python/blob/main/Assignment_4/assignment4.ipynb&quot;,&quot;user_id&quot;:null}}" data-hydro-click-hmac="4fb0608a6fd1bdfc2be8619d15a2b0e55ce41d0d9962ef3cff9208f9d36704b8" aria-label="You must be signed in to change notification settings" data-view-component="true" class="tooltipped tooltipped-s btn-sm btn">    <svg aria-hidden="true" height="16" viewBox="0 0 16 16" version="1.1" width="16" data-view-component="true" class="octicon octicon-bell mr-2">
    <path d="M8 16a2 2 0 0 0 1.985-1.75c.017-.137-.097-.25-.235-.25h-3.5c-.138 0-.252.113-.235.25A2 2 0 0 0 8 16ZM3 5a5 5 0 0 1 10 0v2.947c0 .05.015.098.042.139l1.703 2.555A1.519 1.519 0 0 1 13.482 13H2.518a1.516 1.516 0 0 1-1.263-2.36l1.703-2.554A.255.255 0 0 0 3 7.947Zm5-3.5A3.5 3.5 0 0 0 4.5 5v2.947c0 .346-.102.683-.294.97l-1.703 2.556a.017.017 0 0 0-.003.01l.001.006c0 .002.002.004.004.006l.006.004.007.001h10.964l.007-.001.006-.004.004-.006.001-.007a.017.017 0 0 0-.003-.01l-1.703-2.554a1.745 1.745 0 0 1-.294-.97V5A3.5 3.5 0 0 0 8 1.5Z"></path>
</svg>Notifications
</a>
  </li>

  <li>
          <a icon="repo-forked" id="fork-button" href="/login?return_to=%2Ftchagau%2FIntroduction-to-Data-Science-in-Python" rel="nofollow" data-hydro-click="{&quot;event_type&quot;:&quot;authentication.click&quot;,&quot;payload&quot;:{&quot;location_in_page&quot;:&quot;repo details fork button&quot;,&quot;repository_id&quot;:320946649,&quot;auth_type&quot;:&quot;LOG_IN&quot;,&quot;originating_url&quot;:&quot;https://github.com/tchagau/Introduction-to-Data-Science-in-Python/blob/main/Assignment_4/assignment4.ipynb&quot;,&quot;user_id&quot;:null}}" data-hydro-click-hmac="98dc0a43b9db8045253e2751aac6e069dcba2fa92192b2157e50b951cf5f8ee5" data-view-component="true" class="btn-sm btn">    <svg aria-hidden="true" height="16" viewBox="0 0 16 16" version="1.1" width="16" data-view-component="true" class="octicon octicon-repo-forked mr-2">
    <path d="M5 5.372v.878c0 .414.336.75.75.75h4.5a.75.75 0 0 0 .75-.75v-.878a2.25 2.25 0 1 1 1.5 0v.878a2.25 2.25 0 0 1-2.25 2.25h-1.5v2.128a2.251 2.251 0 1 1-1.5 0V8.5h-1.5A2.25 2.25 0 0 1 3.5 6.25v-.878a2.25 2.25 0 1 1 1.5 0ZM5 3.25a.75.75 0 1 0-1.5 0 .75.75 0 0 0 1.5 0Zm6.75.75a.75.75 0 1 0 0-1.5.75.75 0 0 0 0 1.5Zm-3 8.75a.75.75 0 1 0-1.5 0 .75.75 0 0 0 1.5 0Z"></path>
</svg>Fork
    <span id="repo-network-counter" data-pjax-replace="true" data-turbo-replace="true" title="52" data-view-component="true" class="Counter">52</span>
</a>
  </li>

  <li>
        <div data-view-component="true" class="BtnGroup d-flex">
        <a href="/login?return_to=%2Ftchagau%2FIntroduction-to-Data-Science-in-Python" rel="nofollow" data-hydro-click="{&quot;event_type&quot;:&quot;authentication.click&quot;,&quot;payload&quot;:{&quot;location_in_page&quot;:&quot;star button&quot;,&quot;repository_id&quot;:320946649,&quot;auth_type&quot;:&quot;LOG_IN&quot;,&quot;originating_url&quot;:&quot;https://github.com/tchagau/Introduction-to-Data-Science-in-Python/blob/main/Assignment_4/assignment4.ipynb&quot;,&quot;user_id&quot;:null}}" data-hydro-click-hmac="ef5d54724c4a3f98ff3eb363f1eeab93049c6ba04896cd0b87749b35f768913f" aria-label="You must be signed in to star a repository" data-view-component="true" class="tooltipped tooltipped-s btn-sm btn BtnGroup-item">    <svg aria-hidden="true" height="16" viewBox="0 0 16 16" version="1.1" width="16" data-view-component="true" class="octicon octicon-star v-align-text-bottom d-inline-block mr-2">
    <path d="M8 .25a.75.75 0 0 1 .673.418l1.882 3.815 4.21.612a.75.75 0 0 1 .416 1.279l-3.046 2.97.719 4.192a.751.751 0 0 1-1.088.791L8 12.347l-3.766 1.98a.75.75 0 0 1-1.088-.79l.72-4.194L.818 6.374a.75.75 0 0 1 .416-1.28l4.21-.611L7.327.668A.75.75 0 0 1 8 .25Zm0 2.445L6.615 5.5a.75.75 0 0 1-.564.41l-3.097.45 2.24 2.184a.75.75 0 0 1 .216.664l-.528 3.084 2.769-1.456a.75.75 0 0 1 .698 0l2.77 1.456-.53-3.084a.75.75 0 0 1 .216-.664l2.24-2.183-3.096-.45a.75.75 0 0 1-.564-.41L8 2.694Z"></path>
</svg><span data-view-component="true" class="d-inline">
          Star
</span>          <span id="repo-stars-counter-star" aria-label="41 users starred this repository" data-singular-suffix="user starred this repository" data-plural-suffix="users starred this repository" data-turbo-replace="true" title="41" data-view-component="true" class="Counter js-social-count">41</span>
</a>        <button aria-label="You must be signed in to add this repository to a list" type="button" disabled="disabled" data-view-component="true" class="btn-sm btn BtnGroup-item px-2">    <svg aria-hidden="true" height="16" viewBox="0 0 16 16" version="1.1" width="16" data-view-component="true" class="octicon octicon-triangle-down">
    <path d="m4.427 7.427 3.396 3.396a.25.25 0 0 0 .354 0l3.396-3.396A.25.25 0 0 0 11.396 7H4.604a.25.25 0 0 0-.177.427Z"></path>
</svg>
</button></div>
  </li>

</ul>

        </div>
      </div>

        <div id="responsive-meta-container" data-turbo-replace>
</div>


          <nav data-pjax="#js-repo-pjax-container" aria-label="Repository" data-view-component="true" class="js-repo-nav js-sidenav-container-pjax js-responsive-underlinenav overflow-hidden UnderlineNav px-3 px-md-4 px-lg-5">

  <ul data-view-component="true" class="UnderlineNav-body list-style-none">
      <li data-view-component="true" class="d-inline-flex">
  <a id="code-tab" href="/tchagau/Introduction-to-Data-Science-in-Python" data-tab-item="i0code-tab" data-selected-links="repo_source repo_downloads repo_commits repo_releases repo_tags repo_branches repo_packages repo_deployments /tchagau/Introduction-to-Data-Science-in-Python" data-pjax="#repo-content-pjax-container" data-turbo-frame="repo-content-turbo-frame" data-hotkey="g c" data-analytics-event="{&quot;category&quot;:&quot;Underline navbar&quot;,&quot;action&quot;:&quot;Click tab&quot;,&quot;label&quot;:&quot;Code&quot;,&quot;target&quot;:&quot;UNDERLINE_NAV.TAB&quot;}" aria-current="page" data-view-component="true" class="UnderlineNav-item no-wrap js-responsive-underlinenav-item js-selected-navigation-item selected">
    
              <svg aria-hidden="true" height="16" viewBox="0 0 16 16" version="1.1" width="16" data-view-component="true" class="octicon octicon-code UnderlineNav-octicon d-none d-sm-inline">
    <path d="m11.28 3.22 4.25 4.25a.75.75 0 0 1 0 1.06l-4.25 4.25a.749.749 0 0 1-1.275-.326.749.749 0 0 1 .215-.734L13.94 8l-3.72-3.72a.749.749 0 0 1 .326-1.275.749.749 0 0 1 .734.215Zm-6.56 0a.751.751 0 0 1 1.042.018.751.751 0 0 1 .018 1.042L2.06 8l3.72 3.72a.749.749 0 0 1-.326 1.275.749.749 0 0 1-.734-.215L.47 8.53a.75.75 0 0 1 0-1.06Z"></path>
</svg>
        <span data-content="Code">Code</span>
          <span id="code-repo-tab-count" data-pjax-replace="" data-turbo-replace="" title="Not available" data-view-component="true" class="Counter"></span>


    
</a></li>
      <li data-view-component="true" class="d-inline-flex">
  <a id="issues-tab" href="/tchagau/Introduction-to-Data-Science-in-Python/issues" data-tab-item="i1issues-tab" data-selected-links="repo_issues repo_labels repo_milestones /tchagau/Introduction-to-Data-Science-in-Python/issues" data-pjax="#repo-content-pjax-container" data-turbo-frame="repo-content-turbo-frame" data-hotkey="g i" data-analytics-event="{&quot;category&quot;:&quot;Underline navbar&quot;,&quot;action&quot;:&quot;Click tab&quot;,&quot;label&quot;:&quot;Issues&quot;,&quot;target&quot;:&quot;UNDERLINE_NAV.TAB&quot;}" data-view-component="true" class="UnderlineNav-item no-wrap js-responsive-underlinenav-item js-selected-navigation-item">
    
              <svg aria-hidden="true" height="16" viewBox="0 0 16 16" version="1.1" width="16" data-view-component="true" class="octicon octicon-issue-opened UnderlineNav-octicon d-none d-sm-inline">
    <path d="M8 9.5a1.5 1.5 0 1 0 0-3 1.5 1.5 0 0 0 0 3Z"></path><path d="M8 0a8 8 0 1 1 0 16A8 8 0 0 1 8 0ZM1.5 8a6.5 6.5 0 1 0 13 0 6.5 6.5 0 0 0-13 0Z"></path>
</svg>
        <span data-content="Issues">Issues</span>
          <span id="issues-repo-tab-count" data-pjax-replace="" data-turbo-replace="" title="0" hidden="hidden" data-view-component="true" class="Counter">0</span>


    
</a></li>
      <li data-view-component="true" class="d-inline-flex">
  <a id="pull-requests-tab" href="/tchagau/Introduction-to-Data-Science-in-Python/pulls" data-tab-item="i2pull-requests-tab" data-selected-links="repo_pulls checks /tchagau/Introduction-to-Data-Science-in-Python/pulls" data-pjax="#repo-content-pjax-container" data-turbo-frame="repo-content-turbo-frame" data-hotkey="g p" data-analytics-event="{&quot;category&quot;:&quot;Underline navbar&quot;,&quot;action&quot;:&quot;Click tab&quot;,&quot;label&quot;:&quot;Pull requests&quot;,&quot;target&quot;:&quot;UNDERLINE_NAV.TAB&quot;}" data-view-component="true" class="UnderlineNav-item no-wrap js-responsive-underlinenav-item js-selected-navigation-item">
    
              <svg aria-hidden="true" height="16" viewBox="0 0 16 16" version="1.1" width="16" data-view-component="true" class="octicon octicon-git-pull-request UnderlineNav-octicon d-none d-sm-inline">
    <path d="M1.5 3.25a2.25 2.25 0 1 1 3 2.122v5.256a2.251 2.251 0 1 1-1.5 0V5.372A2.25 2.25 0 0 1 1.5 3.25Zm5.677-.177L9.573.677A.25.25 0 0 1 10 .854V2.5h1A2.5 2.5 0 0 1 13.5 5v5.628a2.251 2.251 0 1 1-1.5 0V5a1 1 0 0 0-1-1h-1v1.646a.25.25 0 0 1-.427.177L7.177 3.427a.25.25 0 0 1 0-.354ZM3.75 2.5a.75.75 0 1 0 0 1.5.75.75 0 0 0 0-1.5Zm0 9.5a.75.75 0 1 0 0 1.5.75.75 0 0 0 0-1.5Zm8.25.75a.75.75 0 1 0 1.5 0 .75.75 0 0 0-1.5 0Z"></path>
</svg>
        <span data-content="Pull requests">Pull requests</span>
          <span id="pull-requests-repo-tab-count" data-pjax-replace="" data-turbo-replace="" title="0" hidden="hidden" data-view-component="true" class="Counter">0</span>


    
</a></li>
      <li data-view-component="true" class="d-inline-flex">
  <a id="actions-tab" href="/tchagau/Introduction-to-Data-Science-in-Python/actions" data-tab-item="i3actions-tab" data-selected-links="repo_actions /tchagau/Introduction-to-Data-Science-in-Python/actions" data-pjax="#repo-content-pjax-container" data-turbo-frame="repo-content-turbo-frame" data-hotkey="g a" data-analytics-event="{&quot;category&quot;:&quot;Underline navbar&quot;,&quot;action&quot;:&quot;Click tab&quot;,&quot;label&quot;:&quot;Actions&quot;,&quot;target&quot;:&quot;UNDERLINE_NAV.TAB&quot;}" data-view-component="true" class="UnderlineNav-item no-wrap js-responsive-underlinenav-item js-selected-navigation-item">
    
              <svg aria-hidden="true" height="16" viewBox="0 0 16 16" version="1.1" width="16" data-view-component="true" class="octicon octicon-play UnderlineNav-octicon d-none d-sm-inline">
    <path d="M8 0a8 8 0 1 1 0 16A8 8 0 0 1 8 0ZM1.5 8a6.5 6.5 0 1 0 13 0 6.5 6.5 0 0 0-13 0Zm4.879-2.773 4.264 2.559a.25.25 0 0 1 0 .428l-4.264 2.559A.25.25 0 0 1 6 10.559V5.442a.25.25 0 0 1 .379-.215Z"></path>
</svg>
        <span data-content="Actions">Actions</span>
          <span id="actions-repo-tab-count" data-pjax-replace="" data-turbo-replace="" title="Not available" data-view-component="true" class="Counter"></span>


    
</a></li>
      <li data-view-component="true" class="d-inline-flex">
  <a id="projects-tab" href="/tchagau/Introduction-to-Data-Science-in-Python/projects" data-tab-item="i4projects-tab" data-selected-links="repo_projects new_repo_project repo_project /tchagau/Introduction-to-Data-Science-in-Python/projects" data-pjax="#repo-content-pjax-container" data-turbo-frame="repo-content-turbo-frame" data-hotkey="g b" data-analytics-event="{&quot;category&quot;:&quot;Underline navbar&quot;,&quot;action&quot;:&quot;Click tab&quot;,&quot;label&quot;:&quot;Projects&quot;,&quot;target&quot;:&quot;UNDERLINE_NAV.TAB&quot;}" data-view-component="true" class="UnderlineNav-item no-wrap js-responsive-underlinenav-item js-selected-navigation-item">
    
              <svg aria-hidden="true" height="16" viewBox="0 0 16 16" version="1.1" width="16" data-view-component="true" class="octicon octicon-table UnderlineNav-octicon d-none d-sm-inline">
    <path d="M0 1.75C0 .784.784 0 1.75 0h12.5C15.216 0 16 .784 16 1.75v12.5A1.75 1.75 0 0 1 14.25 16H1.75A1.75 1.75 0 0 1 0 14.25ZM6.5 6.5v8h7.75a.25.25 0 0 0 .25-.25V6.5Zm8-1.5V1.75a.25.25 0 0 0-.25-.25H6.5V5Zm-13 1.5v7.75c0 .138.112.25.25.25H5v-8ZM5 5V1.5H1.75a.25.25 0 0 0-.25.25V5Z"></path>
</svg>
        <span data-content="Projects">Projects</span>
          <span id="projects-repo-tab-count" data-pjax-replace="" data-turbo-replace="" title="0" hidden="hidden" data-view-component="true" class="Counter">0</span>


    
</a></li>
      <li data-view-component="true" class="d-inline-flex">
  <a id="security-tab" href="/tchagau/Introduction-to-Data-Science-in-Python/security" data-tab-item="i5security-tab" data-selected-links="security overview alerts policy token_scanning code_scanning /tchagau/Introduction-to-Data-Science-in-Python/security" data-pjax="#repo-content-pjax-container" data-turbo-frame="repo-content-turbo-frame" data-hotkey="g s" data-analytics-event="{&quot;category&quot;:&quot;Underline navbar&quot;,&quot;action&quot;:&quot;Click tab&quot;,&quot;label&quot;:&quot;Security&quot;,&quot;target&quot;:&quot;UNDERLINE_NAV.TAB&quot;}" data-view-component="true" class="UnderlineNav-item no-wrap js-responsive-underlinenav-item js-selected-navigation-item">
    
              <svg aria-hidden="true" height="16" viewBox="0 0 16 16" version="1.1" width="16" data-view-component="true" class="octicon octicon-shield UnderlineNav-octicon d-none d-sm-inline">
    <path d="M7.467.133a1.748 1.748 0 0 1 1.066 0l5.25 1.68A1.75 1.75 0 0 1 15 3.48V7c0 1.566-.32 3.182-1.303 4.682-.983 1.498-2.585 2.813-5.032 3.855a1.697 1.697 0 0 1-1.33 0c-2.447-1.042-4.049-2.357-5.032-3.855C1.32 10.182 1 8.566 1 7V3.48a1.75 1.75 0 0 1 1.217-1.667Zm.61 1.429a.25.25 0 0 0-.153 0l-5.25 1.68a.25.25 0 0 0-.174.238V7c0 1.358.275 2.666 1.057 3.86.784 1.194 2.121 2.34 4.366 3.297a.196.196 0 0 0 .154 0c2.245-.956 3.582-2.104 4.366-3.298C13.225 9.666 13.5 8.36 13.5 7V3.48a.251.251 0 0 0-.174-.237l-5.25-1.68ZM8.75 4.75v3a.75.75 0 0 1-1.5 0v-3a.75.75 0 0 1 1.5 0ZM9 10.5a1 1 0 1 1-2 0 1 1 0 0 1 2 0Z"></path>
</svg>
        <span data-content="Security">Security</span>
          <include-fragment src="/tchagau/Introduction-to-Data-Science-in-Python/security/overall-count" accept="text/fragment+html"></include-fragment>

    
</a></li>
      <li data-view-component="true" class="d-inline-flex">
  <a id="insights-tab" href="/tchagau/Introduction-to-Data-Science-in-Python/pulse" data-tab-item="i6insights-tab" data-selected-links="repo_graphs repo_contributors dependency_graph dependabot_updates pulse people community /tchagau/Introduction-to-Data-Science-in-Python/pulse" data-pjax="#repo-content-pjax-container" data-turbo-frame="repo-content-turbo-frame" data-analytics-event="{&quot;category&quot;:&quot;Underline navbar&quot;,&quot;action&quot;:&quot;Click tab&quot;,&quot;label&quot;:&quot;Insights&quot;,&quot;target&quot;:&quot;UNDERLINE_NAV.TAB&quot;}" data-view-component="true" class="UnderlineNav-item no-wrap js-responsive-underlinenav-item js-selected-navigation-item">
    
              <svg aria-hidden="true" height="16" viewBox="0 0 16 16" version="1.1" width="16" data-view-component="true" class="octicon octicon-graph UnderlineNav-octicon d-none d-sm-inline">
    <path d="M1.5 1.75V13.5h13.75a.75.75 0 0 1 0 1.5H.75a.75.75 0 0 1-.75-.75V1.75a.75.75 0 0 1 1.5 0Zm14.28 2.53-5.25 5.25a.75.75 0 0 1-1.06 0L7 7.06 4.28 9.78a.751.751 0 0 1-1.042-.018.751.751 0 0 1-.018-1.042l3.25-3.25a.75.75 0 0 1 1.06 0L10 7.94l4.72-4.72a.751.751 0 0 1 1.042.018.751.751 0 0 1 .018 1.042Z"></path>
</svg>
        <span data-content="Insights">Insights</span>
          <span id="insights-repo-tab-count" data-pjax-replace="" data-turbo-replace="" title="Not available" data-view-component="true" class="Counter"></span>


    
</a></li>
</ul>
    <div style="visibility:hidden;" data-view-component="true" class="UnderlineNav-actions js-responsive-underlinenav-overflow position-absolute pr-3 pr-md-4 pr-lg-5 right-0">        <details data-view-component="true" class="details-overlay details-reset position-relative">
    <summary role="button" data-view-component="true">          <div class="UnderlineNav-item mr-0 border-0">
            <svg aria-hidden="true" height="16" viewBox="0 0 16 16" version="1.1" width="16" data-view-component="true" class="octicon octicon-kebab-horizontal">
    <path d="M8 9a1.5 1.5 0 1 0 0-3 1.5 1.5 0 0 0 0 3ZM1.5 9a1.5 1.5 0 1 0 0-3 1.5 1.5 0 0 0 0 3Zm13 0a1.5 1.5 0 1 0 0-3 1.5 1.5 0 0 0 0 3Z"></path>
</svg>
            <span class="sr-only">More</span>
          </div>
</summary>
    <details-menu role="menu" data-view-component="true" class="dropdown-menu dropdown-menu-sw">
          <ul>
              <li data-menu-item="i0code-tab" hidden>
                <a role="menuitem" class="js-selected-navigation-item selected dropdown-item" aria-current="page" data-selected-links="repo_source repo_downloads repo_commits repo_releases repo_tags repo_branches repo_packages repo_deployments /tchagau/Introduction-to-Data-Science-in-Python" href="/tchagau/Introduction-to-Data-Science-in-Python">
                  Code
</a>              </li>
              <li data-menu-item="i1issues-tab" hidden>
                <a role="menuitem" class="js-selected-navigation-item dropdown-item" data-selected-links="repo_issues repo_labels repo_milestones /tchagau/Introduction-to-Data-Science-in-Python/issues" href="/tchagau/Introduction-to-Data-Science-in-Python/issues">
                  Issues
</a>              </li>
              <li data-menu-item="i2pull-requests-tab" hidden>
                <a role="menuitem" class="js-selected-navigation-item dropdown-item" data-selected-links="repo_pulls checks /tchagau/Introduction-to-Data-Science-in-Python/pulls" href="/tchagau/Introduction-to-Data-Science-in-Python/pulls">
                  Pull requests
</a>              </li>
              <li data-menu-item="i3actions-tab" hidden>
                <a role="menuitem" class="js-selected-navigation-item dropdown-item" data-selected-links="repo_actions /tchagau/Introduction-to-Data-Science-in-Python/actions" href="/tchagau/Introduction-to-Data-Science-in-Python/actions">
                  Actions
</a>              </li>
              <li data-menu-item="i4projects-tab" hidden>
                <a role="menuitem" class="js-selected-navigation-item dropdown-item" data-selected-links="repo_projects new_repo_project repo_project /tchagau/Introduction-to-Data-Science-in-Python/projects" href="/tchagau/Introduction-to-Data-Science-in-Python/projects">
                  Projects
</a>              </li>
              <li data-menu-item="i5security-tab" hidden>
                <a role="menuitem" class="js-selected-navigation-item dropdown-item" data-selected-links="security overview alerts policy token_scanning code_scanning /tchagau/Introduction-to-Data-Science-in-Python/security" href="/tchagau/Introduction-to-Data-Science-in-Python/security">
                  Security
</a>              </li>
              <li data-menu-item="i6insights-tab" hidden>
                <a role="menuitem" class="js-selected-navigation-item dropdown-item" data-selected-links="repo_graphs repo_contributors dependency_graph dependabot_updates pulse people community /tchagau/Introduction-to-Data-Science-in-Python/pulse" href="/tchagau/Introduction-to-Data-Science-in-Python/pulse">
                  Insights
</a>              </li>
          </ul>
</details-menu>
</details></div>
</nav>

  </div>

  



<turbo-frame id="repo-content-turbo-frame" target="_top" data-turbo-action="advance" class="">
    <div id="repo-content-pjax-container" class="repository-content " >
    


    
      
    





<react-app
  app-name="react-code-view"
  initial-path="/tchagau/Introduction-to-Data-Science-in-Python/blob/main/Assignment_4/assignment4.ipynb"
  style="min-height: calc(100vh - 62px)"
  data-ssr="false"
  data-lazy="false"
  data-alternate="false"
>
  
  <script type="application/json" data-target="react-app.embeddedData">{"payload":{"allShortcutsEnabled":false,"fileTree":{"Assignment_4":{"items":[{"name":"assets","path":"Assignment_4/assets","contentType":"directory"},{"name":"assignment4.ipynb","path":"Assignment_4/assignment4.ipynb","contentType":"file"}],"totalCount":2},"":{"items":[{"name":"Assignment_1","path":"Assignment_1","contentType":"directory"},{"name":"Assignment_2","path":"Assignment_2","contentType":"directory"},{"name":"Assignment_3","path":"Assignment_3","contentType":"directory"},{"name":"Assignment_4","path":"Assignment_4","contentType":"directory"},{"name":"README.md","path":"README.md","contentType":"file"}],"totalCount":5}},"fileTreeProcessingTime":4.11953,"foldersToFetch":[],"reducedMotionEnabled":null,"repo":{"id":320946649,"defaultBranch":"main","name":"Introduction-to-Data-Science-in-Python","ownerLogin":"tchagau","currentUserCanPush":false,"isFork":false,"isEmpty":false,"createdAt":"2020-12-12T23:41:01.000Z","ownerAvatar":"https://avatars.githubusercontent.com/u/55589138?v=4","public":true,"private":false,"isOrgOwned":false},"symbolsExpanded":false,"treeExpanded":true,"refInfo":{"name":"main","listCacheKey":"v0:1607816464.0","canEdit":false,"refType":"branch","currentOid":"1b70c894eeaf247707e7b5736f627f98a26e1a38"},"path":"Assignment_4/assignment4.ipynb","currentUser":null,"blob":{"rawLines":["{"," \"cells\": [","  {","   \"cell_type\": \"markdown\",","   \"metadata\": {","    \"deletable\": false,","    \"editable\": false,","    \"nbgrader\": {","     \"checksum\": \"48770f8b5f5d3062d3badd51fcafc401\",","     \"grade\": false,","     \"grade_id\": \"cell-a6c4f74309fc2379\",","     \"locked\": true,","     \"schema_version\": 1,","     \"solution\": false","    }","   },","   \"source\": [","    \"# Assignment 4\\n\",","    \"## Description\\n\",","    \"In this assignment you must read in a file of metropolitan regions and associated sports teams from [assets/wikipedia_data.html](assets/wikipedia_data.html) and answer some questions about each metropolitan region. Each of these regions may have one or more teams from the \\\"Big 4\\\": NFL (football, in [assets/nfl.csv](assets/nfl.csv)), MLB (baseball, in [assets/mlb.csv](assets/mlb.csv)), NBA (basketball, in [assets/nba.csv](assets/nba.csv) or NHL (hockey, in [assets/nhl.csv](assets/nhl.csv)). Please keep in mind that all questions are from the perspective of the metropolitan region, and that this file is the \\\"source of authority\\\" for the location of a given sports team. Thus teams which are commonly known by a different area (e.g. \\\"Oakland Raiders\\\") need to be mapped into the metropolitan region given (e.g. San Francisco Bay Area). This will require some human data understanding outside of the data you've been given (e.g. you will have to hand-code some names, and might need to google to find out where teams are)!\\n\",","    \"\\n\",","    \"For each sport I would like you to answer the question: **what is the win/loss ratio's correlation with the population of the city it is in?** Win/Loss ratio refers to the number of wins over the number of wins plus the number of losses. Remember that to calculate the correlation with [`pearsonr`](https://docs.scipy.org/doc/scipy/reference/generated/scipy.stats.pearsonr.html), so you are going to send in two ordered lists of values, the populations from the wikipedia_data.html file and the win/loss ratio for a given sport in the same order. Average the win/loss ratios for those cities which have multiple teams of a single sport. Each sport is worth an equal amount in this assignment (20%\\\\*4=80%) of the grade for this assignment. You should only use data **from year 2018** for your analysis -- this is important!\\n\",","    \"\\n\",","    \"## Notes\\n\",","    \"\\n\",","    \"1. Do not include data about the MLS or CFL in any of the work you are doing, we're only interested in the Big 4 in this assignment.\\n\",","    \"2. I highly suggest that you first tackle the four correlation questions in order, as they are all similar and worth the majority of grades for this assignment. This is by design!\\n\",","    \"3. It's fair game to talk with peers about high level strategy as well as the relationship between metropolitan areas and sports teams. However, do not post code solving aspects of the assignment (including such as dictionaries mapping areas to teams, or regexes which will clean up names).\\n\",","    \"4. There may be more teams than the assert statements test, remember to collapse multiple teams in one city into a single value!\"","   ]","  },","  {","   \"cell_type\": \"markdown\",","   \"metadata\": {","    \"deletable\": false,","    \"editable\": false,","    \"nbgrader\": {","     \"checksum\": \"369ff9ecf0ee04640574205cbc697f94\",","     \"grade\": false,","     \"grade_id\": \"cell-712b2b5da63d4505\",","     \"locked\": true,","     \"schema_version\": 1,","     \"solution\": false","    }","   },","   \"source\": [","    \"## Question 1\\n\",","    \"For this question, calculate the win/loss ratio's correlation with the population of the city it is in for the **NHL** using **2018** data.\"","   ]","  },","  {","   \"cell_type\": \"code\",","   \"execution_count\": 1,","   \"metadata\": {","    \"deletable\": false,","    \"nbgrader\": {","     \"checksum\": \"1cac4803b02502929f5b1612d48db2b5\",","     \"grade\": false,","     \"grade_id\": \"cell-69b16e4386e58030\",","     \"locked\": false,","     \"schema_version\": 1,","     \"solution\": true","    }","   },","   \"outputs\": [],","   \"source\": [","    \"import pandas as pd\\n\",","    \"import numpy as np\\n\",","    \"import scipy.stats as stats\\n\",","    \"import re\\n\",","    \"\\n\",","    \"\\n\",","    \"\\n\",","    \"def nhl_correlation(): \\n\",","    \"    # YOUR CODE HERE\\n\",","    \"    #raise NotImplementedError()\\n\",","    \"    \\n\",","    \"    nhl_df=pd.read_csv(\\\"assets/nhl.csv\\\")\\n\",","    \"    cities=pd.read_html(\\\"assets/wikipedia_data.html\\\")[1]\\n\",","    \"    cities=cities.iloc[:-1,[0,3,5,6,7,8]]\\n\",","    \"    \\n\",","    \"    nhl_df.drop([0,9,18,26],0,inplace=True)\\n\",","    \"    cities.drop([14,15,18,19,20,21,23,24,25,27,28,32,33,38,40,41,42,44,45,46,48,49,50],0,inplace=True)\\n\",","    \"\\n\",","    \"    l= []\\n\",","    \"    for i in cities['NHL']:\\n\",","    \"        i=i.split('[')\\n\",","    \"        l.append(i[0])\\n\",","    \"    cities['NHL'] = l\\n\",","    \"\\n\",","    \"    li = []\\n\",","    \"    for i in nhl_df['team']:\\n\",","    \"        i = re.findall(\\\"[^*]+\\\", i)\\n\",","    \"        li.append(i[0])\\n\",","    \"    nhl_df['team'] = li\\n\",","    \"\\n\",","    \"    nhl_df = nhl_df.head(31)\\n\",","    \"\\n\",","    \"    nhl_df['team_ville'] = nhl_df['team']\\n\",","    \"    nhl_df['team_ville'] = nhl_df['team_ville'].map({'Tampa Bay Lightning':'Tampa Bay Area',\\n\",","    \"     'Boston Bruins':'Boston',\\n\",","    \"     'Toronto Maple Leafs':'Toronto',\\n\",","    \"     'Florida Panthers':'Miami–Fort Lauderdale',\\n\",","    \"     'Detroit Red Wings':'Detroit',\\n\",","    \"     'Montreal Canadiens':'Montreal',\\n\",","    \"     'Ottawa Senators':'Ottawa',\\n\",","    \"     'Buffalo Sabres':'Buffalo',\\n\",","    \"     'Washington Capitals':'Washington, D.C.',\\n\",","    \"     'Pittsburgh Penguins':'Pittsburgh',\\n\",","    \"     'Philadelphia Flyers':'Philadelphia',\\n\",","    \"     'Columbus Blue Jackets':'Columbus',\\n\",","    \"     'New Jersey Devils':'New York City',\\n\",","    \"     'Carolina Hurricanes':'Raleigh',\\n\",","    \"     'New York Islanders':'New York City',\\n\",","    \"     'New York Rangers':'New York City',\\n\",","    \"     'Nashville Predators':'Nashville',\\n\",","    \"     'Winnipeg Jets':'Winnipeg',\\n\",","    \"     'Minnesota Wild':'Minneapolis–Saint Paul',\\n\",","    \"     'Colorado Avalanche':'Denver',\\n\",","    \"     'St. Louis Blues':'St. Louis',\\n\",","    \"     'Dallas Stars':'Dallas–Fort Worth',\\n\",","    \"     'Chicago Blackhawks':'Chicago',\\n\",","    \"     'Vegas Golden Knights':'Las Vegas',\\n\",","    \"     'Anaheim Ducks':'Los Angeles',\\n\",","    \"     'San Jose Sharks':'San Francisco Bay Area',\\n\",","    \"     'Los Angeles Kings':'Los Angeles',\\n\",","    \"     'Calgary Flames':'Calgary',\\n\",","    \"     'Edmonton Oilers':'Edmonton',\\n\",","    \"     'Vancouver Canucks':'Vancouver',\\n\",","    \"     'Arizona Coyotes':'Phoenix'})\\n\",","    \"\\n\",","    \"    df = pd.merge(nhl_df,cities, left_on= \\\"team_ville\\\", right_on= \\\"Metropolitan area\\\")\\n\",","    \"\\n\",","    \"    df['W'] = pd.to_numeric(df['W'])\\n\",","    \"    df['L'] = pd.to_numeric(df['L'])\\n\",","    \"    df['Population (2016 est.)[8]'] = pd.to_numeric(df['Population (2016 est.)[8]'])\\n\",","    \"\\n\",","    \"    he = ['team','W','L','Metropolitan area','Population (2016 est.)[8]']\\n\",","    \"\\n\",","    \"    df = df[he]\\n\",","    \"\\n\",","    \"    df['W/L'] = df['W']/(df['L']+df['W'])\\n\",","    \"\\n\",","    \"    df = df.groupby('Metropolitan area').mean().reset_index()\\n\",","    \"    \\n\",","    \"    population_by_region = df['Population (2016 est.)[8]'] # pass in metropolitan area population from cities\\n\",","    \"    win_loss_by_region = df['W/L'] # pass in win/loss ratio from nhl_df in the same order as cities[\\\"Metropolitan area\\\"]\\n\",","    \"\\n\",","    \"    assert len(population_by_region) == len(win_loss_by_region), \\\"Q1: Your lists must be the same length\\\"\\n\",","    \"    assert len(population_by_region) == 28, \\\"Q1: There should be 28 teams being analysed for NHL\\\"\\n\",","    \"    \\n\",","    \"    return stats.pearsonr(population_by_region, win_loss_by_region)[0]\"","   ]","  },","  {","   \"cell_type\": \"code\",","   \"execution_count\": null,","   \"metadata\": {","    \"deletable\": false,","    \"editable\": false,","    \"nbgrader\": {","     \"checksum\": \"52a581df513c71153e105b93764cda4b\",","     \"grade\": true,","     \"grade_id\": \"cell-ebe0b2dfe1067e63\",","     \"locked\": true,","     \"points\": 20,","     \"schema_version\": 1,","     \"solution\": false","    }","   },","   \"outputs\": [],","   \"source\": []","  },","  {","   \"cell_type\": \"markdown\",","   \"metadata\": {","    \"deletable\": false,","    \"editable\": false,","    \"nbgrader\": {","     \"checksum\": \"988912cae4968d81473f46d783e79c16\",","     \"grade\": false,","     \"grade_id\": \"cell-cb964e690298b71d\",","     \"locked\": true,","     \"schema_version\": 1,","     \"solution\": false","    }","   },","   \"source\": [","    \"## Question 2\\n\",","    \"For this question, calculate the win/loss ratio's correlation with the population of the city it is in for the **NBA** using **2018** data.\"","   ]","  },","  {","   \"cell_type\": \"code\",","   \"execution_count\": 2,","   \"metadata\": {","    \"deletable\": false,","    \"nbgrader\": {","     \"checksum\": \"9394222aafc8ccab0a228098ba0d6010\",","     \"grade\": false,","     \"grade_id\": \"cell-5a5f21279e3d3572\",","     \"locked\": false,","     \"schema_version\": 1,","     \"solution\": true","    }","   },","   \"outputs\": [],","   \"source\": [","    \"import pandas as pd\\n\",","    \"import numpy as np\\n\",","    \"import scipy.stats as stats\\n\",","    \"import re\\n\",","    \"\\n\",","    \"\\n\",","    \"\\n\",","    \"def nba_correlation():\\n\",","    \"    # YOUR CODE HERE\\n\",","    \"    #raise NotImplementedError()\\n\",","    \"    \\n\",","    \"    nba_df=pd.read_csv(\\\"assets/nba.csv\\\")\\n\",","    \"    cities=pd.read_html(\\\"assets/wikipedia_data.html\\\")[1]\\n\",","    \"    cities=cities.iloc[:-1,[0,3,5,6,7,8]]\\n\",","    \"    \\n\",","    \"    cities.drop([16,17,19,20,21,22,23,26,29,30,31,34,35,36,37,39,40,43,44,47,48,49,50],0,inplace=True)\\n\",","    \"    \\n\",","    \"    l1 = []\\n\",","    \"    for i in nba_df['team']:\\n\",","    \"        #i=i.rstrip()\\n\",","    \"        i=i.split('*')\\n\",","    \"        l1.append(i[0])\\n\",","    \"    nba_df['team'] = l1\\n\",","    \"    \\n\",","    \"    l2 = []\\n\",","    \"    for i in nba_df['team']:\\n\",","    \"        i=i.split('(')\\n\",","    \"        l2.append(i[0])\\n\",","    \"    nba_df['team'] = l2\\n\",","    \"    \\n\",","    \"    l3 = []\\n\",","    \"    for i in nba_df['team']:\\n\",","    \"        i=i.rstrip()\\n\",","    \"        l3.append(i)\\n\",","    \"    nba_df['team'] = l3\\n\",","    \"    \\n\",","    \"    \\n\",","    \"    \\n\",","    \"    nba_df = nba_df.head(30)\\n\",","    \"\\n\",","    \"    nba_df['team_ville'] = nba_df['team']\\n\",","    \"    nba_df['team_ville'] = nba_df['team_ville'].map({'Toronto Raptors':'Toronto',\\n\",","    \"     'Boston Celtics':'Boston',\\n\",","    \"     'Philadelphia 76ers':'Philadelphia',\\n\",","    \"     'Cleveland Cavaliers':'Cleveland',\\n\",","    \"     'Indiana Pacers':'Indianapolis',\\n\",","    \"     'Miami Heat':'Miami–Fort Lauderdale',\\n\",","    \"     'Milwaukee Bucks':'Milwaukee',\\n\",","    \"     'Washington Wizards':'Washington, D.C.',\\n\",","    \"     'Detroit Pistons':'Detroit',\\n\",","    \"     'Charlotte Hornets':'Charlotte',\\n\",","    \"     'New York Knicks':'New York City',\\n\",","    \"     'Brooklyn Nets':'New York City',\\n\",","    \"     'Chicago Bulls':'Chicago',\\n\",","    \"     'Orlando Magic':'Orlando',\\n\",","    \"     'Atlanta Hawks':'Atlanta',\\n\",","    \"     'Houston Rockets':'Houston',\\n\",","    \"     'Golden State Warriors':'San Francisco Bay Area',\\n\",","    \"     'Portland Trail Blazers':'Portland',\\n\",","    \"     'Oklahoma City Thunder':'Oklahoma City',\\n\",","    \"     'Utah Jazz':'Salt Lake City',\\n\",","    \"     'New Orleans Pelicans':'New Orleans',\\n\",","    \"     'San Antonio Spurs':'San Antonio',\\n\",","    \"     'Minnesota Timberwolves':'Minneapolis–Saint Paul',\\n\",","    \"     'Denver Nuggets':'Denver',\\n\",","    \"     'Los Angeles Clippers':'Los Angeles',\\n\",","    \"     'Los Angeles Lakers':'Los Angeles',\\n\",","    \"     'Sacramento Kings':'Sacramento',\\n\",","    \"     'Dallas Mavericks':'Dallas–Fort Worth',\\n\",","    \"     'Memphis Grizzlies':'Memphis',\\n\",","    \"     'Phoenix Suns':'Phoenix'})\\n\",","    \"    \\n\",","    \"    df2 = pd.merge(nba_df,cities, left_on= \\\"team_ville\\\", right_on= \\\"Metropolitan area\\\")\\n\",","    \"    \\n\",","    \"    df2['W/L%'] = pd.to_numeric(df2['W/L%'])\\n\",","    \"    df2['W'] = pd.to_numeric(df2['W'])\\n\",","    \"    df2['L'] = pd.to_numeric(df2['L'])\\n\",","    \"    df2['Population (2016 est.)[8]'] = pd.to_numeric(df2['Population (2016 est.)[8]'])\\n\",","    \"    he = ['team','W','L','W/L%','Metropolitan area','Population (2016 est.)[8]']\\n\",","    \"    df2 = df2[he]\\n\",","    \"    df2['W/L'] = df2['W']/(df2['L']+df2['W'])\\n\",","    \"    df2 = df2.groupby('Metropolitan area').mean().reset_index()\\n\",","    \"    \\n\",","    \"    population_by_region = df2['Population (2016 est.)[8]'] # pass in metropolitan area population from cities\\n\",","    \"    win_loss_by_region = df2['W/L'] # pass in win/loss ratio from nba_df in the same order as cities[\\\"Metropolitan area\\\"]\\n\",","    \"\\n\",","    \"    assert len(population_by_region) == len(win_loss_by_region), \\\"Q2: Your lists must be the same length\\\"\\n\",","    \"    assert len(population_by_region) == 28, \\\"Q2: There should be 28 teams being analysed for NBA\\\"\\n\",","    \"\\n\",","    \"    return stats.pearsonr(population_by_region, win_loss_by_region)[0]\"","   ]","  },","  {","   \"cell_type\": \"code\",","   \"execution_count\": null,","   \"metadata\": {","    \"deletable\": false,","    \"editable\": false,","    \"nbgrader\": {","     \"checksum\": \"bbdeb8eb22f525a34c10dc8798324e42\",","     \"grade\": true,","     \"grade_id\": \"cell-e573b2b4a282b470\",","     \"locked\": true,","     \"points\": 20,","     \"schema_version\": 1,","     \"solution\": false","    }","   },","   \"outputs\": [],","   \"source\": []","  },","  {","   \"cell_type\": \"markdown\",","   \"metadata\": {","    \"deletable\": false,","    \"editable\": false,","    \"nbgrader\": {","     \"checksum\": \"1a1a5809f675ca033086422007cd73bd\",","     \"grade\": false,","     \"grade_id\": \"cell-96e15e4335df78f4\",","     \"locked\": true,","     \"schema_version\": 1,","     \"solution\": false","    }","   },","   \"source\": [","    \"## Question 3\\n\",","    \"For this question, calculate the win/loss ratio's correlation with the population of the city it is in for the **MLB** using **2018** data.\"","   ]","  },","  {","   \"cell_type\": \"code\",","   \"execution_count\": 3,","   \"metadata\": {","    \"deletable\": false,","    \"nbgrader\": {","     \"checksum\": \"27e8c0da6c9fa0dffc10488314335b6c\",","     \"grade\": false,","     \"grade_id\": \"cell-33b00fc3f3467b0c\",","     \"locked\": false,","     \"schema_version\": 1,","     \"solution\": true","    }","   },","   \"outputs\": [],","   \"source\": [","    \"import pandas as pd\\n\",","    \"import numpy as np\\n\",","    \"import scipy.stats as stats\\n\",","    \"import re\\n\",","    \"\\n\",","    \"\\n\",","    \"def mlb_correlation(): \\n\",","    \"    # YOUR CODE HERE\\n\",","    \"    #raise NotImplementedError()\\n\",","    \"    \\n\",","    \"    mlb_df=pd.read_csv(\\\"assets/mlb.csv\\\")\\n\",","    \"    cities=pd.read_html(\\\"assets/wikipedia_data.html\\\")[1]\\n\",","    \"    cities=cities.iloc[:-1,[0,3,5,6,7,8]]\\n\",","    \"    \\n\",","    \"    cities.drop([24,25,26,28,29,30,31,32,33,34,35,36,37,38,39,41,42,43,44,45,46,47,48,49,50],0,inplace=True)\\n\",","    \"    \\n\",","    \"    mlb_df = mlb_df.head(30)\\n\",","    \"    \\n\",","    \"    mlb_df['team_ville'] = mlb_df['team']\\n\",","    \"    mlb_df['team_ville'] = mlb_df['team_ville'].map({'Boston Red Sox':'Boston',\\n\",","    \"     'New York Yankees':'New York City',\\n\",","    \"     'Tampa Bay Rays':'Tampa Bay Area',\\n\",","    \"     'Toronto Blue Jays':'Toronto',\\n\",","    \"     'Baltimore Orioles':'Baltimore',\\n\",","    \"     'Cleveland Indians':'Cleveland',\\n\",","    \"     'Minnesota Twins':'Minneapolis–Saint Paul',\\n\",","    \"     'Detroit Tigers':'Detroit',\\n\",","    \"     'Chicago White Sox':'Chicago',\\n\",","    \"     'Kansas City Royals':'Kansas City',\\n\",","    \"     'Houston Astros':'Houston',\\n\",","    \"     'Oakland Athletics':'San Francisco Bay Area',\\n\",","    \"     'Seattle Mariners':'Seattle',\\n\",","    \"     'Los Angeles Angels':'Los Angeles',\\n\",","    \"     'Texas Rangers':'Dallas–Fort Worth',\\n\",","    \"     'Atlanta Braves':'Atlanta',\\n\",","    \"     'Washington Nationals':'Washington, D.C.',\\n\",","    \"     'Philadelphia Phillies':'Philadelphia',\\n\",","    \"     'New York Mets':'New York City',\\n\",","    \"     'Miami Marlins':'Miami–Fort Lauderdale',\\n\",","    \"     'Milwaukee Brewers':'Milwaukee',\\n\",","    \"     'Chicago Cubs':'Chicago',\\n\",","    \"     'St. Louis Cardinals':'St. Louis',\\n\",","    \"     'Pittsburgh Pirates':'Pittsburgh',\\n\",","    \"     'Cincinnati Reds':'Cincinnati',\\n\",","    \"     'Los Angeles Dodgers':'Los Angeles',\\n\",","    \"     'Colorado Rockies':'Denver',\\n\",","    \"     'Arizona Diamondbacks':'Phoenix',\\n\",","    \"     'San Francisco Giants':'San Francisco Bay Area',\\n\",","    \"     'San Diego Padres':'San Diego'})\\n\",","    \"    \\n\",","    \"    df3 = pd.merge(mlb_df,cities, left_on= \\\"team_ville\\\", right_on= \\\"Metropolitan area\\\")\\n\",","    \"    \\n\",","    \"    #df2['W/L%'] = pd.to_numeric(df2['W/L%'])\\n\",","    \"    df3['W'] = pd.to_numeric(df3['W'])\\n\",","    \"    df3['L'] = pd.to_numeric(df3['L'])\\n\",","    \"    df3['Population (2016 est.)[8]'] = pd.to_numeric(df3['Population (2016 est.)[8]'])\\n\",","    \"    he = ['team','W','L','Metropolitan area','Population (2016 est.)[8]']\\n\",","    \"    df3 = df3[he]\\n\",","    \"    df3['W/L'] = df3['W']/(df3['L']+df3['W'])\\n\",","    \"    df3 = df3.groupby('Metropolitan area').mean().reset_index()\\n\",","    \"    \\n\",","    \"    \\n\",","    \"    population_by_region = df3['Population (2016 est.)[8]'] # pass in metropolitan area population from cities\\n\",","    \"    win_loss_by_region = df3['W/L'] # pass in win/loss ratio from mlb_df in the same order as cities[\\\"Metropolitan area\\\"]\\n\",","    \"\\n\",","    \"    assert len(population_by_region) == len(win_loss_by_region), \\\"Q3: Your lists must be the same length\\\"\\n\",","    \"    assert len(population_by_region) == 26, \\\"Q3: There should be 26 teams being analysed for MLB\\\"\\n\",","    \"\\n\",","    \"    return stats.pearsonr(population_by_region, win_loss_by_region)[0]\"","   ]","  },","  {","   \"cell_type\": \"code\",","   \"execution_count\": null,","   \"metadata\": {","    \"deletable\": false,","    \"editable\": false,","    \"nbgrader\": {","     \"checksum\": \"cda33b094ba19ccc37a481e0dd29e0bc\",","     \"grade\": true,","     \"grade_id\": \"cell-764d4476f425c5a2\",","     \"locked\": true,","     \"points\": 20,","     \"schema_version\": 1,","     \"solution\": false","    }","   },","   \"outputs\": [],","   \"source\": []","  },","  {","   \"cell_type\": \"markdown\",","   \"metadata\": {","    \"deletable\": false,","    \"editable\": false,","    \"nbgrader\": {","     \"checksum\": \"6977a6da9ed6d8b7a0b7e37bbeda709b\",","     \"grade\": false,","     \"grade_id\": \"cell-793df6c04dfb126e\",","     \"locked\": true,","     \"schema_version\": 1,","     \"solution\": false","    }","   },","   \"source\": [","    \"## Question 4\\n\",","    \"For this question, calculate the win/loss ratio's correlation with the population of the city it is in for the **NFL** using **2018** data.\"","   ]","  },","  {","   \"cell_type\": \"code\",","   \"execution_count\": 4,","   \"metadata\": {","    \"deletable\": false,","    \"nbgrader\": {","     \"checksum\": \"c4914ad1e119278ec2bd567c52640b66\",","     \"grade\": false,","     \"grade_id\": \"cell-8ccebc209aeec8d9\",","     \"locked\": false,","     \"schema_version\": 1,","     \"solution\": true","    }","   },","   \"outputs\": [],","   \"source\": [","    \"import pandas as pd\\n\",","    \"import numpy as np\\n\",","    \"import scipy.stats as stats\\n\",","    \"import re\\n\",","    \"\\n\",","    \"\\n\",","    \"\\n\",","    \"def nfl_correlation(): \\n\",","    \"    # YOUR CODE HERE\\n\",","    \"    #raise NotImplementedError()\\n\",","    \"    \\n\",","    \"    nfl_df=pd.read_csv(\\\"assets/nfl.csv\\\")\\n\",","    \"    cities=pd.read_html(\\\"assets/wikipedia_data.html\\\")[1]\\n\",","    \"    cities=cities.iloc[:-1,[0,3,5,6,7,8]]\\n\",","    \"    \\n\",","    \"    nfl_df.drop([0,5,10,15,20,25,30,35],0,inplace=True)\\n\",","    \"    \\n\",","    \"    cities.drop([13,22,27,30,31,32,33,34,35,36,37,38,39,40,41,42,43,45,46,47,49,50],0,inplace=True)\\n\",","    \"    \\n\",","    \"    l1 = []\\n\",","    \"    for i in nfl_df['team']:\\n\",","    \"        #i=i.rstrip()\\n\",","    \"        i=i.split('*')\\n\",","    \"        l1.append(i[0])\\n\",","    \"    nfl_df['team'] = l1\\n\",","    \"    \\n\",","    \"    l2 = []\\n\",","    \"    for i in nfl_df['team']:\\n\",","    \"        i=i.split('+')\\n\",","    \"        l2.append(i[0])\\n\",","    \"    nfl_df['team'] = l2\\n\",","    \"    \\n\",","    \"    nfl_df = nfl_df.head(32)\\n\",","    \"    \\n\",","    \"    nfl_df['team_ville'] = nfl_df['team']\\n\",","    \"    nfl_df['team_ville'] = nfl_df['team_ville'].map({'New England Patriots':'Boston',\\n\",","    \"     'Miami Dolphins':'Miami–Fort Lauderdale',\\n\",","    \"     'Buffalo Bills':'Buffalo',\\n\",","    \"     'New York Jets':'New York City',\\n\",","    \"     'Baltimore Ravens':'Baltimore',\\n\",","    \"     'Pittsburgh Steelers':'Pittsburgh',\\n\",","    \"     'Cleveland Browns':'Cleveland',\\n\",","    \"     'Cincinnati Bengals':'Cincinnati',\\n\",","    \"     'Houston Texans':'Houston',\\n\",","    \"     'Indianapolis Colts':'Indianapolis',\\n\",","    \"     'Tennessee Titans':'Nashville',\\n\",","    \"     'Jacksonville Jaguars':'Jacksonville',\\n\",","    \"     'Kansas City Chiefs':'Kansas City',\\n\",","    \"     'Los Angeles Chargers':'Los Angeles',\\n\",","    \"     'Denver Broncos':'Denver',\\n\",","    \"     'Oakland Raiders':'San Francisco Bay Area',\\n\",","    \"     'Dallas Cowboys':'Dallas–Fort Worth',\\n\",","    \"     'Philadelphia Eagles':'Philadelphia',\\n\",","    \"     'Washington Redskins':'Washington, D.C.',\\n\",","    \"     'New York Giants':'New York City',\\n\",","    \"     'Chicago Bears':'Chicago',\\n\",","    \"     'Minnesota Vikings':'Minneapolis–Saint Paul',\\n\",","    \"     'Green Bay Packers':'Green Bay',\\n\",","    \"     'Detroit Lions':'Detroit',\\n\",","    \"     'New Orleans Saints':'New Orleans',\\n\",","    \"     'Carolina Panthers':'Charlotte',\\n\",","    \"     'Atlanta Falcons':'Atlanta',\\n\",","    \"     'Tampa Bay Buccaneers':'Tampa Bay Area',\\n\",","    \"     'Los Angeles Rams':'Los Angeles',\\n\",","    \"     'Seattle Seahawks':'Seattle',\\n\",","    \"     'San Francisco 49ers':'San Francisco Bay Area',\\n\",","    \"     'Arizona Cardinals':'Phoenix'}) \\n\",","    \"    \\n\",","    \"    df4 = pd.merge(nfl_df,cities, left_on= \\\"team_ville\\\", right_on= \\\"Metropolitan area\\\")\\n\",","    \"    \\n\",","    \"    \\n\",","    \"    df4['W'] = pd.to_numeric(df4['W'])\\n\",","    \"    df4['L'] = pd.to_numeric(df4['L'])\\n\",","    \"    df4['Population (2016 est.)[8]'] = pd.to_numeric(df4['Population (2016 est.)[8]'])\\n\",","    \"    he = ['team','W','L','Metropolitan area','Population (2016 est.)[8]']\\n\",","    \"    df4 = df4[he]\\n\",","    \"    df4['W/L'] = df4['W']/(df4['L']+df4['W'])\\n\",","    \"    df4 = df4.groupby('Metropolitan area').mean().reset_index()\\n\",","    \"\\n\",","    \"    \\n\",","    \"    population_by_region = df4['Population (2016 est.)[8]'] # pass in metropolitan area population from cities\\n\",","    \"    win_loss_by_region = df4['W/L'] # pass in win/loss ratio from nfl_df in the same order as cities[\\\"Metropolitan area\\\"]\\n\",","    \"\\n\",","    \"    assert len(population_by_region) == len(win_loss_by_region), \\\"Q4: Your lists must be the same length\\\"\\n\",","    \"    assert len(population_by_region) == 29, \\\"Q4: There should be 29 teams being analysed for NFL\\\"\\n\",","    \"\\n\",","    \"    return stats.pearsonr(population_by_region, win_loss_by_region)[0]\"","   ]","  },","  {","   \"cell_type\": \"code\",","   \"execution_count\": null,","   \"metadata\": {","    \"deletable\": false,","    \"editable\": false,","    \"nbgrader\": {","     \"checksum\": \"e9415d6399aa49e3a1a60813afdefa3b\",","     \"grade\": true,","     \"grade_id\": \"cell-de7b148b9554dbda\",","     \"locked\": true,","     \"points\": 20,","     \"schema_version\": 1,","     \"solution\": false","    }","   },","   \"outputs\": [],","   \"source\": []","  },","  {","   \"cell_type\": \"markdown\",","   \"metadata\": {","    \"deletable\": false,","    \"editable\": false,","    \"nbgrader\": {","     \"checksum\": \"b02d5cd3273f561e4ae939bb2a41740c\",","     \"grade\": false,","     \"grade_id\": \"cell-97b49d8639e908c4\",","     \"locked\": true,","     \"schema_version\": 1,","     \"solution\": false","    }","   },","   \"source\": [","    \"## Question 5\\n\",","    \"In this question I would like you to explore the hypothesis that **given that an area has two sports teams in different sports, those teams will perform the same within their respective sports**. How I would like to see this explored is with a series of paired t-tests (so use [`ttest_rel`](https://docs.scipy.org/doc/scipy/reference/generated/scipy.stats.ttest_rel.html)) between all pairs of sports. Are there any sports where we can reject the null hypothesis? Again, average values where a sport has multiple teams in one region. Remember, you will only be including, for each sport, cities which have teams engaged in that sport, drop others as appropriate. This question is worth 20% of the grade for this assignment.\"","   ]","  },","  {","   \"cell_type\": \"code\",","   \"execution_count\": 6,","   \"metadata\": {","    \"deletable\": false,","    \"nbgrader\": {","     \"checksum\": \"6d78c961eb66f8d8c81f06d33ae8f393\",","     \"grade\": false,","     \"grade_id\": \"cell-92f25f44b8d1179f\",","     \"locked\": false,","     \"schema_version\": 1,","     \"solution\": true","    }","   },","   \"outputs\": [],","   \"source\": [","    \"import pandas as pd\\n\",","    \"import numpy as np\\n\",","    \"import scipy.stats as stats\\n\",","    \"import re\\n\",","    \"\\n\",","    \"#mlb_df=pd.read_csv(\\\"assets/mlb.csv\\\")\\n\",","    \"#nhl_df=pd.read_csv(\\\"assets/nhl.csv\\\")\\n\",","    \"#nba_df=pd.read_csv(\\\"assets/nba.csv\\\")\\n\",","    \"#nfl_df=pd.read_csv(\\\"assets/nfl.csv\\\")\\n\",","    \"#cities=pd.read_html(\\\"assets/wikipedia_data.html\\\")[1]\\n\",","    \"#cities=cities.iloc[:-1,[0,3,5,6,7,8]]\\n\",","    \"\\n\",","    \"def nhl_correla(): \\n\",","    \"    # YOUR CODE HERE\\n\",","    \"    #raise NotImplementedError()\\n\",","    \"    \\n\",","    \"    nhl_df=pd.read_csv(\\\"assets/nhl.csv\\\")\\n\",","    \"    cities=pd.read_html(\\\"assets/wikipedia_data.html\\\")[1]\\n\",","    \"    cities=cities.iloc[:-1,[0,3,5,6,7,8]]\\n\",","    \"    \\n\",","    \"    nhl_df.drop([0,9,18,26],0,inplace=True)\\n\",","    \"    cities.drop([14,15,18,19,20,21,23,24,25,27,28,32,33,38,40,41,42,44,45,46,48,49,50],0,inplace=True)\\n\",","    \"\\n\",","    \"    l= []\\n\",","    \"    for i in cities['NHL']:\\n\",","    \"        i=i.split('[')\\n\",","    \"        l.append(i[0])\\n\",","    \"    cities['NHL'] = l\\n\",","    \"\\n\",","    \"    li = []\\n\",","    \"    for i in nhl_df['team']:\\n\",","    \"        i = re.findall(\\\"[^*]+\\\", i)\\n\",","    \"        li.append(i[0])\\n\",","    \"    nhl_df['team'] = li\\n\",","    \"\\n\",","    \"    nhl_df = nhl_df.head(31)\\n\",","    \"\\n\",","    \"    nhl_df['team_ville'] = nhl_df['team']\\n\",","    \"    nhl_df['team_ville'] = nhl_df['team_ville'].map({'Tampa Bay Lightning':'Tampa Bay Area',\\n\",","    \"     'Boston Bruins':'Boston',\\n\",","    \"     'Toronto Maple Leafs':'Toronto',\\n\",","    \"     'Florida Panthers':'Miami–Fort Lauderdale',\\n\",","    \"     'Detroit Red Wings':'Detroit',\\n\",","    \"     'Montreal Canadiens':'Montreal',\\n\",","    \"     'Ottawa Senators':'Ottawa',\\n\",","    \"     'Buffalo Sabres':'Buffalo',\\n\",","    \"     'Washington Capitals':'Washington, D.C.',\\n\",","    \"     'Pittsburgh Penguins':'Pittsburgh',\\n\",","    \"     'Philadelphia Flyers':'Philadelphia',\\n\",","    \"     'Columbus Blue Jackets':'Columbus',\\n\",","    \"     'New Jersey Devils':'New York City',\\n\",","    \"     'Carolina Hurricanes':'Raleigh',\\n\",","    \"     'New York Islanders':'New York City',\\n\",","    \"     'New York Rangers':'New York City',\\n\",","    \"     'Nashville Predators':'Nashville',\\n\",","    \"     'Winnipeg Jets':'Winnipeg',\\n\",","    \"     'Minnesota Wild':'Minneapolis–Saint Paul',\\n\",","    \"     'Colorado Avalanche':'Denver',\\n\",","    \"     'St. Louis Blues':'St. Louis',\\n\",","    \"     'Dallas Stars':'Dallas–Fort Worth',\\n\",","    \"     'Chicago Blackhawks':'Chicago',\\n\",","    \"     'Vegas Golden Knights':'Las Vegas',\\n\",","    \"     'Anaheim Ducks':'Los Angeles',\\n\",","    \"     'San Jose Sharks':'San Francisco Bay Area',\\n\",","    \"     'Los Angeles Kings':'Los Angeles',\\n\",","    \"     'Calgary Flames':'Calgary',\\n\",","    \"     'Edmonton Oilers':'Edmonton',\\n\",","    \"     'Vancouver Canucks':'Vancouver',\\n\",","    \"     'Arizona Coyotes':'Phoenix'})\\n\",","    \"\\n\",","    \"    df = pd.merge(nhl_df,cities, left_on= \\\"team_ville\\\", right_on= \\\"Metropolitan area\\\")\\n\",","    \"\\n\",","    \"    df['W'] = pd.to_numeric(df['W'])\\n\",","    \"    df['L'] = pd.to_numeric(df['L'])\\n\",","    \"    df['Population (2016 est.)[8]'] = pd.to_numeric(df['Population (2016 est.)[8]'])\\n\",","    \"\\n\",","    \"    he = ['team','W','L','Metropolitan area','Population (2016 est.)[8]']\\n\",","    \"\\n\",","    \"    df = df[he]\\n\",","    \"\\n\",","    \"    df['W/L'] = df['W']/(df['L']+df['W'])\\n\",","    \"\\n\",","    \"    df = df.groupby('Metropolitan area').mean().reset_index()\\n\",","    \"    \\n\",","    \"    return df\\n\",","    \"\\n\",","    \"def nba_correla():\\n\",","    \"    # YOUR CODE HERE\\n\",","    \"    #raise NotImplementedError()\\n\",","    \"    \\n\",","    \"    nba_df=pd.read_csv(\\\"assets/nba.csv\\\")\\n\",","    \"    cities=pd.read_html(\\\"assets/wikipedia_data.html\\\")[1]\\n\",","    \"    cities=cities.iloc[:-1,[0,3,5,6,7,8]]\\n\",","    \"    \\n\",","    \"    cities.drop([16,17,19,20,21,22,23,26,29,30,31,34,35,36,37,39,40,43,44,47,48,49,50],0,inplace=True)\\n\",","    \"    \\n\",","    \"    l1 = []\\n\",","    \"    for i in nba_df['team']:\\n\",","    \"        #i=i.rstrip()\\n\",","    \"        i=i.split('*')\\n\",","    \"        l1.append(i[0])\\n\",","    \"    nba_df['team'] = l1\\n\",","    \"    \\n\",","    \"    l2 = []\\n\",","    \"    for i in nba_df['team']:\\n\",","    \"        i=i.split('(')\\n\",","    \"        l2.append(i[0])\\n\",","    \"    nba_df['team'] = l2\\n\",","    \"    \\n\",","    \"    l3 = []\\n\",","    \"    for i in nba_df['team']:\\n\",","    \"        i=i.rstrip()\\n\",","    \"        l3.append(i)\\n\",","    \"    nba_df['team'] = l3\\n\",","    \"    \\n\",","    \"    \\n\",","    \"    \\n\",","    \"    nba_df = nba_df.head(30)\\n\",","    \"\\n\",","    \"    nba_df['team_ville'] = nba_df['team']\\n\",","    \"    nba_df['team_ville'] = nba_df['team_ville'].map({'Toronto Raptors':'Toronto',\\n\",","    \"     'Boston Celtics':'Boston',\\n\",","    \"     'Philadelphia 76ers':'Philadelphia',\\n\",","    \"     'Cleveland Cavaliers':'Cleveland',\\n\",","    \"     'Indiana Pacers':'Indianapolis',\\n\",","    \"     'Miami Heat':'Miami–Fort Lauderdale',\\n\",","    \"     'Milwaukee Bucks':'Milwaukee',\\n\",","    \"     'Washington Wizards':'Washington, D.C.',\\n\",","    \"     'Detroit Pistons':'Detroit',\\n\",","    \"     'Charlotte Hornets':'Charlotte',\\n\",","    \"     'New York Knicks':'New York City',\\n\",","    \"     'Brooklyn Nets':'New York City',\\n\",","    \"     'Chicago Bulls':'Chicago',\\n\",","    \"     'Orlando Magic':'Orlando',\\n\",","    \"     'Atlanta Hawks':'Atlanta',\\n\",","    \"     'Houston Rockets':'Houston',\\n\",","    \"     'Golden State Warriors':'San Francisco Bay Area',\\n\",","    \"     'Portland Trail Blazers':'Portland',\\n\",","    \"     'Oklahoma City Thunder':'Oklahoma City',\\n\",","    \"     'Utah Jazz':'Salt Lake City',\\n\",","    \"     'New Orleans Pelicans':'New Orleans',\\n\",","    \"     'San Antonio Spurs':'San Antonio',\\n\",","    \"     'Minnesota Timberwolves':'Minneapolis–Saint Paul',\\n\",","    \"     'Denver Nuggets':'Denver',\\n\",","    \"     'Los Angeles Clippers':'Los Angeles',\\n\",","    \"     'Los Angeles Lakers':'Los Angeles',\\n\",","    \"     'Sacramento Kings':'Sacramento',\\n\",","    \"     'Dallas Mavericks':'Dallas–Fort Worth',\\n\",","    \"     'Memphis Grizzlies':'Memphis',\\n\",","    \"     'Phoenix Suns':'Phoenix'})\\n\",","    \"    \\n\",","    \"    df2 = pd.merge(nba_df,cities, left_on= \\\"team_ville\\\", right_on= \\\"Metropolitan area\\\")\\n\",","    \"    \\n\",","    \"    df2['W/L%'] = pd.to_numeric(df2['W/L%'])\\n\",","    \"    df2['W'] = pd.to_numeric(df2['W'])\\n\",","    \"    df2['L'] = pd.to_numeric(df2['L'])\\n\",","    \"    df2['Population (2016 est.)[8]'] = pd.to_numeric(df2['Population (2016 est.)[8]'])\\n\",","    \"    he = ['team','W','L','W/L%','Metropolitan area','Population (2016 est.)[8]']\\n\",","    \"    df2 = df2[he]\\n\",","    \"    df2['W/L'] = df2['W']/(df2['L']+df2['W'])\\n\",","    \"    df2 = df2.groupby('Metropolitan area').mean().reset_index()\\n\",","    \"    \\n\",","    \"    return df2\\n\",","    \"\\n\",","    \"def mlb_correla(): \\n\",","    \"    # YOUR CODE HERE\\n\",","    \"    #raise NotImplementedError()\\n\",","    \"    \\n\",","    \"    mlb_df=pd.read_csv(\\\"assets/mlb.csv\\\")\\n\",","    \"    cities=pd.read_html(\\\"assets/wikipedia_data.html\\\")[1]\\n\",","    \"    cities=cities.iloc[:-1,[0,3,5,6,7,8]]\\n\",","    \"    \\n\",","    \"    cities.drop([24,25,26,28,29,30,31,32,33,34,35,36,37,38,39,41,42,43,44,45,46,47,48,49,50],0,inplace=True)\\n\",","    \"    \\n\",","    \"    mlb_df = mlb_df.head(30)\\n\",","    \"    \\n\",","    \"    mlb_df['team_ville'] = mlb_df['team']\\n\",","    \"    mlb_df['team_ville'] = mlb_df['team_ville'].map({'Boston Red Sox':'Boston',\\n\",","    \"     'New York Yankees':'New York City',\\n\",","    \"     'Tampa Bay Rays':'Tampa Bay Area',\\n\",","    \"     'Toronto Blue Jays':'Toronto',\\n\",","    \"     'Baltimore Orioles':'Baltimore',\\n\",","    \"     'Cleveland Indians':'Cleveland',\\n\",","    \"     'Minnesota Twins':'Minneapolis–Saint Paul',\\n\",","    \"     'Detroit Tigers':'Detroit',\\n\",","    \"     'Chicago White Sox':'Chicago',\\n\",","    \"     'Kansas City Royals':'Kansas City',\\n\",","    \"     'Houston Astros':'Houston',\\n\",","    \"     'Oakland Athletics':'San Francisco Bay Area',\\n\",","    \"     'Seattle Mariners':'Seattle',\\n\",","    \"     'Los Angeles Angels':'Los Angeles',\\n\",","    \"     'Texas Rangers':'Dallas–Fort Worth',\\n\",","    \"     'Atlanta Braves':'Atlanta',\\n\",","    \"     'Washington Nationals':'Washington, D.C.',\\n\",","    \"     'Philadelphia Phillies':'Philadelphia',\\n\",","    \"     'New York Mets':'New York City',\\n\",","    \"     'Miami Marlins':'Miami–Fort Lauderdale',\\n\",","    \"     'Milwaukee Brewers':'Milwaukee',\\n\",","    \"     'Chicago Cubs':'Chicago',\\n\",","    \"     'St. Louis Cardinals':'St. Louis',\\n\",","    \"     'Pittsburgh Pirates':'Pittsburgh',\\n\",","    \"     'Cincinnati Reds':'Cincinnati',\\n\",","    \"     'Los Angeles Dodgers':'Los Angeles',\\n\",","    \"     'Colorado Rockies':'Denver',\\n\",","    \"     'Arizona Diamondbacks':'Phoenix',\\n\",","    \"     'San Francisco Giants':'San Francisco Bay Area',\\n\",","    \"     'San Diego Padres':'San Diego'})\\n\",","    \"    \\n\",","    \"    df3 = pd.merge(mlb_df,cities, left_on= \\\"team_ville\\\", right_on= \\\"Metropolitan area\\\")\\n\",","    \"    \\n\",","    \"    #df2['W/L%'] = pd.to_numeric(df2['W/L%'])\\n\",","    \"    df3['W'] = pd.to_numeric(df3['W'])\\n\",","    \"    df3['L'] = pd.to_numeric(df3['L'])\\n\",","    \"    df3['Population (2016 est.)[8]'] = pd.to_numeric(df3['Population (2016 est.)[8]'])\\n\",","    \"    he = ['team','W','L','Metropolitan area','Population (2016 est.)[8]']\\n\",","    \"    df3 = df3[he]\\n\",","    \"    df3['W/L'] = df3['W']/(df3['L']+df3['W'])\\n\",","    \"    df3 = df3.groupby('Metropolitan area').mean().reset_index()\\n\",","    \"    \\n\",","    \"    return df3\\n\",","    \"\\n\",","    \"def nfl_correla(): \\n\",","    \"    # YOUR CODE HERE\\n\",","    \"    #raise NotImplementedError()\\n\",","    \"    \\n\",","    \"    nfl_df=pd.read_csv(\\\"assets/nfl.csv\\\")\\n\",","    \"    cities=pd.read_html(\\\"assets/wikipedia_data.html\\\")[1]\\n\",","    \"    cities=cities.iloc[:-1,[0,3,5,6,7,8]]\\n\",","    \"    \\n\",","    \"    nfl_df.drop([0,5,10,15,20,25,30,35],0,inplace=True)\\n\",","    \"    \\n\",","    \"    cities.drop([13,22,27,30,31,32,33,34,35,36,37,38,39,40,41,42,43,45,46,47,49,50],0,inplace=True)\\n\",","    \"    \\n\",","    \"    l1 = []\\n\",","    \"    for i in nfl_df['team']:\\n\",","    \"        #i=i.rstrip()\\n\",","    \"        i=i.split('*')\\n\",","    \"        l1.append(i[0])\\n\",","    \"    nfl_df['team'] = l1\\n\",","    \"    \\n\",","    \"    l2 = []\\n\",","    \"    for i in nfl_df['team']:\\n\",","    \"        i=i.split('+')\\n\",","    \"        l2.append(i[0])\\n\",","    \"    nfl_df['team'] = l2\\n\",","    \"    \\n\",","    \"    nfl_df = nfl_df.head(32)\\n\",","    \"    \\n\",","    \"    nfl_df['team_ville'] = nfl_df['team']\\n\",","    \"    nfl_df['team_ville'] = nfl_df['team_ville'].map({'New England Patriots':'Boston',\\n\",","    \"     'Miami Dolphins':'Miami–Fort Lauderdale',\\n\",","    \"     'Buffalo Bills':'Buffalo',\\n\",","    \"     'New York Jets':'New York City',\\n\",","    \"     'Baltimore Ravens':'Baltimore',\\n\",","    \"     'Pittsburgh Steelers':'Pittsburgh',\\n\",","    \"     'Cleveland Browns':'Cleveland',\\n\",","    \"     'Cincinnati Bengals':'Cincinnati',\\n\",","    \"     'Houston Texans':'Houston',\\n\",","    \"     'Indianapolis Colts':'Indianapolis',\\n\",","    \"     'Tennessee Titans':'Nashville',\\n\",","    \"     'Jacksonville Jaguars':'Jacksonville',\\n\",","    \"     'Kansas City Chiefs':'Kansas City',\\n\",","    \"     'Los Angeles Chargers':'Los Angeles',\\n\",","    \"     'Denver Broncos':'Denver',\\n\",","    \"     'Oakland Raiders':'San Francisco Bay Area',\\n\",","    \"     'Dallas Cowboys':'Dallas–Fort Worth',\\n\",","    \"     'Philadelphia Eagles':'Philadelphia',\\n\",","    \"     'Washington Redskins':'Washington, D.C.',\\n\",","    \"     'New York Giants':'New York City',\\n\",","    \"     'Chicago Bears':'Chicago',\\n\",","    \"     'Minnesota Vikings':'Minneapolis–Saint Paul',\\n\",","    \"     'Green Bay Packers':'Green Bay',\\n\",","    \"     'Detroit Lions':'Detroit',\\n\",","    \"     'New Orleans Saints':'New Orleans',\\n\",","    \"     'Carolina Panthers':'Charlotte',\\n\",","    \"     'Atlanta Falcons':'Atlanta',\\n\",","    \"     'Tampa Bay Buccaneers':'Tampa Bay Area',\\n\",","    \"     'Los Angeles Rams':'Los Angeles',\\n\",","    \"     'Seattle Seahawks':'Seattle',\\n\",","    \"     'San Francisco 49ers':'San Francisco Bay Area',\\n\",","    \"     'Arizona Cardinals':'Phoenix'}) \\n\",","    \"    \\n\",","    \"    df4 = pd.merge(nfl_df,cities, left_on= \\\"team_ville\\\", right_on= \\\"Metropolitan area\\\")\\n\",","    \"    \\n\",","    \"    \\n\",","    \"    df4['W'] = pd.to_numeric(df4['W'])\\n\",","    \"    df4['L'] = pd.to_numeric(df4['L'])\\n\",","    \"    df4['Population (2016 est.)[8]'] = pd.to_numeric(df4['Population (2016 est.)[8]'])\\n\",","    \"    he = ['team','W','L','Metropolitan area','Population (2016 est.)[8]']\\n\",","    \"    df4 = df4[he]\\n\",","    \"    df4['W/L'] = df4['W']/(df4['L']+df4['W'])\\n\",","    \"    df4 = df4.groupby('Metropolitan area').mean().reset_index()\\n\",","    \"    \\n\",","    \"    return df4\\n\",","    \"\\n\",","    \"\\n\",","    \"\\n\",","    \"\\n\",","    \"\\n\",","    \"def sports_team_performance():\\n\",","    \"    # YOUR CODE HERE\\n\",","    \"    #raise NotImplementedError()\\n\",","    \"    \\n\",","    \"    nfl = nfl_correla()\\n\",","    \"    nba = nba_correla()\\n\",","    \"    mlb = mlb_correla()\\n\",","    \"    nhl = nhl_correla()\\n\",","    \"\\n\",","    \"    nba_nfl = pd.merge(nba,nfl, on='Metropolitan area')\\n\",","    \"    pval_nba_nfl = stats.ttest_rel(nba_nfl['W/L_x'],nba_nfl['W/L_y'])[1]\\n\",","    \"    nba_nhl = pd.merge(nba,nhl, on='Metropolitan area')\\n\",","    \"    pval_nba_nhl = stats.ttest_rel(nba_nhl['W/L_x'],nba_nhl['W/L_y'])[1]\\n\",","    \"    mlb_nfl = pd.merge(mlb,nfl, on='Metropolitan area')\\n\",","    \"    pval_mlb_nfl = stats.ttest_rel(mlb_nfl['W/L_x'],mlb_nfl['W/L_y'])[1]\\n\",","    \"    mlb_nhl = pd.merge(mlb,nhl, on='Metropolitan area')\\n\",","    \"    pval_mlb_nhl = stats.ttest_rel(mlb_nhl['W/L_x'],mlb_nhl['W/L_y'])[1]\\n\",","    \"    mlb_nba = pd.merge(mlb,nba, on='Metropolitan area')\\n\",","    \"    pval_mlb_nba = stats.ttest_rel(mlb_nba['W/L_x'],mlb_nba['W/L_y'])[1]\\n\",","    \"    nhl_nfl = pd.merge(nhl,nfl, on='Metropolitan area')\\n\",","    \"    pval_nhl_nfl = stats.ttest_rel(nhl_nfl['W/L_x'],nhl_nfl['W/L_y'])[1]\\n\",","    \"    \\n\",","    \"    pv = {'NFL': {\\\"NFL\\\": np.nan, 'NBA': pval_nba_nfl, 'NHL': pval_nhl_nfl, 'MLB': pval_mlb_nfl},\\n\",","    \"       'NBA': {\\\"NFL\\\": pval_nba_nfl, 'NBA': np.nan, 'NHL': pval_nba_nhl, 'MLB': pval_mlb_nba},\\n\",","    \"       'NHL': {\\\"NFL\\\": pval_nhl_nfl, 'NBA': pval_nba_nhl, 'NHL': np.nan, 'MLB': pval_mlb_nhl},\\n\",","    \"       'MLB': {\\\"NFL\\\": pval_mlb_nfl, 'NBA': pval_mlb_nba, 'NHL': pval_mlb_nhl, 'MLB': np.nan}\\n\",","    \"      }\\n\",","    \"\\n\",","    \"    \\n\",","    \"    # Note: p_values is a full dataframe, so df.loc[\\\"NFL\\\",\\\"NBA\\\"] should be the same as df.loc[\\\"NBA\\\",\\\"NFL\\\"] and\\n\",","    \"    # df.loc[\\\"NFL\\\",\\\"NFL\\\"] should return np.nan\\n\",","    \"    #sports = ['NFL', 'NBA', 'NHL', 'MLB']\\n\",","    \"    #p_values = pd.DataFrame({k:np.nan for k in sports}, index=sports)\\n\",","    \"    p_values = pd.DataFrame(pv)\\n\",","    \"    \\n\",","    \"    assert abs(p_values.loc[\\\"NBA\\\", \\\"NHL\\\"] - 0.02) \u003c= 1e-2, \\\"The NBA-NHL p-value should be around 0.02\\\"\\n\",","    \"    assert abs(p_values.loc[\\\"MLB\\\", \\\"NFL\\\"] - 0.80) \u003c= 1e-2, \\\"The MLB-NFL p-value should be around 0.80\\\"\\n\",","    \"    return p_values\"","   ]","  },","  {","   \"cell_type\": \"code\",","   \"execution_count\": null,","   \"metadata\": {","    \"deletable\": false,","    \"editable\": false,","    \"nbgrader\": {","     \"checksum\": \"2a596ab421a45cc01168d10e8fbb8f89\",","     \"grade\": true,","     \"grade_id\": \"cell-fb4b9cb5ff4570a6\",","     \"locked\": true,","     \"points\": 20,","     \"schema_version\": 1,","     \"solution\": false","    }","   },","   \"outputs\": [],","   \"source\": []","  }"," ],"," \"metadata\": {","  \"coursera\": {","   \"schema_names\": [","    \"mooc_adswpy_1_v2_assignment4\"","   ]","  },","  \"kernelspec\": {","   \"display_name\": \"Python 3\",","   \"language\": \"python\",","   \"name\": \"python3\"","  },","  \"language_info\": {","   \"codemirror_mode\": {","    \"name\": \"ipython\",","    \"version\": 3","   },","   \"file_extension\": \".py\",","   \"mimetype\": \"text/x-python\",","   \"name\": \"python\",","   \"nbconvert_exporter\": \"python\",","   \"pygments_lexer\": \"ipython3\",","   \"version\": \"3.7.3\"","  }"," },"," \"nbformat\": 4,"," \"nbformat_minor\": 4","}"],"stylingDirectives":null,"csv":null,"csvError":null,"dependabotInfo":{"showConfigurationBanner":false,"configFilePath":null,"networkDependabotPath":"/tchagau/Introduction-to-Data-Science-in-Python/network/updates","dismissConfigurationNoticePath":"/settings/dismiss-notice/dependabot_configuration_notice","configurationNoticeDismissed":null,"repoAlertsPath":"/tchagau/Introduction-to-Data-Science-in-Python/security/dependabot","repoSecurityAndAnalysisPath":"/tchagau/Introduction-to-Data-Science-in-Python/settings/security_analysis","repoOwnerIsOrg":false,"currentUserCanAdminRepo":false},"displayName":"assignment4.ipynb","displayUrl":"https://notebooks.githubusercontent.com/view/ipynb?browser=chrome\u0026bypass_fastly=true\u0026color_mode=auto\u0026commit=1b70c894eeaf247707e7b5736f627f98a26e1a38\u0026device=unknown_device\u0026docs_host=https%3A%2F%2Fdocs.github.com\u0026enc_url=68747470733a2f2f7261772e67697468756275736572636f6e74656e742e636f6d2f746368616761752f496e74726f64756374696f6e2d746f2d446174612d536369656e63652d696e2d507974686f6e2f316237306338393465656166323437373037653762353733366636323766393861323665316133382f41737369676e6d656e745f342f61737369676e6d656e74342e6970796e62\u0026logged_in=false\u0026nwo=tchagau%2FIntroduction-to-Data-Science-in-Python\u0026path=Assignment_4%2Fassignment4.ipynb\u0026platform=windows\u0026repository_id=320946649\u0026repository_type=Repository\u0026version=117","headerInfo":{"blobSize":"39.6 KB","deleteInfo":{"deleteTooltip":"You must be signed in to make or propose changes"},"editInfo":{"editTooltip":"You must be signed in to make or propose changes"},"ghDesktopPath":"https://desktop.github.com","gitLfsPath":null,"onBranch":true,"shortPath":"c7767b6","siteNavLoginPath":"/login?return_to=https%3A%2F%2Fgithub.com%2Ftchagau%2FIntroduction-to-Data-Science-in-Python%2Fblob%2Fmain%2FAssignment_4%2Fassignment4.ipynb","isCSV":false,"isRichtext":false,"toc":null,"lineInfo":{"truncatedLoc":"1008","truncatedSloc":"1008"},"mode":"file"},"image":false,"isCodeownersFile":null,"isPlain":false,"isValidLegacyIssueTemplate":false,"issueTemplateHelpUrl":"https://docs.github.com/articles/about-issue-and-pull-request-templates","issueTemplate":null,"discussionTemplate":null,"language":"Jupyter Notebook","languageID":185,"large":false,"loggedIn":false,"newDiscussionPath":"/tchagau/Introduction-to-Data-Science-in-Python/discussions/new","newIssuePath":"/tchagau/Introduction-to-Data-Science-in-Python/issues/new","planSupportInfo":{"repoIsFork":null,"repoOwnedByCurrentUser":null,"requestFullPath":"/tchagau/Introduction-to-Data-Science-in-Python/blob/main/Assignment_4/assignment4.ipynb","showFreeOrgGatedFeatureMessage":null,"showPlanSupportBanner":null,"upgradeDataAttributes":null,"upgradePath":null},"publishBannersInfo":{"dismissActionNoticePath":"/settings/dismiss-notice/publish_action_from_dockerfile","dismissStackNoticePath":"/settings/dismiss-notice/publish_stack_from_file","releasePath":"/tchagau/Introduction-to-Data-Science-in-Python/releases/new?marketplace=true","showPublishActionBanner":false,"showPublishStackBanner":false},"renderImageOrRaw":false,"richText":null,"renderedFileInfo":{"identityUUID":"aabb92dd-8ca6-4d69-82e5-4e8f244ace2a","renderFileType":"ipynb","size":40518},"shortPath":null,"tabSize":8,"topBannersInfo":{"overridingGlobalFundingFile":false,"globalPreferredFundingPath":null,"repoOwner":"tchagau","repoName":"Introduction-to-Data-Science-in-Python","showInvalidCitationWarning":false,"citationHelpUrl":"https://docs.github.com/en/github/creating-cloning-and-archiving-repositories/creating-a-repository-on-github/about-citation-files","showDependabotConfigurationBanner":false,"actionsOnboardingTip":null},"truncated":false,"viewable":true,"workflowRedirectUrl":null,"symbols":{"timedOut":false,"notAnalyzed":true,"symbols":[]}},"copilotInfo":null,"csrf_tokens":{"/tchagau/Introduction-to-Data-Science-in-Python/branches":{"post":"uCex4hUCl5S8F_lu3uMktzSemOQeaciydBqJK4L7aPJp0LY8JwPg5NaBSskRF5k3ZLYkqZOW1-gUuEGCOntUuQ"},"/repos/preferences":{"post":"rlNjK105HQuck7iWVZhB-O1Y1YwGQTLCuuvADmz5DYSBPhNhymad0wE3XzNsTqrEOMyrvG2NjKJF-dD-qXMwWg"}}},"title":"Introduction-to-Data-Science-in-Python/Assignment_4/assignment4.ipynb at main · tchagau/Introduction-to-Data-Science-in-Python","appPayload":{"helpUrl":"https://docs.github.com","findFileWorkerPath":"/assets-cdn/worker/find-file-worker-83d4418b406d.js","findInFileWorkerPath":"/assets-cdn/worker/find-in-file-worker-2dd6b5095052.js","githubDevUrl":null,"enabled_features":{"code_nav_ui_events":false,"copilot_conversational_ux":false,"copilot_conversational_ux_symbols":false,"copilot_conversational_ux_direct_connection":false,"copilot_popover_file_editor_header":false,"copilot_smell_icebreaker_ux":false}}}</script>
  <div data-target="react-app.reactRoot"></div>
</react-app>
</turbo-frame>



  </div>

</turbo-frame>

    </main>
  </div>

  </div>

          <footer class="footer width-full container-xl p-responsive" role="contentinfo">
  <h2 class='sr-only'>Footer</h2>

  <div class="position-relative d-flex flex-items-center pb-2 f6 color-fg-muted border-top color-border-muted flex-column-reverse flex-lg-row flex-wrap flex-lg-nowrap mt-6 pt-6">
    <div class="list-style-none d-flex flex-wrap col-0 col-lg-2 flex-justify-start flex-lg-justify-between mb-2 mb-lg-0">
      <div class="mt-2 mt-lg-0 d-flex flex-items-center">
        <a aria-label="Homepage" title="GitHub" class="footer-octicon mr-2" href="https://github.com">
          <svg aria-hidden="true" height="24" viewBox="0 0 16 16" version="1.1" width="24" data-view-component="true" class="octicon octicon-mark-github">
    <path d="M8 0c4.42 0 8 3.58 8 8a8.013 8.013 0 0 1-5.45 7.59c-.4.08-.55-.17-.55-.38 0-.27.01-1.13.01-2.2 0-.75-.25-1.23-.54-1.48 1.78-.2 3.65-.88 3.65-3.95 0-.88-.31-1.59-.82-2.15.08-.2.36-1.02-.08-2.12 0 0-.67-.22-2.2.82-.64-.18-1.32-.27-2-.27-.68 0-1.36.09-2 .27-1.53-1.03-2.2-.82-2.2-.82-.44 1.1-.16 1.92-.08 2.12-.51.56-.82 1.28-.82 2.15 0 3.06 1.86 3.75 3.64 3.95-.23.2-.44.55-.51 1.07-.46.21-1.61.55-2.33-.66-.15-.24-.6-.83-1.23-.82-.67.01-.27.38.01.53.34.19.73.9.82 1.13.16.45.68 1.31 2.69.94 0 .67.01 1.3.01 1.49 0 .21-.15.45-.55.38A7.995 7.995 0 0 1 0 8c0-4.42 3.58-8 8-8Z"></path>
</svg>
</a>        <span>
        &copy; 2023 GitHub, Inc.
        </span>
      </div>
    </div>

    <nav aria-label='Footer' class="col-12 col-lg-8">
      <h3 class='sr-only' id='sr-footer-heading'>Footer navigation</h3>
      <ul class="list-style-none d-flex flex-wrap col-12 flex-justify-center flex-lg-justify-between mb-2 mb-lg-0" aria-labelledby='sr-footer-heading'>
          <li class="mr-3 mr-lg-0"><a href="https://docs.github.com/site-policy/github-terms/github-terms-of-service" data-analytics-event="{&quot;category&quot;:&quot;Footer&quot;,&quot;action&quot;:&quot;go to terms&quot;,&quot;label&quot;:&quot;text:terms&quot;}">Terms</a></li>
          <li class="mr-3 mr-lg-0"><a href="https://docs.github.com/site-policy/privacy-policies/github-privacy-statement" data-analytics-event="{&quot;category&quot;:&quot;Footer&quot;,&quot;action&quot;:&quot;go to privacy&quot;,&quot;label&quot;:&quot;text:privacy&quot;}">Privacy</a></li>
          <li class="mr-3 mr-lg-0"><a data-analytics-event="{&quot;category&quot;:&quot;Footer&quot;,&quot;action&quot;:&quot;go to security&quot;,&quot;label&quot;:&quot;text:security&quot;}" href="https://github.com/security">Security</a></li>
          <li class="mr-3 mr-lg-0"><a href="https://www.githubstatus.com/" data-analytics-event="{&quot;category&quot;:&quot;Footer&quot;,&quot;action&quot;:&quot;go to status&quot;,&quot;label&quot;:&quot;text:status&quot;}">Status</a></li>
          <li class="mr-3 mr-lg-0"><a data-ga-click="Footer, go to help, text:Docs" href="https://docs.github.com">Docs</a></li>
          <li class="mr-3 mr-lg-0"><a href="https://support.github.com?tags=dotcom-footer" data-analytics-event="{&quot;category&quot;:&quot;Footer&quot;,&quot;action&quot;:&quot;go to contact&quot;,&quot;label&quot;:&quot;text:contact&quot;}">Contact GitHub</a></li>
          <li class="mr-3 mr-lg-0"><a href="https://github.com/pricing" data-analytics-event="{&quot;category&quot;:&quot;Footer&quot;,&quot;action&quot;:&quot;go to Pricing&quot;,&quot;label&quot;:&quot;text:Pricing&quot;}">Pricing</a></li>
        <li class="mr-3 mr-lg-0"><a href="https://docs.github.com" data-analytics-event="{&quot;category&quot;:&quot;Footer&quot;,&quot;action&quot;:&quot;go to api&quot;,&quot;label&quot;:&quot;text:api&quot;}">API</a></li>
        <li class="mr-3 mr-lg-0"><a href="https://services.github.com" data-analytics-event="{&quot;category&quot;:&quot;Footer&quot;,&quot;action&quot;:&quot;go to training&quot;,&quot;label&quot;:&quot;text:training&quot;}">Training</a></li>
          <li class="mr-3 mr-lg-0"><a href="https://github.blog" data-analytics-event="{&quot;category&quot;:&quot;Footer&quot;,&quot;action&quot;:&quot;go to blog&quot;,&quot;label&quot;:&quot;text:blog&quot;}">Blog</a></li>
          <li><a data-ga-click="Footer, go to about, text:about" href="https://github.com/about">About</a></li>
      </ul>
    </nav>
  </div>

  <div class="d-flex flex-justify-center pb-6">
    <span class="f6 color-fg-muted"></span>
  </div>
</footer>




  <div id="ajax-error-message" class="ajax-error-message flash flash-error" hidden>
    <svg aria-hidden="true" height="16" viewBox="0 0 16 16" version="1.1" width="16" data-view-component="true" class="octicon octicon-alert">
    <path d="M6.457 1.047c.659-1.234 2.427-1.234 3.086 0l6.082 11.378A1.75 1.75 0 0 1 14.082 15H1.918a1.75 1.75 0 0 1-1.543-2.575Zm1.763.707a.25.25 0 0 0-.44 0L1.698 13.132a.25.25 0 0 0 .22.368h12.164a.25.25 0 0 0 .22-.368Zm.53 3.996v2.5a.75.75 0 0 1-1.5 0v-2.5a.75.75 0 0 1 1.5 0ZM9 11a1 1 0 1 1-2 0 1 1 0 0 1 2 0Z"></path>
</svg>
    <button type="button" class="flash-close js-ajax-error-dismiss" aria-label="Dismiss error">
      <svg aria-hidden="true" height="16" viewBox="0 0 16 16" version="1.1" width="16" data-view-component="true" class="octicon octicon-x">
    <path d="M3.72 3.72a.75.75 0 0 1 1.06 0L8 6.94l3.22-3.22a.749.749 0 0 1 1.275.326.749.749 0 0 1-.215.734L9.06 8l3.22 3.22a.749.749 0 0 1-.326 1.275.749.749 0 0 1-.734-.215L8 9.06l-3.22 3.22a.751.751 0 0 1-1.042-.018.751.751 0 0 1-.018-1.042L6.94 8 3.72 4.78a.75.75 0 0 1 0-1.06Z"></path>
</svg>
    </button>
    You can’t perform that action at this time.
  </div>

    <template id="site-details-dialog">
  <details class="details-reset details-overlay details-overlay-dark lh-default color-fg-default hx_rsm" open>
    <summary role="button" aria-label="Close dialog"></summary>
    <details-dialog class="Box Box--overlay d-flex flex-column anim-fade-in fast hx_rsm-dialog hx_rsm-modal">
      <button class="Box-btn-octicon m-0 btn-octicon position-absolute right-0 top-0" type="button" aria-label="Close dialog" data-close-dialog>
        <svg aria-hidden="true" height="16" viewBox="0 0 16 16" version="1.1" width="16" data-view-component="true" class="octicon octicon-x">
    <path d="M3.72 3.72a.75.75 0 0 1 1.06 0L8 6.94l3.22-3.22a.749.749 0 0 1 1.275.326.749.749 0 0 1-.215.734L9.06 8l3.22 3.22a.749.749 0 0 1-.326 1.275.749.749 0 0 1-.734-.215L8 9.06l-3.22 3.22a.751.751 0 0 1-1.042-.018.751.751 0 0 1-.018-1.042L6.94 8 3.72 4.78a.75.75 0 0 1 0-1.06Z"></path>
</svg>
      </button>
      <div class="octocat-spinner my-6 js-details-dialog-spinner"></div>
    </details-dialog>
  </details>
</template>

    <div class="Popover js-hovercard-content position-absolute" style="display: none; outline: none;" tabindex="0">
  <div class="Popover-message Popover-message--bottom-left Popover-message--large Box color-shadow-large" style="width:360px;">
  </div>
</div>

    <template id="snippet-clipboard-copy-button">
  <div class="zeroclipboard-container position-absolute right-0 top-0">
    <clipboard-copy aria-label="Copy" class="ClipboardButton btn js-clipboard-copy m-2 p-0 tooltipped-no-delay" data-copy-feedback="Copied!" data-tooltip-direction="w">
      <svg aria-hidden="true" height="16" viewBox="0 0 16 16" version="1.1" width="16" data-view-component="true" class="octicon octicon-copy js-clipboard-copy-icon m-2">
    <path d="M0 6.75C0 5.784.784 5 1.75 5h1.5a.75.75 0 0 1 0 1.5h-1.5a.25.25 0 0 0-.25.25v7.5c0 .138.112.25.25.25h7.5a.25.25 0 0 0 .25-.25v-1.5a.75.75 0 0 1 1.5 0v1.5A1.75 1.75 0 0 1 9.25 16h-7.5A1.75 1.75 0 0 1 0 14.25Z"></path><path d="M5 1.75C5 .784 5.784 0 6.75 0h7.5C15.216 0 16 .784 16 1.75v7.5A1.75 1.75 0 0 1 14.25 11h-7.5A1.75 1.75 0 0 1 5 9.25Zm1.75-.25a.25.25 0 0 0-.25.25v7.5c0 .138.112.25.25.25h7.5a.25.25 0 0 0 .25-.25v-7.5a.25.25 0 0 0-.25-.25Z"></path>
</svg>
      <svg aria-hidden="true" height="16" viewBox="0 0 16 16" version="1.1" width="16" data-view-component="true" class="octicon octicon-check js-clipboard-check-icon color-fg-success d-none m-2">
    <path d="M13.78 4.22a.75.75 0 0 1 0 1.06l-7.25 7.25a.75.75 0 0 1-1.06 0L2.22 9.28a.751.751 0 0 1 .018-1.042.751.751 0 0 1 1.042-.018L6 10.94l6.72-6.72a.75.75 0 0 1 1.06 0Z"></path>
</svg>
    </clipboard-copy>
  </div>
</template>
<template id="snippet-clipboard-copy-button-unpositioned">
  <div class="zeroclipboard-container">
    <clipboard-copy aria-label="Copy" class="ClipboardButton btn btn-invisible js-clipboard-copy m-2 p-0 tooltipped-no-delay d-flex flex-justify-center flex-items-center" data-copy-feedback="Copied!" data-tooltip-direction="w">
      <svg aria-hidden="true" height="16" viewBox="0 0 16 16" version="1.1" width="16" data-view-component="true" class="octicon octicon-copy js-clipboard-copy-icon">
    <path d="M0 6.75C0 5.784.784 5 1.75 5h1.5a.75.75 0 0 1 0 1.5h-1.5a.25.25 0 0 0-.25.25v7.5c0 .138.112.25.25.25h7.5a.25.25 0 0 0 .25-.25v-1.5a.75.75 0 0 1 1.5 0v1.5A1.75 1.75 0 0 1 9.25 16h-7.5A1.75 1.75 0 0 1 0 14.25Z"></path><path d="M5 1.75C5 .784 5.784 0 6.75 0h7.5C15.216 0 16 .784 16 1.75v7.5A1.75 1.75 0 0 1 14.25 11h-7.5A1.75 1.75 0 0 1 5 9.25Zm1.75-.25a.25.25 0 0 0-.25.25v7.5c0 .138.112.25.25.25h7.5a.25.25 0 0 0 .25-.25v-7.5a.25.25 0 0 0-.25-.25Z"></path>
</svg>
      <svg aria-hidden="true" height="16" viewBox="0 0 16 16" version="1.1" width="16" data-view-component="true" class="octicon octicon-check js-clipboard-check-icon color-fg-success d-none">
    <path d="M13.78 4.22a.75.75 0 0 1 0 1.06l-7.25 7.25a.75.75 0 0 1-1.06 0L2.22 9.28a.751.751 0 0 1 .018-1.042.751.751 0 0 1 1.042-.018L6 10.94l6.72-6.72a.75.75 0 0 1 1.06 0Z"></path>
</svg>
    </clipboard-copy>
  </div>
</template>




    </div>

    <div id="js-global-screen-reader-notice" class="sr-only" aria-live="polite" ></div>
  </body>
</html>

